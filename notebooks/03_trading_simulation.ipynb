{
 "cells": [
  {
   "cell_type": "code",
   "execution_count": 9,
   "metadata": {},
   "outputs": [
    {
     "name": "stdout",
     "output_type": "stream",
     "text": [
      "\u001b[1m1/1\u001b[0m \u001b[32m━━━━━━━━━━━━━━━━━━━━\u001b[0m\u001b[37m\u001b[0m \u001b[1m0s\u001b[0m 310ms/step\n",
      "\u001b[1m1/1\u001b[0m \u001b[32m━━━━━━━━━━━━━━━━━━━━\u001b[0m\u001b[37m\u001b[0m \u001b[1m0s\u001b[0m 454ms/step\n",
      "\u001b[1m1/1\u001b[0m \u001b[32m━━━━━━━━━━━━━━━━━━━━\u001b[0m\u001b[37m\u001b[0m \u001b[1m0s\u001b[0m 249ms/step\n",
      "\u001b[1m1/1\u001b[0m \u001b[32m━━━━━━━━━━━━━━━━━━━━\u001b[0m\u001b[37m\u001b[0m \u001b[1m0s\u001b[0m 261ms/step\n",
      "WARNING:tensorflow:5 out of the last 5 calls to <function TensorFlowTrainer.make_predict_function.<locals>.one_step_on_data_distributed at 0x000001B8647FD300> triggered tf.function retracing. Tracing is expensive and the excessive number of tracings could be due to (1) creating @tf.function repeatedly in a loop, (2) passing tensors with different shapes, (3) passing Python objects instead of tensors. For (1), please define your @tf.function outside of the loop. For (2), @tf.function has reduce_retracing=True option that can avoid unnecessary retracing. For (3), please refer to https://www.tensorflow.org/guide/function#controlling_retracing and https://www.tensorflow.org/api_docs/python/tf/function for  more details.\n",
      "\u001b[1m1/1\u001b[0m \u001b[32m━━━━━━━━━━━━━━━━━━━━\u001b[0m\u001b[37m\u001b[0m \u001b[1m0s\u001b[0m 285ms/step\n",
      "Time: 21:00\n",
      "Number of sellers: 0\n",
      "Number of buyers: 5\n",
      "WARNING:tensorflow:6 out of the last 6 calls to <function TensorFlowTrainer.make_predict_function.<locals>.one_step_on_data_distributed at 0x000001B86339DD00> triggered tf.function retracing. Tracing is expensive and the excessive number of tracings could be due to (1) creating @tf.function repeatedly in a loop, (2) passing tensors with different shapes, (3) passing Python objects instead of tensors. For (1), please define your @tf.function outside of the loop. For (2), @tf.function has reduce_retracing=True option that can avoid unnecessary retracing. For (3), please refer to https://www.tensorflow.org/guide/function#controlling_retracing and https://www.tensorflow.org/api_docs/python/tf/function for  more details.\n",
      "\u001b[1m1/1\u001b[0m \u001b[32m━━━━━━━━━━━━━━━━━━━━\u001b[0m\u001b[37m\u001b[0m \u001b[1m0s\u001b[0m 410ms/step\n",
      "\u001b[1m1/1\u001b[0m \u001b[32m━━━━━━━━━━━━━━━━━━━━\u001b[0m\u001b[37m\u001b[0m \u001b[1m0s\u001b[0m 481ms/step\n",
      "\u001b[1m1/1\u001b[0m \u001b[32m━━━━━━━━━━━━━━━━━━━━\u001b[0m\u001b[37m\u001b[0m \u001b[1m1s\u001b[0m 524ms/step\n",
      "\u001b[1m1/1\u001b[0m \u001b[32m━━━━━━━━━━━━━━━━━━━━\u001b[0m\u001b[37m\u001b[0m \u001b[1m0s\u001b[0m 489ms/step\n",
      "\u001b[1m1/1\u001b[0m \u001b[32m━━━━━━━━━━━━━━━━━━━━\u001b[0m\u001b[37m\u001b[0m \u001b[1m0s\u001b[0m 458ms/step\n",
      "Time: 21:00\n",
      "Number of sellers: 0\n",
      "Number of buyers: 5\n",
      "\u001b[1m1/1\u001b[0m \u001b[32m━━━━━━━━━━━━━━━━━━━━\u001b[0m\u001b[37m\u001b[0m \u001b[1m0s\u001b[0m 54ms/step\n",
      "\u001b[1m1/1\u001b[0m \u001b[32m━━━━━━━━━━━━━━━━━━━━\u001b[0m\u001b[37m\u001b[0m \u001b[1m0s\u001b[0m 63ms/step\n",
      "\u001b[1m1/1\u001b[0m \u001b[32m━━━━━━━━━━━━━━━━━━━━\u001b[0m\u001b[37m\u001b[0m \u001b[1m0s\u001b[0m 57ms/step\n",
      "\u001b[1m1/1\u001b[0m \u001b[32m━━━━━━━━━━━━━━━━━━━━\u001b[0m\u001b[37m\u001b[0m \u001b[1m0s\u001b[0m 32ms/step\n",
      "\u001b[1m1/1\u001b[0m \u001b[32m━━━━━━━━━━━━━━━━━━━━\u001b[0m\u001b[37m\u001b[0m \u001b[1m0s\u001b[0m 37ms/step\n",
      "Time: 21:00\n",
      "Number of sellers: 0\n",
      "Number of buyers: 5\n",
      "\u001b[1m1/1\u001b[0m \u001b[32m━━━━━━━━━━━━━━━━━━━━\u001b[0m\u001b[37m\u001b[0m \u001b[1m0s\u001b[0m 54ms/step\n",
      "\u001b[1m1/1\u001b[0m \u001b[32m━━━━━━━━━━━━━━━━━━━━\u001b[0m\u001b[37m\u001b[0m \u001b[1m0s\u001b[0m 47ms/step\n",
      "\u001b[1m1/1\u001b[0m \u001b[32m━━━━━━━━━━━━━━━━━━━━\u001b[0m\u001b[37m\u001b[0m \u001b[1m0s\u001b[0m 64ms/step\n",
      "\u001b[1m1/1\u001b[0m \u001b[32m━━━━━━━━━━━━━━━━━━━━\u001b[0m\u001b[37m\u001b[0m \u001b[1m0s\u001b[0m 55ms/step\n",
      "\u001b[1m1/1\u001b[0m \u001b[32m━━━━━━━━━━━━━━━━━━━━\u001b[0m\u001b[37m\u001b[0m \u001b[1m0s\u001b[0m 75ms/step\n",
      "Time: 21:00\n",
      "Number of sellers: 0\n",
      "Number of buyers: 5\n",
      "\u001b[1m1/1\u001b[0m \u001b[32m━━━━━━━━━━━━━━━━━━━━\u001b[0m\u001b[37m\u001b[0m \u001b[1m0s\u001b[0m 57ms/step\n",
      "\u001b[1m1/1\u001b[0m \u001b[32m━━━━━━━━━━━━━━━━━━━━\u001b[0m\u001b[37m\u001b[0m \u001b[1m0s\u001b[0m 73ms/step\n",
      "\u001b[1m1/1\u001b[0m \u001b[32m━━━━━━━━━━━━━━━━━━━━\u001b[0m\u001b[37m\u001b[0m \u001b[1m0s\u001b[0m 53ms/step\n",
      "\u001b[1m1/1\u001b[0m \u001b[32m━━━━━━━━━━━━━━━━━━━━\u001b[0m\u001b[37m\u001b[0m \u001b[1m0s\u001b[0m 48ms/step\n",
      "\u001b[1m1/1\u001b[0m \u001b[32m━━━━━━━━━━━━━━━━━━━━\u001b[0m\u001b[37m\u001b[0m \u001b[1m0s\u001b[0m 53ms/step\n",
      "Time: 21:00\n",
      "Number of sellers: 0\n",
      "Number of buyers: 5\n",
      "\u001b[1m1/1\u001b[0m \u001b[32m━━━━━━━━━━━━━━━━━━━━\u001b[0m\u001b[37m\u001b[0m \u001b[1m0s\u001b[0m 64ms/step\n",
      "\u001b[1m1/1\u001b[0m \u001b[32m━━━━━━━━━━━━━━━━━━━━\u001b[0m\u001b[37m\u001b[0m \u001b[1m0s\u001b[0m 42ms/step\n",
      "\u001b[1m1/1\u001b[0m \u001b[32m━━━━━━━━━━━━━━━━━━━━\u001b[0m\u001b[37m\u001b[0m \u001b[1m0s\u001b[0m 62ms/step\n",
      "\u001b[1m1/1\u001b[0m \u001b[32m━━━━━━━━━━━━━━━━━━━━\u001b[0m\u001b[37m\u001b[0m \u001b[1m0s\u001b[0m 60ms/step\n",
      "\u001b[1m1/1\u001b[0m \u001b[32m━━━━━━━━━━━━━━━━━━━━\u001b[0m\u001b[37m\u001b[0m \u001b[1m0s\u001b[0m 43ms/step\n",
      "Time: 21:00\n",
      "Number of sellers: 0\n",
      "Number of buyers: 5\n",
      "\u001b[1m1/1\u001b[0m \u001b[32m━━━━━━━━━━━━━━━━━━━━\u001b[0m\u001b[37m\u001b[0m \u001b[1m0s\u001b[0m 43ms/step\n",
      "\u001b[1m1/1\u001b[0m \u001b[32m━━━━━━━━━━━━━━━━━━━━\u001b[0m\u001b[37m\u001b[0m \u001b[1m0s\u001b[0m 44ms/step\n",
      "\u001b[1m1/1\u001b[0m \u001b[32m━━━━━━━━━━━━━━━━━━━━\u001b[0m\u001b[37m\u001b[0m \u001b[1m0s\u001b[0m 48ms/step\n",
      "\u001b[1m1/1\u001b[0m \u001b[32m━━━━━━━━━━━━━━━━━━━━\u001b[0m\u001b[37m\u001b[0m \u001b[1m0s\u001b[0m 58ms/step\n",
      "\u001b[1m1/1\u001b[0m \u001b[32m━━━━━━━━━━━━━━━━━━━━\u001b[0m\u001b[37m\u001b[0m \u001b[1m0s\u001b[0m 47ms/step\n",
      "Time: 21:00\n",
      "Number of sellers: 0\n",
      "Number of buyers: 5\n",
      "\u001b[1m1/1\u001b[0m \u001b[32m━━━━━━━━━━━━━━━━━━━━\u001b[0m\u001b[37m\u001b[0m \u001b[1m0s\u001b[0m 41ms/step\n",
      "\u001b[1m1/1\u001b[0m \u001b[32m━━━━━━━━━━━━━━━━━━━━\u001b[0m\u001b[37m\u001b[0m \u001b[1m0s\u001b[0m 53ms/step\n",
      "\u001b[1m1/1\u001b[0m \u001b[32m━━━━━━━━━━━━━━━━━━━━\u001b[0m\u001b[37m\u001b[0m \u001b[1m0s\u001b[0m 43ms/step\n",
      "\u001b[1m1/1\u001b[0m \u001b[32m━━━━━━━━━━━━━━━━━━━━\u001b[0m\u001b[37m\u001b[0m \u001b[1m0s\u001b[0m 43ms/step\n",
      "\u001b[1m1/1\u001b[0m \u001b[32m━━━━━━━━━━━━━━━━━━━━\u001b[0m\u001b[37m\u001b[0m \u001b[1m0s\u001b[0m 47ms/step\n",
      "Time: 21:00\n",
      "Number of sellers: 0\n",
      "Number of buyers: 5\n",
      "\u001b[1m1/1\u001b[0m \u001b[32m━━━━━━━━━━━━━━━━━━━━\u001b[0m\u001b[37m\u001b[0m \u001b[1m0s\u001b[0m 50ms/step\n",
      "\u001b[1m1/1\u001b[0m \u001b[32m━━━━━━━━━━━━━━━━━━━━\u001b[0m\u001b[37m\u001b[0m \u001b[1m0s\u001b[0m 48ms/step\n",
      "\u001b[1m1/1\u001b[0m \u001b[32m━━━━━━━━━━━━━━━━━━━━\u001b[0m\u001b[37m\u001b[0m \u001b[1m0s\u001b[0m 33ms/step\n",
      "\u001b[1m1/1\u001b[0m \u001b[32m━━━━━━━━━━━━━━━━━━━━\u001b[0m\u001b[37m\u001b[0m \u001b[1m0s\u001b[0m 32ms/step\n",
      "\u001b[1m1/1\u001b[0m \u001b[32m━━━━━━━━━━━━━━━━━━━━\u001b[0m\u001b[37m\u001b[0m \u001b[1m0s\u001b[0m 43ms/step\n",
      "Time: 21:00\n",
      "Number of sellers: 0\n",
      "Number of buyers: 5\n",
      "\u001b[1m1/1\u001b[0m \u001b[32m━━━━━━━━━━━━━━━━━━━━\u001b[0m\u001b[37m\u001b[0m \u001b[1m0s\u001b[0m 38ms/step\n",
      "\u001b[1m1/1\u001b[0m \u001b[32m━━━━━━━━━━━━━━━━━━━━\u001b[0m\u001b[37m\u001b[0m \u001b[1m0s\u001b[0m 53ms/step\n",
      "\u001b[1m1/1\u001b[0m \u001b[32m━━━━━━━━━━━━━━━━━━━━\u001b[0m\u001b[37m\u001b[0m \u001b[1m0s\u001b[0m 64ms/step\n",
      "\u001b[1m1/1\u001b[0m \u001b[32m━━━━━━━━━━━━━━━━━━━━\u001b[0m\u001b[37m\u001b[0m \u001b[1m0s\u001b[0m 48ms/step\n",
      "\u001b[1m1/1\u001b[0m \u001b[32m━━━━━━━━━━━━━━━━━━━━\u001b[0m\u001b[37m\u001b[0m \u001b[1m0s\u001b[0m 31ms/step\n",
      "Time: 21:00\n",
      "Number of sellers: 0\n",
      "Number of buyers: 5\n",
      "\u001b[1m1/1\u001b[0m \u001b[32m━━━━━━━━━━━━━━━━━━━━\u001b[0m\u001b[37m\u001b[0m \u001b[1m0s\u001b[0m 45ms/step\n",
      "\u001b[1m1/1\u001b[0m \u001b[32m━━━━━━━━━━━━━━━━━━━━\u001b[0m\u001b[37m\u001b[0m \u001b[1m0s\u001b[0m 60ms/step\n",
      "\u001b[1m1/1\u001b[0m \u001b[32m━━━━━━━━━━━━━━━━━━━━\u001b[0m\u001b[37m\u001b[0m \u001b[1m0s\u001b[0m 27ms/step\n",
      "\u001b[1m1/1\u001b[0m \u001b[32m━━━━━━━━━━━━━━━━━━━━\u001b[0m\u001b[37m\u001b[0m \u001b[1m0s\u001b[0m 40ms/step\n",
      "\u001b[1m1/1\u001b[0m \u001b[32m━━━━━━━━━━━━━━━━━━━━\u001b[0m\u001b[37m\u001b[0m \u001b[1m0s\u001b[0m 47ms/step\n",
      "Time: 21:00\n",
      "Number of sellers: 2\n",
      "Number of buyers: 3\n",
      "Current market price: $0.3352/kWh\n",
      "\u001b[1m1/1\u001b[0m \u001b[32m━━━━━━━━━━━━━━━━━━━━\u001b[0m\u001b[37m\u001b[0m \u001b[1m0s\u001b[0m 52ms/step\n",
      "\u001b[1m1/1\u001b[0m \u001b[32m━━━━━━━━━━━━━━━━━━━━\u001b[0m\u001b[37m\u001b[0m \u001b[1m0s\u001b[0m 47ms/step\n",
      "\u001b[1m1/1\u001b[0m \u001b[32m━━━━━━━━━━━━━━━━━━━━\u001b[0m\u001b[37m\u001b[0m \u001b[1m0s\u001b[0m 51ms/step\n",
      "\u001b[1m1/1\u001b[0m \u001b[32m━━━━━━━━━━━━━━━━━━━━\u001b[0m\u001b[37m\u001b[0m \u001b[1m0s\u001b[0m 29ms/step\n",
      "\u001b[1m1/1\u001b[0m \u001b[32m━━━━━━━━━━━━━━━━━━━━\u001b[0m\u001b[37m\u001b[0m \u001b[1m0s\u001b[0m 38ms/step\n",
      "Time: 21:00\n",
      "Number of sellers: 2\n",
      "Number of buyers: 3\n",
      "Current market price: $0.2976/kWh\n",
      "\u001b[1m1/1\u001b[0m \u001b[32m━━━━━━━━━━━━━━━━━━━━\u001b[0m\u001b[37m\u001b[0m \u001b[1m0s\u001b[0m 44ms/step\n",
      "\u001b[1m1/1\u001b[0m \u001b[32m━━━━━━━━━━━━━━━━━━━━\u001b[0m\u001b[37m\u001b[0m \u001b[1m0s\u001b[0m 48ms/step\n",
      "\u001b[1m1/1\u001b[0m \u001b[32m━━━━━━━━━━━━━━━━━━━━\u001b[0m\u001b[37m\u001b[0m \u001b[1m0s\u001b[0m 42ms/step\n",
      "\u001b[1m1/1\u001b[0m \u001b[32m━━━━━━━━━━━━━━━━━━━━\u001b[0m\u001b[37m\u001b[0m \u001b[1m0s\u001b[0m 38ms/step\n",
      "\u001b[1m1/1\u001b[0m \u001b[32m━━━━━━━━━━━━━━━━━━━━\u001b[0m\u001b[37m\u001b[0m \u001b[1m0s\u001b[0m 40ms/step\n",
      "Time: 21:00\n",
      "Number of sellers: 2\n",
      "Number of buyers: 3\n",
      "Current market price: $0.3245/kWh\n",
      "\u001b[1m1/1\u001b[0m \u001b[32m━━━━━━━━━━━━━━━━━━━━\u001b[0m\u001b[37m\u001b[0m \u001b[1m0s\u001b[0m 49ms/step\n",
      "\u001b[1m1/1\u001b[0m \u001b[32m━━━━━━━━━━━━━━━━━━━━\u001b[0m\u001b[37m\u001b[0m \u001b[1m0s\u001b[0m 60ms/step\n",
      "\u001b[1m1/1\u001b[0m \u001b[32m━━━━━━━━━━━━━━━━━━━━\u001b[0m\u001b[37m\u001b[0m \u001b[1m0s\u001b[0m 66ms/step\n",
      "\u001b[1m1/1\u001b[0m \u001b[32m━━━━━━━━━━━━━━━━━━━━\u001b[0m\u001b[37m\u001b[0m \u001b[1m0s\u001b[0m 32ms/step\n",
      "\u001b[1m1/1\u001b[0m \u001b[32m━━━━━━━━━━━━━━━━━━━━\u001b[0m\u001b[37m\u001b[0m \u001b[1m0s\u001b[0m 51ms/step\n",
      "Time: 21:00\n",
      "Number of sellers: 2\n",
      "Number of buyers: 3\n",
      "Current market price: $0.2970/kWh\n",
      "\u001b[1m1/1\u001b[0m \u001b[32m━━━━━━━━━━━━━━━━━━━━\u001b[0m\u001b[37m\u001b[0m \u001b[1m0s\u001b[0m 41ms/step\n",
      "\u001b[1m1/1\u001b[0m \u001b[32m━━━━━━━━━━━━━━━━━━━━\u001b[0m\u001b[37m\u001b[0m \u001b[1m0s\u001b[0m 42ms/step\n",
      "\u001b[1m1/1\u001b[0m \u001b[32m━━━━━━━━━━━━━━━━━━━━\u001b[0m\u001b[37m\u001b[0m \u001b[1m0s\u001b[0m 57ms/step\n",
      "\u001b[1m1/1\u001b[0m \u001b[32m━━━━━━━━━━━━━━━━━━━━\u001b[0m\u001b[37m\u001b[0m \u001b[1m0s\u001b[0m 41ms/step\n",
      "\u001b[1m1/1\u001b[0m \u001b[32m━━━━━━━━━━━━━━━━━━━━\u001b[0m\u001b[37m\u001b[0m \u001b[1m0s\u001b[0m 38ms/step\n",
      "Time: 21:00\n",
      "Number of sellers: 2\n",
      "Number of buyers: 3\n",
      "Current market price: $0.3093/kWh\n",
      "\u001b[1m1/1\u001b[0m \u001b[32m━━━━━━━━━━━━━━━━━━━━\u001b[0m\u001b[37m\u001b[0m \u001b[1m0s\u001b[0m 44ms/step\n",
      "\u001b[1m1/1\u001b[0m \u001b[32m━━━━━━━━━━━━━━━━━━━━\u001b[0m\u001b[37m\u001b[0m \u001b[1m0s\u001b[0m 30ms/step\n",
      "\u001b[1m1/1\u001b[0m \u001b[32m━━━━━━━━━━━━━━━━━━━━\u001b[0m\u001b[37m\u001b[0m \u001b[1m0s\u001b[0m 32ms/step\n",
      "\u001b[1m1/1\u001b[0m \u001b[32m━━━━━━━━━━━━━━━━━━━━\u001b[0m\u001b[37m\u001b[0m \u001b[1m0s\u001b[0m 34ms/step\n",
      "\u001b[1m1/1\u001b[0m \u001b[32m━━━━━━━━━━━━━━━━━━━━\u001b[0m\u001b[37m\u001b[0m \u001b[1m0s\u001b[0m 31ms/step\n",
      "Time: 21:00\n",
      "Number of sellers: 2\n",
      "Number of buyers: 3\n",
      "Current market price: $0.3199/kWh\n",
      "\u001b[1m1/1\u001b[0m \u001b[32m━━━━━━━━━━━━━━━━━━━━\u001b[0m\u001b[37m\u001b[0m \u001b[1m0s\u001b[0m 32ms/step\n",
      "\u001b[1m1/1\u001b[0m \u001b[32m━━━━━━━━━━━━━━━━━━━━\u001b[0m\u001b[37m\u001b[0m \u001b[1m0s\u001b[0m 52ms/step\n",
      "\u001b[1m1/1\u001b[0m \u001b[32m━━━━━━━━━━━━━━━━━━━━\u001b[0m\u001b[37m\u001b[0m \u001b[1m0s\u001b[0m 31ms/step\n",
      "\u001b[1m1/1\u001b[0m \u001b[32m━━━━━━━━━━━━━━━━━━━━\u001b[0m\u001b[37m\u001b[0m \u001b[1m0s\u001b[0m 32ms/step\n",
      "\u001b[1m1/1\u001b[0m \u001b[32m━━━━━━━━━━━━━━━━━━━━\u001b[0m\u001b[37m\u001b[0m \u001b[1m0s\u001b[0m 37ms/step\n",
      "Time: 21:00\n",
      "Number of sellers: 2\n",
      "Number of buyers: 3\n",
      "Current market price: $0.3295/kWh\n",
      "\u001b[1m1/1\u001b[0m \u001b[32m━━━━━━━━━━━━━━━━━━━━\u001b[0m\u001b[37m\u001b[0m \u001b[1m0s\u001b[0m 22ms/step\n",
      "\u001b[1m1/1\u001b[0m \u001b[32m━━━━━━━━━━━━━━━━━━━━\u001b[0m\u001b[37m\u001b[0m \u001b[1m0s\u001b[0m 32ms/step\n",
      "\u001b[1m1/1\u001b[0m \u001b[32m━━━━━━━━━━━━━━━━━━━━\u001b[0m\u001b[37m\u001b[0m \u001b[1m0s\u001b[0m 43ms/step\n",
      "\u001b[1m1/1\u001b[0m \u001b[32m━━━━━━━━━━━━━━━━━━━━\u001b[0m\u001b[37m\u001b[0m \u001b[1m0s\u001b[0m 39ms/step\n",
      "\u001b[1m1/1\u001b[0m \u001b[32m━━━━━━━━━━━━━━━━━━━━\u001b[0m\u001b[37m\u001b[0m \u001b[1m0s\u001b[0m 79ms/step\n",
      "Time: 21:00\n",
      "Number of sellers: 2\n",
      "Number of buyers: 3\n",
      "Current market price: $0.3156/kWh\n",
      "\u001b[1m1/1\u001b[0m \u001b[32m━━━━━━━━━━━━━━━━━━━━\u001b[0m\u001b[37m\u001b[0m \u001b[1m0s\u001b[0m 44ms/step\n",
      "\u001b[1m1/1\u001b[0m \u001b[32m━━━━━━━━━━━━━━━━━━━━\u001b[0m\u001b[37m\u001b[0m \u001b[1m0s\u001b[0m 40ms/step\n",
      "\u001b[1m1/1\u001b[0m \u001b[32m━━━━━━━━━━━━━━━━━━━━\u001b[0m\u001b[37m\u001b[0m \u001b[1m0s\u001b[0m 26ms/step\n",
      "\u001b[1m1/1\u001b[0m \u001b[32m━━━━━━━━━━━━━━━━━━━━\u001b[0m\u001b[37m\u001b[0m \u001b[1m0s\u001b[0m 53ms/step\n",
      "\u001b[1m1/1\u001b[0m \u001b[32m━━━━━━━━━━━━━━━━━━━━\u001b[0m\u001b[37m\u001b[0m \u001b[1m0s\u001b[0m 39ms/step\n",
      "Time: 21:00\n",
      "Number of sellers: 2\n",
      "Number of buyers: 3\n",
      "Current market price: $0.3210/kWh\n",
      "\u001b[1m1/1\u001b[0m \u001b[32m━━━━━━━━━━━━━━━━━━━━\u001b[0m\u001b[37m\u001b[0m \u001b[1m0s\u001b[0m 36ms/step\n",
      "\u001b[1m1/1\u001b[0m \u001b[32m━━━━━━━━━━━━━━━━━━━━\u001b[0m\u001b[37m\u001b[0m \u001b[1m0s\u001b[0m 54ms/step\n",
      "\u001b[1m1/1\u001b[0m \u001b[32m━━━━━━━━━━━━━━━━━━━━\u001b[0m\u001b[37m\u001b[0m \u001b[1m0s\u001b[0m 42ms/step\n",
      "\u001b[1m1/1\u001b[0m \u001b[32m━━━━━━━━━━━━━━━━━━━━\u001b[0m\u001b[37m\u001b[0m \u001b[1m0s\u001b[0m 42ms/step\n",
      "\u001b[1m1/1\u001b[0m \u001b[32m━━━━━━━━━━━━━━━━━━━━\u001b[0m\u001b[37m\u001b[0m \u001b[1m0s\u001b[0m 32ms/step\n",
      "Time: 21:00\n",
      "Number of sellers: 2\n",
      "Number of buyers: 3\n",
      "Current market price: $0.3246/kWh\n",
      "\u001b[1m1/1\u001b[0m \u001b[32m━━━━━━━━━━━━━━━━━━━━\u001b[0m\u001b[37m\u001b[0m \u001b[1m0s\u001b[0m 42ms/step\n",
      "\u001b[1m1/1\u001b[0m \u001b[32m━━━━━━━━━━━━━━━━━━━━\u001b[0m\u001b[37m\u001b[0m \u001b[1m0s\u001b[0m 37ms/step\n",
      "\u001b[1m1/1\u001b[0m \u001b[32m━━━━━━━━━━━━━━━━━━━━\u001b[0m\u001b[37m\u001b[0m \u001b[1m0s\u001b[0m 34ms/step\n",
      "\u001b[1m1/1\u001b[0m \u001b[32m━━━━━━━━━━━━━━━━━━━━\u001b[0m\u001b[37m\u001b[0m \u001b[1m0s\u001b[0m 33ms/step\n",
      "\u001b[1m1/1\u001b[0m \u001b[32m━━━━━━━━━━━━━━━━━━━━\u001b[0m\u001b[37m\u001b[0m \u001b[1m0s\u001b[0m 39ms/step\n",
      "Time: 21:00\n",
      "Number of sellers: 2\n",
      "Number of buyers: 3\n",
      "Current market price: $0.3056/kWh\n",
      "\u001b[1m1/1\u001b[0m \u001b[32m━━━━━━━━━━━━━━━━━━━━\u001b[0m\u001b[37m\u001b[0m \u001b[1m0s\u001b[0m 45ms/step\n",
      "\u001b[1m1/1\u001b[0m \u001b[32m━━━━━━━━━━━━━━━━━━━━\u001b[0m\u001b[37m\u001b[0m \u001b[1m0s\u001b[0m 33ms/step\n",
      "\u001b[1m1/1\u001b[0m \u001b[32m━━━━━━━━━━━━━━━━━━━━\u001b[0m\u001b[37m\u001b[0m \u001b[1m0s\u001b[0m 29ms/step\n",
      "\u001b[1m1/1\u001b[0m \u001b[32m━━━━━━━━━━━━━━━━━━━━\u001b[0m\u001b[37m\u001b[0m \u001b[1m0s\u001b[0m 33ms/step\n",
      "\u001b[1m1/1\u001b[0m \u001b[32m━━━━━━━━━━━━━━━━━━━━\u001b[0m\u001b[37m\u001b[0m \u001b[1m0s\u001b[0m 32ms/step\n",
      "Time: 21:00\n",
      "Number of sellers: 2\n",
      "Number of buyers: 3\n",
      "Current market price: $0.3220/kWh\n",
      "\u001b[1m1/1\u001b[0m \u001b[32m━━━━━━━━━━━━━━━━━━━━\u001b[0m\u001b[37m\u001b[0m \u001b[1m0s\u001b[0m 49ms/step\n",
      "\u001b[1m1/1\u001b[0m \u001b[32m━━━━━━━━━━━━━━━━━━━━\u001b[0m\u001b[37m\u001b[0m \u001b[1m0s\u001b[0m 38ms/step\n",
      "\u001b[1m1/1\u001b[0m \u001b[32m━━━━━━━━━━━━━━━━━━━━\u001b[0m\u001b[37m\u001b[0m \u001b[1m0s\u001b[0m 49ms/step\n",
      "\u001b[1m1/1\u001b[0m \u001b[32m━━━━━━━━━━━━━━━━━━━━\u001b[0m\u001b[37m\u001b[0m \u001b[1m0s\u001b[0m 52ms/step\n",
      "\u001b[1m1/1\u001b[0m \u001b[32m━━━━━━━━━━━━━━━━━━━━\u001b[0m\u001b[37m\u001b[0m \u001b[1m0s\u001b[0m 52ms/step\n",
      "Time: 21:00\n",
      "Number of sellers: 2\n",
      "Number of buyers: 3\n",
      "Current market price: $0.6302/kWh\n",
      "\u001b[1m1/1\u001b[0m \u001b[32m━━━━━━━━━━━━━━━━━━━━\u001b[0m\u001b[37m\u001b[0m \u001b[1m0s\u001b[0m 47ms/step\n",
      "\u001b[1m1/1\u001b[0m \u001b[32m━━━━━━━━━━━━━━━━━━━━\u001b[0m\u001b[37m\u001b[0m \u001b[1m0s\u001b[0m 46ms/step\n",
      "\u001b[1m1/1\u001b[0m \u001b[32m━━━━━━━━━━━━━━━━━━━━\u001b[0m\u001b[37m\u001b[0m \u001b[1m0s\u001b[0m 42ms/step\n",
      "\u001b[1m1/1\u001b[0m \u001b[32m━━━━━━━━━━━━━━━━━━━━\u001b[0m\u001b[37m\u001b[0m \u001b[1m0s\u001b[0m 41ms/step\n",
      "\u001b[1m1/1\u001b[0m \u001b[32m━━━━━━━━━━━━━━━━━━━━\u001b[0m\u001b[37m\u001b[0m \u001b[1m0s\u001b[0m 40ms/step\n",
      "Time: 21:00\n",
      "Number of sellers: 2\n",
      "Number of buyers: 3\n",
      "Current market price: $0.5266/kWh\n",
      "\u001b[1m1/1\u001b[0m \u001b[32m━━━━━━━━━━━━━━━━━━━━\u001b[0m\u001b[37m\u001b[0m \u001b[1m0s\u001b[0m 37ms/step\n",
      "\u001b[1m1/1\u001b[0m \u001b[32m━━━━━━━━━━━━━━━━━━━━\u001b[0m\u001b[37m\u001b[0m \u001b[1m0s\u001b[0m 42ms/step\n",
      "\u001b[1m1/1\u001b[0m \u001b[32m━━━━━━━━━━━━━━━━━━━━\u001b[0m\u001b[37m\u001b[0m \u001b[1m0s\u001b[0m 43ms/step\n",
      "\u001b[1m1/1\u001b[0m \u001b[32m━━━━━━━━━━━━━━━━━━━━\u001b[0m\u001b[37m\u001b[0m \u001b[1m0s\u001b[0m 41ms/step\n",
      "\u001b[1m1/1\u001b[0m \u001b[32m━━━━━━━━━━━━━━━━━━━━\u001b[0m\u001b[37m\u001b[0m \u001b[1m0s\u001b[0m 39ms/step\n",
      "Time: 21:00\n",
      "Number of sellers: 2\n",
      "Number of buyers: 3\n",
      "Current market price: $0.3654/kWh\n",
      "\u001b[1m1/1\u001b[0m \u001b[32m━━━━━━━━━━━━━━━━━━━━\u001b[0m\u001b[37m\u001b[0m \u001b[1m0s\u001b[0m 38ms/step\n",
      "\u001b[1m1/1\u001b[0m \u001b[32m━━━━━━━━━━━━━━━━━━━━\u001b[0m\u001b[37m\u001b[0m \u001b[1m0s\u001b[0m 39ms/step\n",
      "\u001b[1m1/1\u001b[0m \u001b[32m━━━━━━━━━━━━━━━━━━━━\u001b[0m\u001b[37m\u001b[0m \u001b[1m0s\u001b[0m 38ms/step\n",
      "\u001b[1m1/1\u001b[0m \u001b[32m━━━━━━━━━━━━━━━━━━━━\u001b[0m\u001b[37m\u001b[0m \u001b[1m0s\u001b[0m 28ms/step\n",
      "\u001b[1m1/1\u001b[0m \u001b[32m━━━━━━━━━━━━━━━━━━━━\u001b[0m\u001b[37m\u001b[0m \u001b[1m0s\u001b[0m 32ms/step\n",
      "Time: 21:00\n",
      "Number of sellers: 2\n",
      "Number of buyers: 3\n",
      "Current market price: $0.2993/kWh\n",
      "\u001b[1m1/1\u001b[0m \u001b[32m━━━━━━━━━━━━━━━━━━━━\u001b[0m\u001b[37m\u001b[0m \u001b[1m0s\u001b[0m 36ms/step\n",
      "\u001b[1m1/1\u001b[0m \u001b[32m━━━━━━━━━━━━━━━━━━━━\u001b[0m\u001b[37m\u001b[0m \u001b[1m0s\u001b[0m 39ms/step\n",
      "\u001b[1m1/1\u001b[0m \u001b[32m━━━━━━━━━━━━━━━━━━━━\u001b[0m\u001b[37m\u001b[0m \u001b[1m0s\u001b[0m 38ms/step\n",
      "\u001b[1m1/1\u001b[0m \u001b[32m━━━━━━━━━━━━━━━━━━━━\u001b[0m\u001b[37m\u001b[0m \u001b[1m0s\u001b[0m 42ms/step\n",
      "\u001b[1m1/1\u001b[0m \u001b[32m━━━━━━━━━━━━━━━━━━━━\u001b[0m\u001b[37m\u001b[0m \u001b[1m0s\u001b[0m 42ms/step\n",
      "Time: 21:00\n",
      "Number of sellers: 2\n",
      "Number of buyers: 3\n",
      "Current market price: $0.2623/kWh\n",
      "\u001b[1m1/1\u001b[0m \u001b[32m━━━━━━━━━━━━━━━━━━━━\u001b[0m\u001b[37m\u001b[0m \u001b[1m0s\u001b[0m 49ms/step\n",
      "\u001b[1m1/1\u001b[0m \u001b[32m━━━━━━━━━━━━━━━━━━━━\u001b[0m\u001b[37m\u001b[0m \u001b[1m0s\u001b[0m 41ms/step\n",
      "\u001b[1m1/1\u001b[0m \u001b[32m━━━━━━━━━━━━━━━━━━━━\u001b[0m\u001b[37m\u001b[0m \u001b[1m0s\u001b[0m 47ms/step\n",
      "\u001b[1m1/1\u001b[0m \u001b[32m━━━━━━━━━━━━━━━━━━━━\u001b[0m\u001b[37m\u001b[0m \u001b[1m0s\u001b[0m 41ms/step\n",
      "\u001b[1m1/1\u001b[0m \u001b[32m━━━━━━━━━━━━━━━━━━━━\u001b[0m\u001b[37m\u001b[0m \u001b[1m0s\u001b[0m 42ms/step\n",
      "Time: 21:00\n",
      "Number of sellers: 2\n",
      "Number of buyers: 3\n",
      "Current market price: $0.2918/kWh\n",
      "\u001b[1m1/1\u001b[0m \u001b[32m━━━━━━━━━━━━━━━━━━━━\u001b[0m\u001b[37m\u001b[0m \u001b[1m0s\u001b[0m 41ms/step\n",
      "\u001b[1m1/1\u001b[0m \u001b[32m━━━━━━━━━━━━━━━━━━━━\u001b[0m\u001b[37m\u001b[0m \u001b[1m0s\u001b[0m 42ms/step\n",
      "\u001b[1m1/1\u001b[0m \u001b[32m━━━━━━━━━━━━━━━━━━━━\u001b[0m\u001b[37m\u001b[0m \u001b[1m0s\u001b[0m 37ms/step\n",
      "\u001b[1m1/1\u001b[0m \u001b[32m━━━━━━━━━━━━━━━━━━━━\u001b[0m\u001b[37m\u001b[0m \u001b[1m0s\u001b[0m 31ms/step\n",
      "\u001b[1m1/1\u001b[0m \u001b[32m━━━━━━━━━━━━━━━━━━━━\u001b[0m\u001b[37m\u001b[0m \u001b[1m0s\u001b[0m 40ms/step\n",
      "Time: 21:00\n",
      "Number of sellers: 2\n",
      "Number of buyers: 3\n",
      "Current market price: $0.3118/kWh\n",
      "\u001b[1m1/1\u001b[0m \u001b[32m━━━━━━━━━━━━━━━━━━━━\u001b[0m\u001b[37m\u001b[0m \u001b[1m0s\u001b[0m 38ms/step\n",
      "\u001b[1m1/1\u001b[0m \u001b[32m━━━━━━━━━━━━━━━━━━━━\u001b[0m\u001b[37m\u001b[0m \u001b[1m0s\u001b[0m 42ms/step\n",
      "\u001b[1m1/1\u001b[0m \u001b[32m━━━━━━━━━━━━━━━━━━━━\u001b[0m\u001b[37m\u001b[0m \u001b[1m0s\u001b[0m 41ms/step\n",
      "\u001b[1m1/1\u001b[0m \u001b[32m━━━━━━━━━━━━━━━━━━━━\u001b[0m\u001b[37m\u001b[0m \u001b[1m0s\u001b[0m 30ms/step\n",
      "\u001b[1m1/1\u001b[0m \u001b[32m━━━━━━━━━━━━━━━━━━━━\u001b[0m\u001b[37m\u001b[0m \u001b[1m0s\u001b[0m 43ms/step\n",
      "Time: 21:00\n",
      "Number of sellers: 3\n",
      "Number of buyers: 2\n",
      "Current market price: $0.3458/kWh\n",
      "\u001b[1m1/1\u001b[0m \u001b[32m━━━━━━━━━━━━━━━━━━━━\u001b[0m\u001b[37m\u001b[0m \u001b[1m0s\u001b[0m 56ms/step\n",
      "\u001b[1m1/1\u001b[0m \u001b[32m━━━━━━━━━━━━━━━━━━━━\u001b[0m\u001b[37m\u001b[0m \u001b[1m0s\u001b[0m 35ms/step\n",
      "\u001b[1m1/1\u001b[0m \u001b[32m━━━━━━━━━━━━━━━━━━━━\u001b[0m\u001b[37m\u001b[0m \u001b[1m0s\u001b[0m 43ms/step\n",
      "\u001b[1m1/1\u001b[0m \u001b[32m━━━━━━━━━━━━━━━━━━━━\u001b[0m\u001b[37m\u001b[0m \u001b[1m0s\u001b[0m 43ms/step\n",
      "\u001b[1m1/1\u001b[0m \u001b[32m━━━━━━━━━━━━━━━━━━━━\u001b[0m\u001b[37m\u001b[0m \u001b[1m0s\u001b[0m 55ms/step\n",
      "Time: 21:00\n",
      "Number of sellers: 2\n",
      "Number of buyers: 3\n",
      "Current market price: $0.2794/kWh\n",
      "\u001b[1m1/1\u001b[0m \u001b[32m━━━━━━━━━━━━━━━━━━━━\u001b[0m\u001b[37m\u001b[0m \u001b[1m0s\u001b[0m 55ms/step\n",
      "\u001b[1m1/1\u001b[0m \u001b[32m━━━━━━━━━━━━━━━━━━━━\u001b[0m\u001b[37m\u001b[0m \u001b[1m0s\u001b[0m 58ms/step\n",
      "\u001b[1m1/1\u001b[0m \u001b[32m━━━━━━━━━━━━━━━━━━━━\u001b[0m\u001b[37m\u001b[0m \u001b[1m0s\u001b[0m 47ms/step\n",
      "\u001b[1m1/1\u001b[0m \u001b[32m━━━━━━━━━━━━━━━━━━━━\u001b[0m\u001b[37m\u001b[0m \u001b[1m0s\u001b[0m 102ms/step\n",
      "\u001b[1m1/1\u001b[0m \u001b[32m━━━━━━━━━━━━━━━━━━━━\u001b[0m\u001b[37m\u001b[0m \u001b[1m0s\u001b[0m 47ms/step\n",
      "Time: 21:00\n",
      "Number of sellers: 2\n",
      "Number of buyers: 3\n",
      "Current market price: $0.3054/kWh\n",
      "\u001b[1m1/1\u001b[0m \u001b[32m━━━━━━━━━━━━━━━━━━━━\u001b[0m\u001b[37m\u001b[0m \u001b[1m0s\u001b[0m 47ms/step\n",
      "\u001b[1m1/1\u001b[0m \u001b[32m━━━━━━━━━━━━━━━━━━━━\u001b[0m\u001b[37m\u001b[0m \u001b[1m0s\u001b[0m 48ms/step\n",
      "\u001b[1m1/1\u001b[0m \u001b[32m━━━━━━━━━━━━━━━━━━━━\u001b[0m\u001b[37m\u001b[0m \u001b[1m0s\u001b[0m 37ms/step\n",
      "\u001b[1m1/1\u001b[0m \u001b[32m━━━━━━━━━━━━━━━━━━━━\u001b[0m\u001b[37m\u001b[0m \u001b[1m0s\u001b[0m 36ms/step\n",
      "\u001b[1m1/1\u001b[0m \u001b[32m━━━━━━━━━━━━━━━━━━━━\u001b[0m\u001b[37m\u001b[0m \u001b[1m0s\u001b[0m 30ms/step\n",
      "Time: 21:00\n",
      "Number of sellers: 2\n",
      "Number of buyers: 3\n",
      "Current market price: $0.2719/kWh\n",
      "\u001b[1m1/1\u001b[0m \u001b[32m━━━━━━━━━━━━━━━━━━━━\u001b[0m\u001b[37m\u001b[0m \u001b[1m0s\u001b[0m 38ms/step\n",
      "\u001b[1m1/1\u001b[0m \u001b[32m━━━━━━━━━━━━━━━━━━━━\u001b[0m\u001b[37m\u001b[0m \u001b[1m0s\u001b[0m 33ms/step\n",
      "\u001b[1m1/1\u001b[0m \u001b[32m━━━━━━━━━━━━━━━━━━━━\u001b[0m\u001b[37m\u001b[0m \u001b[1m0s\u001b[0m 46ms/step\n",
      "\u001b[1m1/1\u001b[0m \u001b[32m━━━━━━━━━━━━━━━━━━━━\u001b[0m\u001b[37m\u001b[0m \u001b[1m0s\u001b[0m 34ms/step\n",
      "\u001b[1m1/1\u001b[0m \u001b[32m━━━━━━━━━━━━━━━━━━━━\u001b[0m\u001b[37m\u001b[0m \u001b[1m0s\u001b[0m 36ms/step\n",
      "Time: 21:00\n",
      "Number of sellers: 2\n",
      "Number of buyers: 3\n",
      "Current market price: $0.2607/kWh\n",
      "\u001b[1m1/1\u001b[0m \u001b[32m━━━━━━━━━━━━━━━━━━━━\u001b[0m\u001b[37m\u001b[0m \u001b[1m0s\u001b[0m 41ms/step\n",
      "\u001b[1m1/1\u001b[0m \u001b[32m━━━━━━━━━━━━━━━━━━━━\u001b[0m\u001b[37m\u001b[0m \u001b[1m0s\u001b[0m 43ms/step\n",
      "\u001b[1m1/1\u001b[0m \u001b[32m━━━━━━━━━━━━━━━━━━━━\u001b[0m\u001b[37m\u001b[0m \u001b[1m0s\u001b[0m 51ms/step\n",
      "\u001b[1m1/1\u001b[0m \u001b[32m━━━━━━━━━━━━━━━━━━━━\u001b[0m\u001b[37m\u001b[0m \u001b[1m0s\u001b[0m 32ms/step\n",
      "\u001b[1m1/1\u001b[0m \u001b[32m━━━━━━━━━━━━━━━━━━━━\u001b[0m\u001b[37m\u001b[0m \u001b[1m0s\u001b[0m 41ms/step\n",
      "Time: 21:00\n",
      "Number of sellers: 2\n",
      "Number of buyers: 3\n",
      "Current market price: $0.2750/kWh\n",
      "\u001b[1m1/1\u001b[0m \u001b[32m━━━━━━━━━━━━━━━━━━━━\u001b[0m\u001b[37m\u001b[0m \u001b[1m0s\u001b[0m 44ms/step\n",
      "\u001b[1m1/1\u001b[0m \u001b[32m━━━━━━━━━━━━━━━━━━━━\u001b[0m\u001b[37m\u001b[0m \u001b[1m0s\u001b[0m 41ms/step\n",
      "\u001b[1m1/1\u001b[0m \u001b[32m━━━━━━━━━━━━━━━━━━━━\u001b[0m\u001b[37m\u001b[0m \u001b[1m0s\u001b[0m 44ms/step\n",
      "\u001b[1m1/1\u001b[0m \u001b[32m━━━━━━━━━━━━━━━━━━━━\u001b[0m\u001b[37m\u001b[0m \u001b[1m0s\u001b[0m 32ms/step\n",
      "\u001b[1m1/1\u001b[0m \u001b[32m━━━━━━━━━━━━━━━━━━━━\u001b[0m\u001b[37m\u001b[0m \u001b[1m0s\u001b[0m 41ms/step\n",
      "Time: 21:00\n",
      "Number of sellers: 2\n",
      "Number of buyers: 3\n",
      "Current market price: $0.2277/kWh\n",
      "\u001b[1m1/1\u001b[0m \u001b[32m━━━━━━━━━━━━━━━━━━━━\u001b[0m\u001b[37m\u001b[0m \u001b[1m0s\u001b[0m 46ms/step\n",
      "\u001b[1m1/1\u001b[0m \u001b[32m━━━━━━━━━━━━━━━━━━━━\u001b[0m\u001b[37m\u001b[0m \u001b[1m0s\u001b[0m 41ms/step\n",
      "\u001b[1m1/1\u001b[0m \u001b[32m━━━━━━━━━━━━━━━━━━━━\u001b[0m\u001b[37m\u001b[0m \u001b[1m0s\u001b[0m 33ms/step\n",
      "\u001b[1m1/1\u001b[0m \u001b[32m━━━━━━━━━━━━━━━━━━━━\u001b[0m\u001b[37m\u001b[0m \u001b[1m0s\u001b[0m 38ms/step\n",
      "\u001b[1m1/1\u001b[0m \u001b[32m━━━━━━━━━━━━━━━━━━━━\u001b[0m\u001b[37m\u001b[0m \u001b[1m0s\u001b[0m 37ms/step\n",
      "Time: 21:00\n",
      "Number of sellers: 2\n",
      "Number of buyers: 3\n",
      "Current market price: $0.2760/kWh\n",
      "\u001b[1m1/1\u001b[0m \u001b[32m━━━━━━━━━━━━━━━━━━━━\u001b[0m\u001b[37m\u001b[0m \u001b[1m0s\u001b[0m 44ms/step\n",
      "\u001b[1m1/1\u001b[0m \u001b[32m━━━━━━━━━━━━━━━━━━━━\u001b[0m\u001b[37m\u001b[0m \u001b[1m0s\u001b[0m 29ms/step\n",
      "\u001b[1m1/1\u001b[0m \u001b[32m━━━━━━━━━━━━━━━━━━━━\u001b[0m\u001b[37m\u001b[0m \u001b[1m0s\u001b[0m 34ms/step\n",
      "\u001b[1m1/1\u001b[0m \u001b[32m━━━━━━━━━━━━━━━━━━━━\u001b[0m\u001b[37m\u001b[0m \u001b[1m0s\u001b[0m 34ms/step\n",
      "\u001b[1m1/1\u001b[0m \u001b[32m━━━━━━━━━━━━━━━━━━━━\u001b[0m\u001b[37m\u001b[0m \u001b[1m0s\u001b[0m 29ms/step\n",
      "Time: 21:00\n",
      "Number of sellers: 2\n",
      "Number of buyers: 3\n",
      "Current market price: $0.3033/kWh\n",
      "\u001b[1m1/1\u001b[0m \u001b[32m━━━━━━━━━━━━━━━━━━━━\u001b[0m\u001b[37m\u001b[0m \u001b[1m0s\u001b[0m 58ms/step\n",
      "\u001b[1m1/1\u001b[0m \u001b[32m━━━━━━━━━━━━━━━━━━━━\u001b[0m\u001b[37m\u001b[0m \u001b[1m0s\u001b[0m 37ms/step\n",
      "\u001b[1m1/1\u001b[0m \u001b[32m━━━━━━━━━━━━━━━━━━━━\u001b[0m\u001b[37m\u001b[0m \u001b[1m0s\u001b[0m 37ms/step\n",
      "\u001b[1m1/1\u001b[0m \u001b[32m━━━━━━━━━━━━━━━━━━━━\u001b[0m\u001b[37m\u001b[0m \u001b[1m0s\u001b[0m 38ms/step\n",
      "\u001b[1m1/1\u001b[0m \u001b[32m━━━━━━━━━━━━━━━━━━━━\u001b[0m\u001b[37m\u001b[0m \u001b[1m0s\u001b[0m 37ms/step\n",
      "Time: 21:00\n",
      "Number of sellers: 1\n",
      "Number of buyers: 4\n",
      "Current market price: $0.2740/kWh\n",
      "\u001b[1m1/1\u001b[0m \u001b[32m━━━━━━━━━━━━━━━━━━━━\u001b[0m\u001b[37m\u001b[0m \u001b[1m0s\u001b[0m 42ms/step\n",
      "\u001b[1m1/1\u001b[0m \u001b[32m━━━━━━━━━━━━━━━━━━━━\u001b[0m\u001b[37m\u001b[0m \u001b[1m0s\u001b[0m 35ms/step\n",
      "\u001b[1m1/1\u001b[0m \u001b[32m━━━━━━━━━━━━━━━━━━━━\u001b[0m\u001b[37m\u001b[0m \u001b[1m0s\u001b[0m 40ms/step\n",
      "\u001b[1m1/1\u001b[0m \u001b[32m━━━━━━━━━━━━━━━━━━━━\u001b[0m\u001b[37m\u001b[0m \u001b[1m0s\u001b[0m 46ms/step\n",
      "\u001b[1m1/1\u001b[0m \u001b[32m━━━━━━━━━━━━━━━━━━━━\u001b[0m\u001b[37m\u001b[0m \u001b[1m0s\u001b[0m 41ms/step\n",
      "Time: 21:00\n",
      "Number of sellers: 1\n",
      "Number of buyers: 4\n",
      "Current market price: $0.2990/kWh\n",
      "\u001b[1m1/1\u001b[0m \u001b[32m━━━━━━━━━━━━━━━━━━━━\u001b[0m\u001b[37m\u001b[0m \u001b[1m0s\u001b[0m 41ms/step\n",
      "\u001b[1m1/1\u001b[0m \u001b[32m━━━━━━━━━━━━━━━━━━━━\u001b[0m\u001b[37m\u001b[0m \u001b[1m0s\u001b[0m 42ms/step\n",
      "\u001b[1m1/1\u001b[0m \u001b[32m━━━━━━━━━━━━━━━━━━━━\u001b[0m\u001b[37m\u001b[0m \u001b[1m0s\u001b[0m 46ms/step\n",
      "\u001b[1m1/1\u001b[0m \u001b[32m━━━━━━━━━━━━━━━━━━━━\u001b[0m\u001b[37m\u001b[0m \u001b[1m0s\u001b[0m 30ms/step\n",
      "\u001b[1m1/1\u001b[0m \u001b[32m━━━━━━━━━━━━━━━━━━━━\u001b[0m\u001b[37m\u001b[0m \u001b[1m0s\u001b[0m 48ms/step\n",
      "Time: 21:00\n",
      "Number of sellers: 1\n",
      "Number of buyers: 4\n",
      "Current market price: $0.2760/kWh\n",
      "\u001b[1m1/1\u001b[0m \u001b[32m━━━━━━━━━━━━━━━━━━━━\u001b[0m\u001b[37m\u001b[0m \u001b[1m0s\u001b[0m 34ms/step\n",
      "\u001b[1m1/1\u001b[0m \u001b[32m━━━━━━━━━━━━━━━━━━━━\u001b[0m\u001b[37m\u001b[0m \u001b[1m0s\u001b[0m 42ms/step\n",
      "\u001b[1m1/1\u001b[0m \u001b[32m━━━━━━━━━━━━━━━━━━━━\u001b[0m\u001b[37m\u001b[0m \u001b[1m0s\u001b[0m 45ms/step\n",
      "\u001b[1m1/1\u001b[0m \u001b[32m━━━━━━━━━━━━━━━━━━━━\u001b[0m\u001b[37m\u001b[0m \u001b[1m0s\u001b[0m 38ms/step\n",
      "\u001b[1m1/1\u001b[0m \u001b[32m━━━━━━━━━━━━━━━━━━━━\u001b[0m\u001b[37m\u001b[0m \u001b[1m0s\u001b[0m 41ms/step\n",
      "Time: 21:00\n",
      "Number of sellers: 1\n",
      "Number of buyers: 4\n",
      "Current market price: $0.2949/kWh\n",
      "\u001b[1m1/1\u001b[0m \u001b[32m━━━━━━━━━━━━━━━━━━━━\u001b[0m\u001b[37m\u001b[0m \u001b[1m0s\u001b[0m 42ms/step\n",
      "\u001b[1m1/1\u001b[0m \u001b[32m━━━━━━━━━━━━━━━━━━━━\u001b[0m\u001b[37m\u001b[0m \u001b[1m0s\u001b[0m 39ms/step\n",
      "\u001b[1m1/1\u001b[0m \u001b[32m━━━━━━━━━━━━━━━━━━━━\u001b[0m\u001b[37m\u001b[0m \u001b[1m0s\u001b[0m 40ms/step\n",
      "\u001b[1m1/1\u001b[0m \u001b[32m━━━━━━━━━━━━━━━━━━━━\u001b[0m\u001b[37m\u001b[0m \u001b[1m0s\u001b[0m 40ms/step\n",
      "\u001b[1m1/1\u001b[0m \u001b[32m━━━━━━━━━━━━━━━━━━━━\u001b[0m\u001b[37m\u001b[0m \u001b[1m0s\u001b[0m 41ms/step\n",
      "Time: 21:00\n",
      "Number of sellers: 1\n",
      "Number of buyers: 4\n",
      "Current market price: $0.3081/kWh\n",
      "\u001b[1m1/1\u001b[0m \u001b[32m━━━━━━━━━━━━━━━━━━━━\u001b[0m\u001b[37m\u001b[0m \u001b[1m0s\u001b[0m 43ms/step\n",
      "\u001b[1m1/1\u001b[0m \u001b[32m━━━━━━━━━━━━━━━━━━━━\u001b[0m\u001b[37m\u001b[0m \u001b[1m0s\u001b[0m 41ms/step\n",
      "\u001b[1m1/1\u001b[0m \u001b[32m━━━━━━━━━━━━━━━━━━━━\u001b[0m\u001b[37m\u001b[0m \u001b[1m0s\u001b[0m 50ms/step\n",
      "\u001b[1m1/1\u001b[0m \u001b[32m━━━━━━━━━━━━━━━━━━━━\u001b[0m\u001b[37m\u001b[0m \u001b[1m0s\u001b[0m 40ms/step\n",
      "\u001b[1m1/1\u001b[0m \u001b[32m━━━━━━━━━━━━━━━━━━━━\u001b[0m\u001b[37m\u001b[0m \u001b[1m0s\u001b[0m 40ms/step\n",
      "Time: 21:00\n",
      "Number of sellers: 1\n",
      "Number of buyers: 4\n",
      "Current market price: $0.2968/kWh\n",
      "\u001b[1m1/1\u001b[0m \u001b[32m━━━━━━━━━━━━━━━━━━━━\u001b[0m\u001b[37m\u001b[0m \u001b[1m0s\u001b[0m 47ms/step\n",
      "\u001b[1m1/1\u001b[0m \u001b[32m━━━━━━━━━━━━━━━━━━━━\u001b[0m\u001b[37m\u001b[0m \u001b[1m0s\u001b[0m 41ms/step\n",
      "\u001b[1m1/1\u001b[0m \u001b[32m━━━━━━━━━━━━━━━━━━━━\u001b[0m\u001b[37m\u001b[0m \u001b[1m0s\u001b[0m 62ms/step\n",
      "\u001b[1m1/1\u001b[0m \u001b[32m━━━━━━━━━━━━━━━━━━━━\u001b[0m\u001b[37m\u001b[0m \u001b[1m0s\u001b[0m 45ms/step\n",
      "\u001b[1m1/1\u001b[0m \u001b[32m━━━━━━━━━━━━━━━━━━━━\u001b[0m\u001b[37m\u001b[0m \u001b[1m0s\u001b[0m 45ms/step\n",
      "Time: 21:00\n",
      "Number of sellers: 1\n",
      "Number of buyers: 4\n",
      "Current market price: $0.2887/kWh\n",
      "\u001b[1m1/1\u001b[0m \u001b[32m━━━━━━━━━━━━━━━━━━━━\u001b[0m\u001b[37m\u001b[0m \u001b[1m0s\u001b[0m 42ms/step\n",
      "\u001b[1m1/1\u001b[0m \u001b[32m━━━━━━━━━━━━━━━━━━━━\u001b[0m\u001b[37m\u001b[0m \u001b[1m0s\u001b[0m 39ms/step\n",
      "\u001b[1m1/1\u001b[0m \u001b[32m━━━━━━━━━━━━━━━━━━━━\u001b[0m\u001b[37m\u001b[0m \u001b[1m0s\u001b[0m 30ms/step\n",
      "\u001b[1m1/1\u001b[0m \u001b[32m━━━━━━━━━━━━━━━━━━━━\u001b[0m\u001b[37m\u001b[0m \u001b[1m0s\u001b[0m 42ms/step\n",
      "\u001b[1m1/1\u001b[0m \u001b[32m━━━━━━━━━━━━━━━━━━━━\u001b[0m\u001b[37m\u001b[0m \u001b[1m0s\u001b[0m 49ms/step\n",
      "Time: 21:00\n",
      "Number of sellers: 0\n",
      "Number of buyers: 5\n",
      "\u001b[1m1/1\u001b[0m \u001b[32m━━━━━━━━━━━━━━━━━━━━\u001b[0m\u001b[37m\u001b[0m \u001b[1m0s\u001b[0m 39ms/step\n",
      "\u001b[1m1/1\u001b[0m \u001b[32m━━━━━━━━━━━━━━━━━━━━\u001b[0m\u001b[37m\u001b[0m \u001b[1m0s\u001b[0m 46ms/step\n",
      "\u001b[1m1/1\u001b[0m \u001b[32m━━━━━━━━━━━━━━━━━━━━\u001b[0m\u001b[37m\u001b[0m \u001b[1m0s\u001b[0m 43ms/step\n",
      "\u001b[1m1/1\u001b[0m \u001b[32m━━━━━━━━━━━━━━━━━━━━\u001b[0m\u001b[37m\u001b[0m \u001b[1m0s\u001b[0m 46ms/step\n",
      "\u001b[1m1/1\u001b[0m \u001b[32m━━━━━━━━━━━━━━━━━━━━\u001b[0m\u001b[37m\u001b[0m \u001b[1m0s\u001b[0m 29ms/step\n",
      "Time: 21:00\n",
      "Number of sellers: 0\n",
      "Number of buyers: 5\n",
      "\u001b[1m1/1\u001b[0m \u001b[32m━━━━━━━━━━━━━━━━━━━━\u001b[0m\u001b[37m\u001b[0m \u001b[1m0s\u001b[0m 41ms/step\n",
      "\u001b[1m1/1\u001b[0m \u001b[32m━━━━━━━━━━━━━━━━━━━━\u001b[0m\u001b[37m\u001b[0m \u001b[1m0s\u001b[0m 38ms/step\n",
      "\u001b[1m1/1\u001b[0m \u001b[32m━━━━━━━━━━━━━━━━━━━━\u001b[0m\u001b[37m\u001b[0m \u001b[1m0s\u001b[0m 45ms/step\n",
      "\u001b[1m1/1\u001b[0m \u001b[32m━━━━━━━━━━━━━━━━━━━━\u001b[0m\u001b[37m\u001b[0m \u001b[1m0s\u001b[0m 43ms/step\n",
      "\u001b[1m1/1\u001b[0m \u001b[32m━━━━━━━━━━━━━━━━━━━━\u001b[0m\u001b[37m\u001b[0m \u001b[1m0s\u001b[0m 44ms/step\n",
      "Time: 21:00\n",
      "Number of sellers: 0\n",
      "Number of buyers: 5\n",
      "\u001b[1m1/1\u001b[0m \u001b[32m━━━━━━━━━━━━━━━━━━━━\u001b[0m\u001b[37m\u001b[0m \u001b[1m0s\u001b[0m 42ms/step\n",
      "\u001b[1m1/1\u001b[0m \u001b[32m━━━━━━━━━━━━━━━━━━━━\u001b[0m\u001b[37m\u001b[0m \u001b[1m0s\u001b[0m 39ms/step\n",
      "\u001b[1m1/1\u001b[0m \u001b[32m━━━━━━━━━━━━━━━━━━━━\u001b[0m\u001b[37m\u001b[0m \u001b[1m0s\u001b[0m 33ms/step\n",
      "\u001b[1m1/1\u001b[0m \u001b[32m━━━━━━━━━━━━━━━━━━━━\u001b[0m\u001b[37m\u001b[0m \u001b[1m0s\u001b[0m 47ms/step\n",
      "\u001b[1m1/1\u001b[0m \u001b[32m━━━━━━━━━━━━━━━━━━━━\u001b[0m\u001b[37m\u001b[0m \u001b[1m0s\u001b[0m 44ms/step\n",
      "Time: 21:00\n",
      "Number of sellers: 0\n",
      "Number of buyers: 5\n",
      "\u001b[1m1/1\u001b[0m \u001b[32m━━━━━━━━━━━━━━━━━━━━\u001b[0m\u001b[37m\u001b[0m \u001b[1m0s\u001b[0m 50ms/step\n",
      "\u001b[1m1/1\u001b[0m \u001b[32m━━━━━━━━━━━━━━━━━━━━\u001b[0m\u001b[37m\u001b[0m \u001b[1m0s\u001b[0m 37ms/step\n",
      "\u001b[1m1/1\u001b[0m \u001b[32m━━━━━━━━━━━━━━━━━━━━\u001b[0m\u001b[37m\u001b[0m \u001b[1m0s\u001b[0m 43ms/step\n",
      "\u001b[1m1/1\u001b[0m \u001b[32m━━━━━━━━━━━━━━━━━━━━\u001b[0m\u001b[37m\u001b[0m \u001b[1m0s\u001b[0m 41ms/step\n",
      "\u001b[1m1/1\u001b[0m \u001b[32m━━━━━━━━━━━━━━━━━━━━\u001b[0m\u001b[37m\u001b[0m \u001b[1m0s\u001b[0m 36ms/step\n",
      "Time: 21:00\n",
      "Number of sellers: 0\n",
      "Number of buyers: 5\n",
      "\u001b[1m1/1\u001b[0m \u001b[32m━━━━━━━━━━━━━━━━━━━━\u001b[0m\u001b[37m\u001b[0m \u001b[1m0s\u001b[0m 46ms/step\n",
      "\u001b[1m1/1\u001b[0m \u001b[32m━━━━━━━━━━━━━━━━━━━━\u001b[0m\u001b[37m\u001b[0m \u001b[1m0s\u001b[0m 41ms/step\n",
      "\u001b[1m1/1\u001b[0m \u001b[32m━━━━━━━━━━━━━━━━━━━━\u001b[0m\u001b[37m\u001b[0m \u001b[1m0s\u001b[0m 36ms/step\n",
      "\u001b[1m1/1\u001b[0m \u001b[32m━━━━━━━━━━━━━━━━━━━━\u001b[0m\u001b[37m\u001b[0m \u001b[1m0s\u001b[0m 45ms/step\n",
      "\u001b[1m1/1\u001b[0m \u001b[32m━━━━━━━━━━━━━━━━━━━━\u001b[0m\u001b[37m\u001b[0m \u001b[1m0s\u001b[0m 38ms/step\n",
      "Time: 21:00\n",
      "Number of sellers: 0\n",
      "Number of buyers: 5\n",
      "\u001b[1m1/1\u001b[0m \u001b[32m━━━━━━━━━━━━━━━━━━━━\u001b[0m\u001b[37m\u001b[0m \u001b[1m0s\u001b[0m 58ms/step\n",
      "\u001b[1m1/1\u001b[0m \u001b[32m━━━━━━━━━━━━━━━━━━━━\u001b[0m\u001b[37m\u001b[0m \u001b[1m0s\u001b[0m 32ms/step\n",
      "\u001b[1m1/1\u001b[0m \u001b[32m━━━━━━━━━━━━━━━━━━━━\u001b[0m\u001b[37m\u001b[0m \u001b[1m0s\u001b[0m 39ms/step\n",
      "\u001b[1m1/1\u001b[0m \u001b[32m━━━━━━━━━━━━━━━━━━━━\u001b[0m\u001b[37m\u001b[0m \u001b[1m0s\u001b[0m 41ms/step\n",
      "\u001b[1m1/1\u001b[0m \u001b[32m━━━━━━━━━━━━━━━━━━━━\u001b[0m\u001b[37m\u001b[0m \u001b[1m0s\u001b[0m 40ms/step\n",
      "Time: 21:00\n",
      "Number of sellers: 0\n",
      "Number of buyers: 5\n",
      "\u001b[1m1/1\u001b[0m \u001b[32m━━━━━━━━━━━━━━━━━━━━\u001b[0m\u001b[37m\u001b[0m \u001b[1m0s\u001b[0m 42ms/step\n",
      "\u001b[1m1/1\u001b[0m \u001b[32m━━━━━━━━━━━━━━━━━━━━\u001b[0m\u001b[37m\u001b[0m \u001b[1m0s\u001b[0m 56ms/step\n",
      "\u001b[1m1/1\u001b[0m \u001b[32m━━━━━━━━━━━━━━━━━━━━\u001b[0m\u001b[37m\u001b[0m \u001b[1m0s\u001b[0m 34ms/step\n",
      "\u001b[1m1/1\u001b[0m \u001b[32m━━━━━━━━━━━━━━━━━━━━\u001b[0m\u001b[37m\u001b[0m \u001b[1m0s\u001b[0m 52ms/step\n",
      "\u001b[1m1/1\u001b[0m \u001b[32m━━━━━━━━━━━━━━━━━━━━\u001b[0m\u001b[37m\u001b[0m \u001b[1m0s\u001b[0m 46ms/step\n",
      "Time: 21:00\n",
      "Number of sellers: 0\n",
      "Number of buyers: 5\n",
      "\u001b[1m1/1\u001b[0m \u001b[32m━━━━━━━━━━━━━━━━━━━━\u001b[0m\u001b[37m\u001b[0m \u001b[1m0s\u001b[0m 61ms/step\n",
      "\u001b[1m1/1\u001b[0m \u001b[32m━━━━━━━━━━━━━━━━━━━━\u001b[0m\u001b[37m\u001b[0m \u001b[1m0s\u001b[0m 62ms/step\n",
      "\u001b[1m1/1\u001b[0m \u001b[32m━━━━━━━━━━━━━━━━━━━━\u001b[0m\u001b[37m\u001b[0m \u001b[1m0s\u001b[0m 49ms/step\n",
      "\u001b[1m1/1\u001b[0m \u001b[32m━━━━━━━━━━━━━━━━━━━━\u001b[0m\u001b[37m\u001b[0m \u001b[1m0s\u001b[0m 54ms/step\n",
      "\u001b[1m1/1\u001b[0m \u001b[32m━━━━━━━━━━━━━━━━━━━━\u001b[0m\u001b[37m\u001b[0m \u001b[1m0s\u001b[0m 38ms/step\n",
      "Time: 21:00\n",
      "Number of sellers: 0\n",
      "Number of buyers: 5\n",
      "\u001b[1m1/1\u001b[0m \u001b[32m━━━━━━━━━━━━━━━━━━━━\u001b[0m\u001b[37m\u001b[0m \u001b[1m0s\u001b[0m 51ms/step\n",
      "\u001b[1m1/1\u001b[0m \u001b[32m━━━━━━━━━━━━━━━━━━━━\u001b[0m\u001b[37m\u001b[0m \u001b[1m0s\u001b[0m 41ms/step\n",
      "\u001b[1m1/1\u001b[0m \u001b[32m━━━━━━━━━━━━━━━━━━━━\u001b[0m\u001b[37m\u001b[0m \u001b[1m0s\u001b[0m 37ms/step\n",
      "\u001b[1m1/1\u001b[0m \u001b[32m━━━━━━━━━━━━━━━━━━━━\u001b[0m\u001b[37m\u001b[0m \u001b[1m0s\u001b[0m 44ms/step\n",
      "\u001b[1m1/1\u001b[0m \u001b[32m━━━━━━━━━━━━━━━━━━━━\u001b[0m\u001b[37m\u001b[0m \u001b[1m0s\u001b[0m 39ms/step\n",
      "Time: 21:00\n",
      "Number of sellers: 0\n",
      "Number of buyers: 5\n",
      "\u001b[1m1/1\u001b[0m \u001b[32m━━━━━━━━━━━━━━━━━━━━\u001b[0m\u001b[37m\u001b[0m \u001b[1m0s\u001b[0m 49ms/step\n",
      "\u001b[1m1/1\u001b[0m \u001b[32m━━━━━━━━━━━━━━━━━━━━\u001b[0m\u001b[37m\u001b[0m \u001b[1m0s\u001b[0m 60ms/step\n",
      "\u001b[1m1/1\u001b[0m \u001b[32m━━━━━━━━━━━━━━━━━━━━\u001b[0m\u001b[37m\u001b[0m \u001b[1m0s\u001b[0m 42ms/step\n",
      "\u001b[1m1/1\u001b[0m \u001b[32m━━━━━━━━━━━━━━━━━━━━\u001b[0m\u001b[37m\u001b[0m \u001b[1m0s\u001b[0m 113ms/step\n",
      "\u001b[1m1/1\u001b[0m \u001b[32m━━━━━━━━━━━━━━━━━━━━\u001b[0m\u001b[37m\u001b[0m \u001b[1m0s\u001b[0m 44ms/step\n",
      "Time: 21:00\n",
      "Number of sellers: 0\n",
      "Number of buyers: 5\n",
      "\u001b[1m1/1\u001b[0m \u001b[32m━━━━━━━━━━━━━━━━━━━━\u001b[0m\u001b[37m\u001b[0m \u001b[1m0s\u001b[0m 47ms/step\n",
      "\u001b[1m1/1\u001b[0m \u001b[32m━━━━━━━━━━━━━━━━━━━━\u001b[0m\u001b[37m\u001b[0m \u001b[1m0s\u001b[0m 42ms/step\n",
      "\u001b[1m1/1\u001b[0m \u001b[32m━━━━━━━━━━━━━━━━━━━━\u001b[0m\u001b[37m\u001b[0m \u001b[1m0s\u001b[0m 52ms/step\n",
      "\u001b[1m1/1\u001b[0m \u001b[32m━━━━━━━━━━━━━━━━━━━━\u001b[0m\u001b[37m\u001b[0m \u001b[1m0s\u001b[0m 51ms/step\n",
      "\u001b[1m1/1\u001b[0m \u001b[32m━━━━━━━━━━━━━━━━━━━━\u001b[0m\u001b[37m\u001b[0m \u001b[1m0s\u001b[0m 51ms/step\n",
      "Time: 21:00\n",
      "Number of sellers: 0\n",
      "Number of buyers: 5\n",
      "\u001b[1m1/1\u001b[0m \u001b[32m━━━━━━━━━━━━━━━━━━━━\u001b[0m\u001b[37m\u001b[0m \u001b[1m0s\u001b[0m 51ms/step\n",
      "\u001b[1m1/1\u001b[0m \u001b[32m━━━━━━━━━━━━━━━━━━━━\u001b[0m\u001b[37m\u001b[0m \u001b[1m0s\u001b[0m 57ms/step\n",
      "\u001b[1m1/1\u001b[0m \u001b[32m━━━━━━━━━━━━━━━━━━━━\u001b[0m\u001b[37m\u001b[0m \u001b[1m0s\u001b[0m 52ms/step\n",
      "\u001b[1m1/1\u001b[0m \u001b[32m━━━━━━━━━━━━━━━━━━━━\u001b[0m\u001b[37m\u001b[0m \u001b[1m0s\u001b[0m 43ms/step\n",
      "\u001b[1m1/1\u001b[0m \u001b[32m━━━━━━━━━━━━━━━━━━━━\u001b[0m\u001b[37m\u001b[0m \u001b[1m0s\u001b[0m 35ms/step\n",
      "Time: 21:00\n",
      "Number of sellers: 0\n",
      "Number of buyers: 5\n",
      "\u001b[1m1/1\u001b[0m \u001b[32m━━━━━━━━━━━━━━━━━━━━\u001b[0m\u001b[37m\u001b[0m \u001b[1m0s\u001b[0m 49ms/step\n",
      "\u001b[1m1/1\u001b[0m \u001b[32m━━━━━━━━━━━━━━━━━━━━\u001b[0m\u001b[37m\u001b[0m \u001b[1m0s\u001b[0m 58ms/step\n",
      "\u001b[1m1/1\u001b[0m \u001b[32m━━━━━━━━━━━━━━━━━━━━\u001b[0m\u001b[37m\u001b[0m \u001b[1m0s\u001b[0m 45ms/step\n",
      "\u001b[1m1/1\u001b[0m \u001b[32m━━━━━━━━━━━━━━━━━━━━\u001b[0m\u001b[37m\u001b[0m \u001b[1m0s\u001b[0m 45ms/step\n",
      "\u001b[1m1/1\u001b[0m \u001b[32m━━━━━━━━━━━━━━━━━━━━\u001b[0m\u001b[37m\u001b[0m \u001b[1m0s\u001b[0m 47ms/step\n",
      "Time: 21:00\n",
      "Number of sellers: 0\n",
      "Number of buyers: 5\n",
      "\u001b[1m1/1\u001b[0m \u001b[32m━━━━━━━━━━━━━━━━━━━━\u001b[0m\u001b[37m\u001b[0m \u001b[1m0s\u001b[0m 58ms/step\n",
      "\u001b[1m1/1\u001b[0m \u001b[32m━━━━━━━━━━━━━━━━━━━━\u001b[0m\u001b[37m\u001b[0m \u001b[1m0s\u001b[0m 42ms/step\n",
      "\u001b[1m1/1\u001b[0m \u001b[32m━━━━━━━━━━━━━━━━━━━━\u001b[0m\u001b[37m\u001b[0m \u001b[1m0s\u001b[0m 38ms/step\n",
      "\u001b[1m1/1\u001b[0m \u001b[32m━━━━━━━━━━━━━━━━━━━━\u001b[0m\u001b[37m\u001b[0m \u001b[1m0s\u001b[0m 69ms/step\n",
      "\u001b[1m1/1\u001b[0m \u001b[32m━━━━━━━━━━━━━━━━━━━━\u001b[0m\u001b[37m\u001b[0m \u001b[1m0s\u001b[0m 54ms/step\n",
      "Time: 21:00\n",
      "Number of sellers: 0\n",
      "Number of buyers: 5\n",
      "\u001b[1m1/1\u001b[0m \u001b[32m━━━━━━━━━━━━━━━━━━━━\u001b[0m\u001b[37m\u001b[0m \u001b[1m0s\u001b[0m 45ms/step\n",
      "\u001b[1m1/1\u001b[0m \u001b[32m━━━━━━━━━━━━━━━━━━━━\u001b[0m\u001b[37m\u001b[0m \u001b[1m0s\u001b[0m 52ms/step\n",
      "\u001b[1m1/1\u001b[0m \u001b[32m━━━━━━━━━━━━━━━━━━━━\u001b[0m\u001b[37m\u001b[0m \u001b[1m0s\u001b[0m 38ms/step\n",
      "\u001b[1m1/1\u001b[0m \u001b[32m━━━━━━━━━━━━━━━━━━━━\u001b[0m\u001b[37m\u001b[0m \u001b[1m0s\u001b[0m 68ms/step\n",
      "\u001b[1m1/1\u001b[0m \u001b[32m━━━━━━━━━━━━━━━━━━━━\u001b[0m\u001b[37m\u001b[0m \u001b[1m0s\u001b[0m 46ms/step\n",
      "Time: 21:00\n",
      "Number of sellers: 0\n",
      "Number of buyers: 5\n",
      "\u001b[1m1/1\u001b[0m \u001b[32m━━━━━━━━━━━━━━━━━━━━\u001b[0m\u001b[37m\u001b[0m \u001b[1m0s\u001b[0m 41ms/step\n",
      "\u001b[1m1/1\u001b[0m \u001b[32m━━━━━━━━━━━━━━━━━━━━\u001b[0m\u001b[37m\u001b[0m \u001b[1m0s\u001b[0m 53ms/step\n",
      "\u001b[1m1/1\u001b[0m \u001b[32m━━━━━━━━━━━━━━━━━━━━\u001b[0m\u001b[37m\u001b[0m \u001b[1m0s\u001b[0m 40ms/step\n",
      "\u001b[1m1/1\u001b[0m \u001b[32m━━━━━━━━━━━━━━━━━━━━\u001b[0m\u001b[37m\u001b[0m \u001b[1m0s\u001b[0m 41ms/step\n",
      "\u001b[1m1/1\u001b[0m \u001b[32m━━━━━━━━━━━━━━━━━━━━\u001b[0m\u001b[37m\u001b[0m \u001b[1m0s\u001b[0m 41ms/step\n",
      "Time: 21:00\n",
      "Number of sellers: 1\n",
      "Number of buyers: 4\n",
      "Current market price: $0.3031/kWh\n",
      "\u001b[1m1/1\u001b[0m \u001b[32m━━━━━━━━━━━━━━━━━━━━\u001b[0m\u001b[37m\u001b[0m \u001b[1m0s\u001b[0m 48ms/step\n",
      "\u001b[1m1/1\u001b[0m \u001b[32m━━━━━━━━━━━━━━━━━━━━\u001b[0m\u001b[37m\u001b[0m \u001b[1m0s\u001b[0m 33ms/step\n",
      "\u001b[1m1/1\u001b[0m \u001b[32m━━━━━━━━━━━━━━━━━━━━\u001b[0m\u001b[37m\u001b[0m \u001b[1m0s\u001b[0m 35ms/step\n",
      "\u001b[1m1/1\u001b[0m \u001b[32m━━━━━━━━━━━━━━━━━━━━\u001b[0m\u001b[37m\u001b[0m \u001b[1m0s\u001b[0m 30ms/step\n",
      "\u001b[1m1/1\u001b[0m \u001b[32m━━━━━━━━━━━━━━━━━━━━\u001b[0m\u001b[37m\u001b[0m \u001b[1m0s\u001b[0m 54ms/step\n",
      "Time: 21:00\n",
      "Number of sellers: 1\n",
      "Number of buyers: 4\n",
      "Current market price: $0.3146/kWh\n",
      "\u001b[1m1/1\u001b[0m \u001b[32m━━━━━━━━━━━━━━━━━━━━\u001b[0m\u001b[37m\u001b[0m \u001b[1m0s\u001b[0m 46ms/step\n",
      "\u001b[1m1/1\u001b[0m \u001b[32m━━━━━━━━━━━━━━━━━━━━\u001b[0m\u001b[37m\u001b[0m \u001b[1m0s\u001b[0m 45ms/step\n",
      "\u001b[1m1/1\u001b[0m \u001b[32m━━━━━━━━━━━━━━━━━━━━\u001b[0m\u001b[37m\u001b[0m \u001b[1m0s\u001b[0m 45ms/step\n",
      "\u001b[1m1/1\u001b[0m \u001b[32m━━━━━━━━━━━━━━━━━━━━\u001b[0m\u001b[37m\u001b[0m \u001b[1m0s\u001b[0m 40ms/step\n",
      "\u001b[1m1/1\u001b[0m \u001b[32m━━━━━━━━━━━━━━━━━━━━\u001b[0m\u001b[37m\u001b[0m \u001b[1m0s\u001b[0m 37ms/step\n",
      "Time: 21:00\n",
      "Number of sellers: 2\n",
      "Number of buyers: 3\n",
      "Current market price: $0.2901/kWh\n",
      "\u001b[1m1/1\u001b[0m \u001b[32m━━━━━━━━━━━━━━━━━━━━\u001b[0m\u001b[37m\u001b[0m \u001b[1m0s\u001b[0m 39ms/step\n",
      "\u001b[1m1/1\u001b[0m \u001b[32m━━━━━━━━━━━━━━━━━━━━\u001b[0m\u001b[37m\u001b[0m \u001b[1m0s\u001b[0m 49ms/step\n",
      "\u001b[1m1/1\u001b[0m \u001b[32m━━━━━━━━━━━━━━━━━━━━\u001b[0m\u001b[37m\u001b[0m \u001b[1m0s\u001b[0m 44ms/step\n",
      "\u001b[1m1/1\u001b[0m \u001b[32m━━━━━━━━━━━━━━━━━━━━\u001b[0m\u001b[37m\u001b[0m \u001b[1m0s\u001b[0m 48ms/step\n",
      "\u001b[1m1/1\u001b[0m \u001b[32m━━━━━━━━━━━━━━━━━━━━\u001b[0m\u001b[37m\u001b[0m \u001b[1m0s\u001b[0m 39ms/step\n",
      "Time: 21:00\n",
      "Number of sellers: 2\n",
      "Number of buyers: 3\n",
      "Current market price: $0.3295/kWh\n",
      "\u001b[1m1/1\u001b[0m \u001b[32m━━━━━━━━━━━━━━━━━━━━\u001b[0m\u001b[37m\u001b[0m \u001b[1m0s\u001b[0m 40ms/step\n",
      "\u001b[1m1/1\u001b[0m \u001b[32m━━━━━━━━━━━━━━━━━━━━\u001b[0m\u001b[37m\u001b[0m \u001b[1m0s\u001b[0m 45ms/step\n",
      "\u001b[1m1/1\u001b[0m \u001b[32m━━━━━━━━━━━━━━━━━━━━\u001b[0m\u001b[37m\u001b[0m \u001b[1m0s\u001b[0m 43ms/step\n",
      "\u001b[1m1/1\u001b[0m \u001b[32m━━━━━━━━━━━━━━━━━━━━\u001b[0m\u001b[37m\u001b[0m \u001b[1m0s\u001b[0m 44ms/step\n",
      "\u001b[1m1/1\u001b[0m \u001b[32m━━━━━━━━━━━━━━━━━━━━\u001b[0m\u001b[37m\u001b[0m \u001b[1m0s\u001b[0m 47ms/step\n",
      "Time: 21:00\n",
      "Number of sellers: 2\n",
      "Number of buyers: 3\n",
      "Current market price: $0.3366/kWh\n",
      "\u001b[1m1/1\u001b[0m \u001b[32m━━━━━━━━━━━━━━━━━━━━\u001b[0m\u001b[37m\u001b[0m \u001b[1m0s\u001b[0m 33ms/step\n",
      "\u001b[1m1/1\u001b[0m \u001b[32m━━━━━━━━━━━━━━━━━━━━\u001b[0m\u001b[37m\u001b[0m \u001b[1m0s\u001b[0m 45ms/step\n",
      "\u001b[1m1/1\u001b[0m \u001b[32m━━━━━━━━━━━━━━━━━━━━\u001b[0m\u001b[37m\u001b[0m \u001b[1m0s\u001b[0m 45ms/step\n",
      "\u001b[1m1/1\u001b[0m \u001b[32m━━━━━━━━━━━━━━━━━━━━\u001b[0m\u001b[37m\u001b[0m \u001b[1m0s\u001b[0m 41ms/step\n",
      "\u001b[1m1/1\u001b[0m \u001b[32m━━━━━━━━━━━━━━━━━━━━\u001b[0m\u001b[37m\u001b[0m \u001b[1m0s\u001b[0m 50ms/step\n",
      "Time: 21:00\n",
      "Number of sellers: 2\n",
      "Number of buyers: 3\n",
      "Current market price: $0.2943/kWh\n",
      "\u001b[1m1/1\u001b[0m \u001b[32m━━━━━━━━━━━━━━━━━━━━\u001b[0m\u001b[37m\u001b[0m \u001b[1m0s\u001b[0m 61ms/step\n",
      "\u001b[1m1/1\u001b[0m \u001b[32m━━━━━━━━━━━━━━━━━━━━\u001b[0m\u001b[37m\u001b[0m \u001b[1m0s\u001b[0m 73ms/step\n",
      "\u001b[1m1/1\u001b[0m \u001b[32m━━━━━━━━━━━━━━━━━━━━\u001b[0m\u001b[37m\u001b[0m \u001b[1m0s\u001b[0m 43ms/step\n",
      "\u001b[1m1/1\u001b[0m \u001b[32m━━━━━━━━━━━━━━━━━━━━\u001b[0m\u001b[37m\u001b[0m \u001b[1m0s\u001b[0m 73ms/step\n",
      "\u001b[1m1/1\u001b[0m \u001b[32m━━━━━━━━━━━━━━━━━━━━\u001b[0m\u001b[37m\u001b[0m \u001b[1m0s\u001b[0m 56ms/step\n",
      "Time: 21:00\n",
      "Number of sellers: 2\n",
      "Number of buyers: 3\n",
      "Current market price: $0.3305/kWh\n",
      "\u001b[1m1/1\u001b[0m \u001b[32m━━━━━━━━━━━━━━━━━━━━\u001b[0m\u001b[37m\u001b[0m \u001b[1m0s\u001b[0m 78ms/step\n",
      "\u001b[1m1/1\u001b[0m \u001b[32m━━━━━━━━━━━━━━━━━━━━\u001b[0m\u001b[37m\u001b[0m \u001b[1m0s\u001b[0m 47ms/step\n",
      "\u001b[1m1/1\u001b[0m \u001b[32m━━━━━━━━━━━━━━━━━━━━\u001b[0m\u001b[37m\u001b[0m \u001b[1m0s\u001b[0m 47ms/step\n",
      "\u001b[1m1/1\u001b[0m \u001b[32m━━━━━━━━━━━━━━━━━━━━\u001b[0m\u001b[37m\u001b[0m \u001b[1m0s\u001b[0m 32ms/step\n",
      "\u001b[1m1/1\u001b[0m \u001b[32m━━━━━━━━━━━━━━━━━━━━\u001b[0m\u001b[37m\u001b[0m \u001b[1m0s\u001b[0m 48ms/step\n",
      "Time: 21:00\n",
      "Number of sellers: 2\n",
      "Number of buyers: 3\n",
      "Current market price: $0.3252/kWh\n",
      "\u001b[1m1/1\u001b[0m \u001b[32m━━━━━━━━━━━━━━━━━━━━\u001b[0m\u001b[37m\u001b[0m \u001b[1m0s\u001b[0m 42ms/step\n",
      "\u001b[1m1/1\u001b[0m \u001b[32m━━━━━━━━━━━━━━━━━━━━\u001b[0m\u001b[37m\u001b[0m \u001b[1m0s\u001b[0m 54ms/step\n",
      "\u001b[1m1/1\u001b[0m \u001b[32m━━━━━━━━━━━━━━━━━━━━\u001b[0m\u001b[37m\u001b[0m \u001b[1m0s\u001b[0m 32ms/step\n",
      "\u001b[1m1/1\u001b[0m \u001b[32m━━━━━━━━━━━━━━━━━━━━\u001b[0m\u001b[37m\u001b[0m \u001b[1m0s\u001b[0m 32ms/step\n",
      "\u001b[1m1/1\u001b[0m \u001b[32m━━━━━━━━━━━━━━━━━━━━\u001b[0m\u001b[37m\u001b[0m \u001b[1m0s\u001b[0m 44ms/step\n",
      "Time: 21:00\n",
      "Number of sellers: 2\n",
      "Number of buyers: 3\n",
      "Current market price: $0.3101/kWh\n",
      "\u001b[1m1/1\u001b[0m \u001b[32m━━━━━━━━━━━━━━━━━━━━\u001b[0m\u001b[37m\u001b[0m \u001b[1m0s\u001b[0m 45ms/step\n",
      "\u001b[1m1/1\u001b[0m \u001b[32m━━━━━━━━━━━━━━━━━━━━\u001b[0m\u001b[37m\u001b[0m \u001b[1m0s\u001b[0m 46ms/step\n",
      "\u001b[1m1/1\u001b[0m \u001b[32m━━━━━━━━━━━━━━━━━━━━\u001b[0m\u001b[37m\u001b[0m \u001b[1m0s\u001b[0m 72ms/step\n",
      "\u001b[1m1/1\u001b[0m \u001b[32m━━━━━━━━━━━━━━━━━━━━\u001b[0m\u001b[37m\u001b[0m \u001b[1m0s\u001b[0m 48ms/step\n",
      "\u001b[1m1/1\u001b[0m \u001b[32m━━━━━━━━━━━━━━━━━━━━\u001b[0m\u001b[37m\u001b[0m \u001b[1m0s\u001b[0m 51ms/step\n",
      "Time: 21:00\n",
      "Number of sellers: 2\n",
      "Number of buyers: 3\n",
      "Current market price: $0.3371/kWh\n",
      "\u001b[1m1/1\u001b[0m \u001b[32m━━━━━━━━━━━━━━━━━━━━\u001b[0m\u001b[37m\u001b[0m \u001b[1m0s\u001b[0m 62ms/step\n",
      "\u001b[1m1/1\u001b[0m \u001b[32m━━━━━━━━━━━━━━━━━━━━\u001b[0m\u001b[37m\u001b[0m \u001b[1m0s\u001b[0m 47ms/step\n",
      "\u001b[1m1/1\u001b[0m \u001b[32m━━━━━━━━━━━━━━━━━━━━\u001b[0m\u001b[37m\u001b[0m \u001b[1m0s\u001b[0m 33ms/step\n",
      "\u001b[1m1/1\u001b[0m \u001b[32m━━━━━━━━━━━━━━━━━━━━\u001b[0m\u001b[37m\u001b[0m \u001b[1m0s\u001b[0m 32ms/step\n",
      "\u001b[1m1/1\u001b[0m \u001b[32m━━━━━━━━━━━━━━━━━━━━\u001b[0m\u001b[37m\u001b[0m \u001b[1m0s\u001b[0m 32ms/step\n",
      "Time: 21:00\n",
      "Number of sellers: 2\n",
      "Number of buyers: 3\n",
      "Current market price: $0.3181/kWh\n",
      "\u001b[1m1/1\u001b[0m \u001b[32m━━━━━━━━━━━━━━━━━━━━\u001b[0m\u001b[37m\u001b[0m \u001b[1m0s\u001b[0m 32ms/step\n",
      "\u001b[1m1/1\u001b[0m \u001b[32m━━━━━━━━━━━━━━━━━━━━\u001b[0m\u001b[37m\u001b[0m \u001b[1m0s\u001b[0m 32ms/step\n",
      "\u001b[1m1/1\u001b[0m \u001b[32m━━━━━━━━━━━━━━━━━━━━\u001b[0m\u001b[37m\u001b[0m \u001b[1m0s\u001b[0m 48ms/step\n",
      "\u001b[1m1/1\u001b[0m \u001b[32m━━━━━━━━━━━━━━━━━━━━\u001b[0m\u001b[37m\u001b[0m \u001b[1m0s\u001b[0m 16ms/step\n",
      "\u001b[1m1/1\u001b[0m \u001b[32m━━━━━━━━━━━━━━━━━━━━\u001b[0m\u001b[37m\u001b[0m \u001b[1m0s\u001b[0m 32ms/step\n",
      "Time: 21:00\n",
      "Number of sellers: 2\n",
      "Number of buyers: 3\n",
      "Current market price: $0.3290/kWh\n",
      "\u001b[1m1/1\u001b[0m \u001b[32m━━━━━━━━━━━━━━━━━━━━\u001b[0m\u001b[37m\u001b[0m \u001b[1m0s\u001b[0m 48ms/step\n",
      "\u001b[1m1/1\u001b[0m \u001b[32m━━━━━━━━━━━━━━━━━━━━\u001b[0m\u001b[37m\u001b[0m \u001b[1m0s\u001b[0m 32ms/step\n",
      "\u001b[1m1/1\u001b[0m \u001b[32m━━━━━━━━━━━━━━━━━━━━\u001b[0m\u001b[37m\u001b[0m \u001b[1m0s\u001b[0m 29ms/step\n",
      "\u001b[1m1/1\u001b[0m \u001b[32m━━━━━━━━━━━━━━━━━━━━\u001b[0m\u001b[37m\u001b[0m \u001b[1m0s\u001b[0m 16ms/step\n",
      "\u001b[1m1/1\u001b[0m \u001b[32m━━━━━━━━━━━━━━━━━━━━\u001b[0m\u001b[37m\u001b[0m \u001b[1m0s\u001b[0m 32ms/step\n",
      "Time: 21:00\n",
      "Number of sellers: 2\n",
      "Number of buyers: 3\n",
      "Current market price: $0.2872/kWh\n",
      "\u001b[1m1/1\u001b[0m \u001b[32m━━━━━━━━━━━━━━━━━━━━\u001b[0m\u001b[37m\u001b[0m \u001b[1m0s\u001b[0m 32ms/step\n",
      "\u001b[1m1/1\u001b[0m \u001b[32m━━━━━━━━━━━━━━━━━━━━\u001b[0m\u001b[37m\u001b[0m \u001b[1m0s\u001b[0m 29ms/step\n",
      "\u001b[1m1/1\u001b[0m \u001b[32m━━━━━━━━━━━━━━━━━━━━\u001b[0m\u001b[37m\u001b[0m \u001b[1m0s\u001b[0m 32ms/step\n",
      "\u001b[1m1/1\u001b[0m \u001b[32m━━━━━━━━━━━━━━━━━━━━\u001b[0m\u001b[37m\u001b[0m \u001b[1m0s\u001b[0m 32ms/step\n",
      "\u001b[1m1/1\u001b[0m \u001b[32m━━━━━━━━━━━━━━━━━━━━\u001b[0m\u001b[37m\u001b[0m \u001b[1m0s\u001b[0m 32ms/step\n",
      "Time: 21:00\n",
      "Number of sellers: 2\n",
      "Number of buyers: 3\n",
      "Current market price: $0.6165/kWh\n",
      "\u001b[1m1/1\u001b[0m \u001b[32m━━━━━━━━━━━━━━━━━━━━\u001b[0m\u001b[37m\u001b[0m \u001b[1m0s\u001b[0m 32ms/step\n",
      "\u001b[1m1/1\u001b[0m \u001b[32m━━━━━━━━━━━━━━━━━━━━\u001b[0m\u001b[37m\u001b[0m \u001b[1m0s\u001b[0m 48ms/step\n",
      "\u001b[1m1/1\u001b[0m \u001b[32m━━━━━━━━━━━━━━━━━━━━\u001b[0m\u001b[37m\u001b[0m \u001b[1m0s\u001b[0m 32ms/step\n",
      "\u001b[1m1/1\u001b[0m \u001b[32m━━━━━━━━━━━━━━━━━━━━\u001b[0m\u001b[37m\u001b[0m \u001b[1m0s\u001b[0m 48ms/step\n",
      "\u001b[1m1/1\u001b[0m \u001b[32m━━━━━━━━━━━━━━━━━━━━\u001b[0m\u001b[37m\u001b[0m \u001b[1m0s\u001b[0m 32ms/step\n",
      "Time: 21:00\n",
      "Number of sellers: 2\n",
      "Number of buyers: 3\n",
      "Current market price: $0.6483/kWh\n",
      "\u001b[1m1/1\u001b[0m \u001b[32m━━━━━━━━━━━━━━━━━━━━\u001b[0m\u001b[37m\u001b[0m \u001b[1m0s\u001b[0m 32ms/step\n",
      "\u001b[1m1/1\u001b[0m \u001b[32m━━━━━━━━━━━━━━━━━━━━\u001b[0m\u001b[37m\u001b[0m \u001b[1m0s\u001b[0m 16ms/step\n",
      "\u001b[1m1/1\u001b[0m \u001b[32m━━━━━━━━━━━━━━━━━━━━\u001b[0m\u001b[37m\u001b[0m \u001b[1m0s\u001b[0m 16ms/step\n",
      "\u001b[1m1/1\u001b[0m \u001b[32m━━━━━━━━━━━━━━━━━━━━\u001b[0m\u001b[37m\u001b[0m \u001b[1m0s\u001b[0m 32ms/step\n",
      "\u001b[1m1/1\u001b[0m \u001b[32m━━━━━━━━━━━━━━━━━━━━\u001b[0m\u001b[37m\u001b[0m \u001b[1m0s\u001b[0m 48ms/step\n",
      "Time: 21:00\n",
      "Number of sellers: 2\n",
      "Number of buyers: 3\n",
      "Current market price: $0.4425/kWh\n",
      "\u001b[1m1/1\u001b[0m \u001b[32m━━━━━━━━━━━━━━━━━━━━\u001b[0m\u001b[37m\u001b[0m \u001b[1m0s\u001b[0m 32ms/step\n",
      "\u001b[1m1/1\u001b[0m \u001b[32m━━━━━━━━━━━━━━━━━━━━\u001b[0m\u001b[37m\u001b[0m \u001b[1m0s\u001b[0m 32ms/step\n",
      "\u001b[1m1/1\u001b[0m \u001b[32m━━━━━━━━━━━━━━━━━━━━\u001b[0m\u001b[37m\u001b[0m \u001b[1m0s\u001b[0m 32ms/step\n",
      "\u001b[1m1/1\u001b[0m \u001b[32m━━━━━━━━━━━━━━━━━━━━\u001b[0m\u001b[37m\u001b[0m \u001b[1m0s\u001b[0m 79ms/step\n",
      "\u001b[1m1/1\u001b[0m \u001b[32m━━━━━━━━━━━━━━━━━━━━\u001b[0m\u001b[37m\u001b[0m \u001b[1m0s\u001b[0m 32ms/step\n",
      "Time: 21:00\n",
      "Number of sellers: 2\n",
      "Number of buyers: 3\n",
      "Current market price: $0.3249/kWh\n",
      "\u001b[1m1/1\u001b[0m \u001b[32m━━━━━━━━━━━━━━━━━━━━\u001b[0m\u001b[37m\u001b[0m \u001b[1m0s\u001b[0m 49ms/step\n",
      "\u001b[1m1/1\u001b[0m \u001b[32m━━━━━━━━━━━━━━━━━━━━\u001b[0m\u001b[37m\u001b[0m \u001b[1m0s\u001b[0m 32ms/step\n",
      "\u001b[1m1/1\u001b[0m \u001b[32m━━━━━━━━━━━━━━━━━━━━\u001b[0m\u001b[37m\u001b[0m \u001b[1m0s\u001b[0m 32ms/step\n",
      "\u001b[1m1/1\u001b[0m \u001b[32m━━━━━━━━━━━━━━━━━━━━\u001b[0m\u001b[37m\u001b[0m \u001b[1m0s\u001b[0m 32ms/step\n",
      "\u001b[1m1/1\u001b[0m \u001b[32m━━━━━━━━━━━━━━━━━━━━\u001b[0m\u001b[37m\u001b[0m \u001b[1m0s\u001b[0m 16ms/step\n",
      "Time: 21:00\n",
      "Number of sellers: 2\n",
      "Number of buyers: 3\n",
      "Current market price: $0.2668/kWh\n",
      "\u001b[1m1/1\u001b[0m \u001b[32m━━━━━━━━━━━━━━━━━━━━\u001b[0m\u001b[37m\u001b[0m \u001b[1m0s\u001b[0m 32ms/step\n",
      "\u001b[1m1/1\u001b[0m \u001b[32m━━━━━━━━━━━━━━━━━━━━\u001b[0m\u001b[37m\u001b[0m \u001b[1m0s\u001b[0m 35ms/step\n",
      "\u001b[1m1/1\u001b[0m \u001b[32m━━━━━━━━━━━━━━━━━━━━\u001b[0m\u001b[37m\u001b[0m \u001b[1m0s\u001b[0m 35ms/step\n",
      "\u001b[1m1/1\u001b[0m \u001b[32m━━━━━━━━━━━━━━━━━━━━\u001b[0m\u001b[37m\u001b[0m \u001b[1m0s\u001b[0m 32ms/step\n",
      "\u001b[1m1/1\u001b[0m \u001b[32m━━━━━━━━━━━━━━━━━━━━\u001b[0m\u001b[37m\u001b[0m \u001b[1m0s\u001b[0m 32ms/step\n",
      "Time: 21:00\n",
      "Number of sellers: 2\n",
      "Number of buyers: 3\n",
      "Current market price: $0.2920/kWh\n",
      "\u001b[1m1/1\u001b[0m \u001b[32m━━━━━━━━━━━━━━━━━━━━\u001b[0m\u001b[37m\u001b[0m \u001b[1m0s\u001b[0m 32ms/step\n",
      "\u001b[1m1/1\u001b[0m \u001b[32m━━━━━━━━━━━━━━━━━━━━\u001b[0m\u001b[37m\u001b[0m \u001b[1m0s\u001b[0m 54ms/step\n",
      "\u001b[1m1/1\u001b[0m \u001b[32m━━━━━━━━━━━━━━━━━━━━\u001b[0m\u001b[37m\u001b[0m \u001b[1m0s\u001b[0m 37ms/step\n",
      "\u001b[1m1/1\u001b[0m \u001b[32m━━━━━━━━━━━━━━━━━━━━\u001b[0m\u001b[37m\u001b[0m \u001b[1m0s\u001b[0m 25ms/step\n",
      "\u001b[1m1/1\u001b[0m \u001b[32m━━━━━━━━━━━━━━━━━━━━\u001b[0m\u001b[37m\u001b[0m \u001b[1m0s\u001b[0m 54ms/step\n",
      "Time: 21:00\n",
      "Number of sellers: 2\n",
      "Number of buyers: 3\n",
      "Current market price: $0.2869/kWh\n",
      "\u001b[1m1/1\u001b[0m \u001b[32m━━━━━━━━━━━━━━━━━━━━\u001b[0m\u001b[37m\u001b[0m \u001b[1m0s\u001b[0m 47ms/step\n",
      "\u001b[1m1/1\u001b[0m \u001b[32m━━━━━━━━━━━━━━━━━━━━\u001b[0m\u001b[37m\u001b[0m \u001b[1m0s\u001b[0m 32ms/step\n",
      "\u001b[1m1/1\u001b[0m \u001b[32m━━━━━━━━━━━━━━━━━━━━\u001b[0m\u001b[37m\u001b[0m \u001b[1m0s\u001b[0m 32ms/step\n",
      "\u001b[1m1/1\u001b[0m \u001b[32m━━━━━━━━━━━━━━━━━━━━\u001b[0m\u001b[37m\u001b[0m \u001b[1m0s\u001b[0m 32ms/step\n",
      "\u001b[1m1/1\u001b[0m \u001b[32m━━━━━━━━━━━━━━━━━━━━\u001b[0m\u001b[37m\u001b[0m \u001b[1m0s\u001b[0m 32ms/step\n",
      "Time: 21:00\n",
      "Number of sellers: 2\n",
      "Number of buyers: 3\n",
      "Current market price: $0.2712/kWh\n",
      "\u001b[1m1/1\u001b[0m \u001b[32m━━━━━━━━━━━━━━━━━━━━\u001b[0m\u001b[37m\u001b[0m \u001b[1m0s\u001b[0m 32ms/step\n",
      "\u001b[1m1/1\u001b[0m \u001b[32m━━━━━━━━━━━━━━━━━━━━\u001b[0m\u001b[37m\u001b[0m \u001b[1m0s\u001b[0m 32ms/step\n",
      "\u001b[1m1/1\u001b[0m \u001b[32m━━━━━━━━━━━━━━━━━━━━\u001b[0m\u001b[37m\u001b[0m \u001b[1m0s\u001b[0m 32ms/step\n",
      "\u001b[1m1/1\u001b[0m \u001b[32m━━━━━━━━━━━━━━━━━━━━\u001b[0m\u001b[37m\u001b[0m \u001b[1m0s\u001b[0m 32ms/step\n",
      "\u001b[1m1/1\u001b[0m \u001b[32m━━━━━━━━━━━━━━━━━━━━\u001b[0m\u001b[37m\u001b[0m \u001b[1m0s\u001b[0m 68ms/step\n",
      "Time: 21:00\n",
      "Number of sellers: 2\n",
      "Number of buyers: 3\n",
      "Current market price: $0.2730/kWh\n",
      "\u001b[1m1/1\u001b[0m \u001b[32m━━━━━━━━━━━━━━━━━━━━\u001b[0m\u001b[37m\u001b[0m \u001b[1m0s\u001b[0m 41ms/step\n",
      "\u001b[1m1/1\u001b[0m \u001b[32m━━━━━━━━━━━━━━━━━━━━\u001b[0m\u001b[37m\u001b[0m \u001b[1m0s\u001b[0m 43ms/step\n",
      "\u001b[1m1/1\u001b[0m \u001b[32m━━━━━━━━━━━━━━━━━━━━\u001b[0m\u001b[37m\u001b[0m \u001b[1m0s\u001b[0m 25ms/step\n",
      "\u001b[1m1/1\u001b[0m \u001b[32m━━━━━━━━━━━━━━━━━━━━\u001b[0m\u001b[37m\u001b[0m \u001b[1m0s\u001b[0m 49ms/step\n",
      "\u001b[1m1/1\u001b[0m \u001b[32m━━━━━━━━━━━━━━━━━━━━\u001b[0m\u001b[37m\u001b[0m \u001b[1m0s\u001b[0m 51ms/step\n",
      "Time: 21:00\n",
      "Number of sellers: 2\n",
      "Number of buyers: 3\n",
      "Current market price: $0.2911/kWh\n",
      "\u001b[1m1/1\u001b[0m \u001b[32m━━━━━━━━━━━━━━━━━━━━\u001b[0m\u001b[37m\u001b[0m \u001b[1m0s\u001b[0m 73ms/step\n",
      "\u001b[1m1/1\u001b[0m \u001b[32m━━━━━━━━━━━━━━━━━━━━\u001b[0m\u001b[37m\u001b[0m \u001b[1m0s\u001b[0m 48ms/step\n",
      "\u001b[1m1/1\u001b[0m \u001b[32m━━━━━━━━━━━━━━━━━━━━\u001b[0m\u001b[37m\u001b[0m \u001b[1m0s\u001b[0m 55ms/step\n",
      "\u001b[1m1/1\u001b[0m \u001b[32m━━━━━━━━━━━━━━━━━━━━\u001b[0m\u001b[37m\u001b[0m \u001b[1m0s\u001b[0m 38ms/step\n",
      "\u001b[1m1/1\u001b[0m \u001b[32m━━━━━━━━━━━━━━━━━━━━\u001b[0m\u001b[37m\u001b[0m \u001b[1m0s\u001b[0m 33ms/step\n",
      "Time: 21:00\n",
      "Number of sellers: 2\n",
      "Number of buyers: 3\n",
      "Current market price: $0.2824/kWh\n",
      "\u001b[1m1/1\u001b[0m \u001b[32m━━━━━━━━━━━━━━━━━━━━\u001b[0m\u001b[37m\u001b[0m \u001b[1m0s\u001b[0m 48ms/step\n",
      "\u001b[1m1/1\u001b[0m \u001b[32m━━━━━━━━━━━━━━━━━━━━\u001b[0m\u001b[37m\u001b[0m \u001b[1m0s\u001b[0m 32ms/step\n",
      "\u001b[1m1/1\u001b[0m \u001b[32m━━━━━━━━━━━━━━━━━━━━\u001b[0m\u001b[37m\u001b[0m \u001b[1m0s\u001b[0m 62ms/step\n",
      "\u001b[1m1/1\u001b[0m \u001b[32m━━━━━━━━━━━━━━━━━━━━\u001b[0m\u001b[37m\u001b[0m \u001b[1m0s\u001b[0m 47ms/step\n",
      "\u001b[1m1/1\u001b[0m \u001b[32m━━━━━━━━━━━━━━━━━━━━\u001b[0m\u001b[37m\u001b[0m \u001b[1m0s\u001b[0m 53ms/step\n",
      "Time: 21:00\n",
      "Number of sellers: 2\n",
      "Number of buyers: 3\n",
      "Current market price: $0.2995/kWh\n",
      "\u001b[1m1/1\u001b[0m \u001b[32m━━━━━━━━━━━━━━━━━━━━\u001b[0m\u001b[37m\u001b[0m \u001b[1m0s\u001b[0m 45ms/step\n",
      "\u001b[1m1/1\u001b[0m \u001b[32m━━━━━━━━━━━━━━━━━━━━\u001b[0m\u001b[37m\u001b[0m \u001b[1m0s\u001b[0m 49ms/step\n",
      "\u001b[1m1/1\u001b[0m \u001b[32m━━━━━━━━━━━━━━━━━━━━\u001b[0m\u001b[37m\u001b[0m \u001b[1m0s\u001b[0m 23ms/step\n",
      "\u001b[1m1/1\u001b[0m \u001b[32m━━━━━━━━━━━━━━━━━━━━\u001b[0m\u001b[37m\u001b[0m \u001b[1m0s\u001b[0m 32ms/step\n",
      "\u001b[1m1/1\u001b[0m \u001b[32m━━━━━━━━━━━━━━━━━━━━\u001b[0m\u001b[37m\u001b[0m \u001b[1m0s\u001b[0m 32ms/step\n",
      "Time: 21:00\n",
      "Number of sellers: 2\n",
      "Number of buyers: 3\n",
      "Current market price: $0.2628/kWh\n",
      "\u001b[1m1/1\u001b[0m \u001b[32m━━━━━━━━━━━━━━━━━━━━\u001b[0m\u001b[37m\u001b[0m \u001b[1m0s\u001b[0m 84ms/step\n",
      "\u001b[1m1/1\u001b[0m \u001b[32m━━━━━━━━━━━━━━━━━━━━\u001b[0m\u001b[37m\u001b[0m \u001b[1m0s\u001b[0m 21ms/step\n",
      "\u001b[1m1/1\u001b[0m \u001b[32m━━━━━━━━━━━━━━━━━━━━\u001b[0m\u001b[37m\u001b[0m \u001b[1m0s\u001b[0m 40ms/step\n",
      "\u001b[1m1/1\u001b[0m \u001b[32m━━━━━━━━━━━━━━━━━━━━\u001b[0m\u001b[37m\u001b[0m \u001b[1m0s\u001b[0m 56ms/step\n",
      "\u001b[1m1/1\u001b[0m \u001b[32m━━━━━━━━━━━━━━━━━━━━\u001b[0m\u001b[37m\u001b[0m \u001b[1m0s\u001b[0m 43ms/step\n",
      "Time: 21:00\n",
      "Number of sellers: 2\n",
      "Number of buyers: 3\n",
      "Current market price: $0.2761/kWh\n",
      "\u001b[1m1/1\u001b[0m \u001b[32m━━━━━━━━━━━━━━━━━━━━\u001b[0m\u001b[37m\u001b[0m \u001b[1m0s\u001b[0m 46ms/step\n",
      "\u001b[1m1/1\u001b[0m \u001b[32m━━━━━━━━━━━━━━━━━━━━\u001b[0m\u001b[37m\u001b[0m \u001b[1m0s\u001b[0m 40ms/step\n",
      "\u001b[1m1/1\u001b[0m \u001b[32m━━━━━━━━━━━━━━━━━━━━\u001b[0m\u001b[37m\u001b[0m \u001b[1m0s\u001b[0m 33ms/step\n",
      "\u001b[1m1/1\u001b[0m \u001b[32m━━━━━━━━━━━━━━━━━━━━\u001b[0m\u001b[37m\u001b[0m \u001b[1m0s\u001b[0m 50ms/step\n",
      "\u001b[1m1/1\u001b[0m \u001b[32m━━━━━━━━━━━━━━━━━━━━\u001b[0m\u001b[37m\u001b[0m \u001b[1m0s\u001b[0m 26ms/step\n",
      "Time: 21:00\n",
      "Number of sellers: 2\n",
      "Number of buyers: 3\n",
      "Current market price: $0.2922/kWh\n",
      "\u001b[1m1/1\u001b[0m \u001b[32m━━━━━━━━━━━━━━━━━━━━\u001b[0m\u001b[37m\u001b[0m \u001b[1m0s\u001b[0m 32ms/step\n",
      "\u001b[1m1/1\u001b[0m \u001b[32m━━━━━━━━━━━━━━━━━━━━\u001b[0m\u001b[37m\u001b[0m \u001b[1m0s\u001b[0m 16ms/step\n",
      "\u001b[1m1/1\u001b[0m \u001b[32m━━━━━━━━━━━━━━━━━━━━\u001b[0m\u001b[37m\u001b[0m \u001b[1m0s\u001b[0m 32ms/step\n",
      "\u001b[1m1/1\u001b[0m \u001b[32m━━━━━━━━━━━━━━━━━━━━\u001b[0m\u001b[37m\u001b[0m \u001b[1m0s\u001b[0m 39ms/step\n",
      "\u001b[1m1/1\u001b[0m \u001b[32m━━━━━━━━━━━━━━━━━━━━\u001b[0m\u001b[37m\u001b[0m \u001b[1m0s\u001b[0m 32ms/step\n",
      "Time: 21:00\n",
      "Number of sellers: 2\n",
      "Number of buyers: 3\n",
      "Current market price: $0.2857/kWh\n",
      "\u001b[1m1/1\u001b[0m \u001b[32m━━━━━━━━━━━━━━━━━━━━\u001b[0m\u001b[37m\u001b[0m \u001b[1m0s\u001b[0m 32ms/step\n",
      "\u001b[1m1/1\u001b[0m \u001b[32m━━━━━━━━━━━━━━━━━━━━\u001b[0m\u001b[37m\u001b[0m \u001b[1m0s\u001b[0m 32ms/step\n",
      "\u001b[1m1/1\u001b[0m \u001b[32m━━━━━━━━━━━━━━━━━━━━\u001b[0m\u001b[37m\u001b[0m \u001b[1m0s\u001b[0m 16ms/step\n",
      "\u001b[1m1/1\u001b[0m \u001b[32m━━━━━━━━━━━━━━━━━━━━\u001b[0m\u001b[37m\u001b[0m \u001b[1m0s\u001b[0m 36ms/step\n",
      "\u001b[1m1/1\u001b[0m \u001b[32m━━━━━━━━━━━━━━━━━━━━\u001b[0m\u001b[37m\u001b[0m \u001b[1m0s\u001b[0m 35ms/step\n",
      "Time: 21:00\n",
      "Number of sellers: 0\n",
      "Number of buyers: 5\n",
      "\u001b[1m1/1\u001b[0m \u001b[32m━━━━━━━━━━━━━━━━━━━━\u001b[0m\u001b[37m\u001b[0m \u001b[1m0s\u001b[0m 47ms/step\n",
      "\u001b[1m1/1\u001b[0m \u001b[32m━━━━━━━━━━━━━━━━━━━━\u001b[0m\u001b[37m\u001b[0m \u001b[1m0s\u001b[0m 48ms/step\n",
      "\u001b[1m1/1\u001b[0m \u001b[32m━━━━━━━━━━━━━━━━━━━━\u001b[0m\u001b[37m\u001b[0m \u001b[1m0s\u001b[0m 46ms/step\n",
      "\u001b[1m1/1\u001b[0m \u001b[32m━━━━━━━━━━━━━━━━━━━━\u001b[0m\u001b[37m\u001b[0m \u001b[1m0s\u001b[0m 48ms/step\n",
      "\u001b[1m1/1\u001b[0m \u001b[32m━━━━━━━━━━━━━━━━━━━━\u001b[0m\u001b[37m\u001b[0m \u001b[1m0s\u001b[0m 32ms/step\n",
      "Time: 21:00\n",
      "Number of sellers: 2\n",
      "Number of buyers: 3\n",
      "Current market price: $0.2990/kWh\n",
      "\u001b[1m1/1\u001b[0m \u001b[32m━━━━━━━━━━━━━━━━━━━━\u001b[0m\u001b[37m\u001b[0m \u001b[1m0s\u001b[0m 64ms/step\n",
      "\u001b[1m1/1\u001b[0m \u001b[32m━━━━━━━━━━━━━━━━━━━━\u001b[0m\u001b[37m\u001b[0m \u001b[1m0s\u001b[0m 63ms/step\n",
      "\u001b[1m1/1\u001b[0m \u001b[32m━━━━━━━━━━━━━━━━━━━━\u001b[0m\u001b[37m\u001b[0m \u001b[1m0s\u001b[0m 63ms/step\n",
      "\u001b[1m1/1\u001b[0m \u001b[32m━━━━━━━━━━━━━━━━━━━━\u001b[0m\u001b[37m\u001b[0m \u001b[1m0s\u001b[0m 59ms/step\n",
      "\u001b[1m1/1\u001b[0m \u001b[32m━━━━━━━━━━━━━━━━━━━━\u001b[0m\u001b[37m\u001b[0m \u001b[1m0s\u001b[0m 64ms/step\n",
      "Time: 21:00\n",
      "Number of sellers: 1\n",
      "Number of buyers: 4\n",
      "Current market price: $0.2857/kWh\n",
      "\u001b[1m1/1\u001b[0m \u001b[32m━━━━━━━━━━━━━━━━━━━━\u001b[0m\u001b[37m\u001b[0m \u001b[1m0s\u001b[0m 67ms/step\n",
      "\u001b[1m1/1\u001b[0m \u001b[32m━━━━━━━━━━━━━━━━━━━━\u001b[0m\u001b[37m\u001b[0m \u001b[1m0s\u001b[0m 71ms/step\n",
      "\u001b[1m1/1\u001b[0m \u001b[32m━━━━━━━━━━━━━━━━━━━━\u001b[0m\u001b[37m\u001b[0m \u001b[1m0s\u001b[0m 58ms/step\n",
      "\u001b[1m1/1\u001b[0m \u001b[32m━━━━━━━━━━━━━━━━━━━━\u001b[0m\u001b[37m\u001b[0m \u001b[1m0s\u001b[0m 68ms/step\n",
      "\u001b[1m1/1\u001b[0m \u001b[32m━━━━━━━━━━━━━━━━━━━━\u001b[0m\u001b[37m\u001b[0m \u001b[1m0s\u001b[0m 54ms/step\n",
      "Time: 21:00\n",
      "Number of sellers: 0\n",
      "Number of buyers: 5\n",
      "\u001b[1m1/1\u001b[0m \u001b[32m━━━━━━━━━━━━━━━━━━━━\u001b[0m\u001b[37m\u001b[0m \u001b[1m0s\u001b[0m 63ms/step\n",
      "\u001b[1m1/1\u001b[0m \u001b[32m━━━━━━━━━━━━━━━━━━━━\u001b[0m\u001b[37m\u001b[0m \u001b[1m0s\u001b[0m 55ms/step\n",
      "\u001b[1m1/1\u001b[0m \u001b[32m━━━━━━━━━━━━━━━━━━━━\u001b[0m\u001b[37m\u001b[0m \u001b[1m0s\u001b[0m 52ms/step\n",
      "\u001b[1m1/1\u001b[0m \u001b[32m━━━━━━━━━━━━━━━━━━━━\u001b[0m\u001b[37m\u001b[0m \u001b[1m0s\u001b[0m 65ms/step\n",
      "\u001b[1m1/1\u001b[0m \u001b[32m━━━━━━━━━━━━━━━━━━━━\u001b[0m\u001b[37m\u001b[0m \u001b[1m0s\u001b[0m 42ms/step\n",
      "Time: 21:00\n",
      "Number of sellers: 0\n",
      "Number of buyers: 5\n",
      "\u001b[1m1/1\u001b[0m \u001b[32m━━━━━━━━━━━━━━━━━━━━\u001b[0m\u001b[37m\u001b[0m \u001b[1m0s\u001b[0m 63ms/step\n",
      "\u001b[1m1/1\u001b[0m \u001b[32m━━━━━━━━━━━━━━━━━━━━\u001b[0m\u001b[37m\u001b[0m \u001b[1m0s\u001b[0m 55ms/step\n",
      "\u001b[1m1/1\u001b[0m \u001b[32m━━━━━━━━━━━━━━━━━━━━\u001b[0m\u001b[37m\u001b[0m \u001b[1m0s\u001b[0m 46ms/step\n",
      "\u001b[1m1/1\u001b[0m \u001b[32m━━━━━━━━━━━━━━━━━━━━\u001b[0m\u001b[37m\u001b[0m \u001b[1m0s\u001b[0m 48ms/step\n",
      "\u001b[1m1/1\u001b[0m \u001b[32m━━━━━━━━━━━━━━━━━━━━\u001b[0m\u001b[37m\u001b[0m \u001b[1m0s\u001b[0m 39ms/step\n",
      "Time: 21:00\n",
      "Number of sellers: 0\n",
      "Number of buyers: 5\n",
      "\u001b[1m1/1\u001b[0m \u001b[32m━━━━━━━━━━━━━━━━━━━━\u001b[0m\u001b[37m\u001b[0m \u001b[1m0s\u001b[0m 37ms/step\n",
      "\u001b[1m1/1\u001b[0m \u001b[32m━━━━━━━━━━━━━━━━━━━━\u001b[0m\u001b[37m\u001b[0m \u001b[1m0s\u001b[0m 57ms/step\n",
      "\u001b[1m1/1\u001b[0m \u001b[32m━━━━━━━━━━━━━━━━━━━━\u001b[0m\u001b[37m\u001b[0m \u001b[1m0s\u001b[0m 50ms/step\n",
      "\u001b[1m1/1\u001b[0m \u001b[32m━━━━━━━━━━━━━━━━━━━━\u001b[0m\u001b[37m\u001b[0m \u001b[1m0s\u001b[0m 48ms/step\n",
      "\u001b[1m1/1\u001b[0m \u001b[32m━━━━━━━━━━━━━━━━━━━━\u001b[0m\u001b[37m\u001b[0m \u001b[1m0s\u001b[0m 43ms/step\n",
      "Time: 21:00\n",
      "Number of sellers: 1\n",
      "Number of buyers: 4\n",
      "Current market price: $0.2605/kWh\n",
      "\u001b[1m1/1\u001b[0m \u001b[32m━━━━━━━━━━━━━━━━━━━━\u001b[0m\u001b[37m\u001b[0m \u001b[1m0s\u001b[0m 42ms/step\n",
      "\u001b[1m1/1\u001b[0m \u001b[32m━━━━━━━━━━━━━━━━━━━━\u001b[0m\u001b[37m\u001b[0m \u001b[1m0s\u001b[0m 56ms/step\n",
      "\u001b[1m1/1\u001b[0m \u001b[32m━━━━━━━━━━━━━━━━━━━━\u001b[0m\u001b[37m\u001b[0m \u001b[1m0s\u001b[0m 40ms/step\n",
      "\u001b[1m1/1\u001b[0m \u001b[32m━━━━━━━━━━━━━━━━━━━━\u001b[0m\u001b[37m\u001b[0m \u001b[1m0s\u001b[0m 48ms/step\n",
      "\u001b[1m1/1\u001b[0m \u001b[32m━━━━━━━━━━━━━━━━━━━━\u001b[0m\u001b[37m\u001b[0m \u001b[1m0s\u001b[0m 49ms/step\n",
      "Time: 21:00\n",
      "Number of sellers: 1\n",
      "Number of buyers: 4\n",
      "Current market price: $0.2857/kWh\n",
      "\u001b[1m1/1\u001b[0m \u001b[32m━━━━━━━━━━━━━━━━━━━━\u001b[0m\u001b[37m\u001b[0m \u001b[1m0s\u001b[0m 50ms/step\n",
      "\u001b[1m1/1\u001b[0m \u001b[32m━━━━━━━━━━━━━━━━━━━━\u001b[0m\u001b[37m\u001b[0m \u001b[1m0s\u001b[0m 42ms/step\n",
      "\u001b[1m1/1\u001b[0m \u001b[32m━━━━━━━━━━━━━━━━━━━━\u001b[0m\u001b[37m\u001b[0m \u001b[1m0s\u001b[0m 32ms/step\n",
      "\u001b[1m1/1\u001b[0m \u001b[32m━━━━━━━━━━━━━━━━━━━━\u001b[0m\u001b[37m\u001b[0m \u001b[1m0s\u001b[0m 32ms/step\n",
      "\u001b[1m1/1\u001b[0m \u001b[32m━━━━━━━━━━━━━━━━━━━━\u001b[0m\u001b[37m\u001b[0m \u001b[1m0s\u001b[0m 32ms/step\n",
      "Time: 21:00\n",
      "Number of sellers: 2\n",
      "Number of buyers: 3\n",
      "Current market price: $0.3039/kWh\n",
      "\u001b[1m1/1\u001b[0m \u001b[32m━━━━━━━━━━━━━━━━━━━━\u001b[0m\u001b[37m\u001b[0m \u001b[1m0s\u001b[0m 56ms/step\n",
      "\u001b[1m1/1\u001b[0m \u001b[32m━━━━━━━━━━━━━━━━━━━━\u001b[0m\u001b[37m\u001b[0m \u001b[1m0s\u001b[0m 49ms/step\n",
      "\u001b[1m1/1\u001b[0m \u001b[32m━━━━━━━━━━━━━━━━━━━━\u001b[0m\u001b[37m\u001b[0m \u001b[1m0s\u001b[0m 43ms/step\n",
      "\u001b[1m1/1\u001b[0m \u001b[32m━━━━━━━━━━━━━━━━━━━━\u001b[0m\u001b[37m\u001b[0m \u001b[1m0s\u001b[0m 45ms/step\n",
      "\u001b[1m1/1\u001b[0m \u001b[32m━━━━━━━━━━━━━━━━━━━━\u001b[0m\u001b[37m\u001b[0m \u001b[1m0s\u001b[0m 32ms/step\n",
      "Time: 21:00\n",
      "Number of sellers: 0\n",
      "Number of buyers: 5\n",
      "\u001b[1m1/1\u001b[0m \u001b[32m━━━━━━━━━━━━━━━━━━━━\u001b[0m\u001b[37m\u001b[0m \u001b[1m0s\u001b[0m 30ms/step\n",
      "\u001b[1m1/1\u001b[0m \u001b[32m━━━━━━━━━━━━━━━━━━━━\u001b[0m\u001b[37m\u001b[0m \u001b[1m0s\u001b[0m 63ms/step\n",
      "\u001b[1m1/1\u001b[0m \u001b[32m━━━━━━━━━━━━━━━━━━━━\u001b[0m\u001b[37m\u001b[0m \u001b[1m0s\u001b[0m 50ms/step\n",
      "\u001b[1m1/1\u001b[0m \u001b[32m━━━━━━━━━━━━━━━━━━━━\u001b[0m\u001b[37m\u001b[0m \u001b[1m0s\u001b[0m 62ms/step\n",
      "\u001b[1m1/1\u001b[0m \u001b[32m━━━━━━━━━━━━━━━━━━━━\u001b[0m\u001b[37m\u001b[0m \u001b[1m0s\u001b[0m 44ms/step\n",
      "Time: 21:00\n",
      "Number of sellers: 0\n",
      "Number of buyers: 5\n",
      "\u001b[1m1/1\u001b[0m \u001b[32m━━━━━━━━━━━━━━━━━━━━\u001b[0m\u001b[37m\u001b[0m \u001b[1m0s\u001b[0m 44ms/step\n",
      "\u001b[1m1/1\u001b[0m \u001b[32m━━━━━━━━━━━━━━━━━━━━\u001b[0m\u001b[37m\u001b[0m \u001b[1m0s\u001b[0m 32ms/step\n",
      "\u001b[1m1/1\u001b[0m \u001b[32m━━━━━━━━━━━━━━━━━━━━\u001b[0m\u001b[37m\u001b[0m \u001b[1m0s\u001b[0m 32ms/step\n",
      "\u001b[1m1/1\u001b[0m \u001b[32m━━━━━━━━━━━━━━━━━━━━\u001b[0m\u001b[37m\u001b[0m \u001b[1m0s\u001b[0m 33ms/step\n",
      "\u001b[1m1/1\u001b[0m \u001b[32m━━━━━━━━━━━━━━━━━━━━\u001b[0m\u001b[37m\u001b[0m \u001b[1m0s\u001b[0m 34ms/step\n",
      "Time: 21:00\n",
      "Number of sellers: 0\n",
      "Number of buyers: 5\n",
      "\u001b[1m1/1\u001b[0m \u001b[32m━━━━━━━━━━━━━━━━━━━━\u001b[0m\u001b[37m\u001b[0m \u001b[1m0s\u001b[0m 32ms/step\n",
      "\u001b[1m1/1\u001b[0m \u001b[32m━━━━━━━━━━━━━━━━━━━━\u001b[0m\u001b[37m\u001b[0m \u001b[1m0s\u001b[0m 42ms/step\n",
      "\u001b[1m1/1\u001b[0m \u001b[32m━━━━━━━━━━━━━━━━━━━━\u001b[0m\u001b[37m\u001b[0m \u001b[1m0s\u001b[0m 81ms/step\n",
      "\u001b[1m1/1\u001b[0m \u001b[32m━━━━━━━━━━━━━━━━━━━━\u001b[0m\u001b[37m\u001b[0m \u001b[1m0s\u001b[0m 35ms/step\n",
      "\u001b[1m1/1\u001b[0m \u001b[32m━━━━━━━━━━━━━━━━━━━━\u001b[0m\u001b[37m\u001b[0m \u001b[1m0s\u001b[0m 48ms/step\n",
      "Time: 21:00\n",
      "Number of sellers: 0\n",
      "Number of buyers: 5\n",
      "\u001b[1m1/1\u001b[0m \u001b[32m━━━━━━━━━━━━━━━━━━━━\u001b[0m\u001b[37m\u001b[0m \u001b[1m0s\u001b[0m 32ms/step\n",
      "\u001b[1m1/1\u001b[0m \u001b[32m━━━━━━━━━━━━━━━━━━━━\u001b[0m\u001b[37m\u001b[0m \u001b[1m0s\u001b[0m 41ms/step\n",
      "\u001b[1m1/1\u001b[0m \u001b[32m━━━━━━━━━━━━━━━━━━━━\u001b[0m\u001b[37m\u001b[0m \u001b[1m0s\u001b[0m 55ms/step\n",
      "\u001b[1m1/1\u001b[0m \u001b[32m━━━━━━━━━━━━━━━━━━━━\u001b[0m\u001b[37m\u001b[0m \u001b[1m0s\u001b[0m 51ms/step\n",
      "\u001b[1m1/1\u001b[0m \u001b[32m━━━━━━━━━━━━━━━━━━━━\u001b[0m\u001b[37m\u001b[0m \u001b[1m0s\u001b[0m 50ms/step\n",
      "Time: 21:00\n",
      "Number of sellers: 0\n",
      "Number of buyers: 5\n",
      "\u001b[1m1/1\u001b[0m \u001b[32m━━━━━━━━━━━━━━━━━━━━\u001b[0m\u001b[37m\u001b[0m \u001b[1m0s\u001b[0m 80ms/step\n",
      "\u001b[1m1/1\u001b[0m \u001b[32m━━━━━━━━━━━━━━━━━━━━\u001b[0m\u001b[37m\u001b[0m \u001b[1m0s\u001b[0m 48ms/step\n",
      "\u001b[1m1/1\u001b[0m \u001b[32m━━━━━━━━━━━━━━━━━━━━\u001b[0m\u001b[37m\u001b[0m \u001b[1m0s\u001b[0m 33ms/step\n",
      "\u001b[1m1/1\u001b[0m \u001b[32m━━━━━━━━━━━━━━━━━━━━\u001b[0m\u001b[37m\u001b[0m \u001b[1m0s\u001b[0m 48ms/step\n",
      "\u001b[1m1/1\u001b[0m \u001b[32m━━━━━━━━━━━━━━━━━━━━\u001b[0m\u001b[37m\u001b[0m \u001b[1m0s\u001b[0m 50ms/step\n",
      "Time: 21:00\n",
      "Number of sellers: 0\n",
      "Number of buyers: 5\n",
      "\u001b[1m1/1\u001b[0m \u001b[32m━━━━━━━━━━━━━━━━━━━━\u001b[0m\u001b[37m\u001b[0m \u001b[1m0s\u001b[0m 43ms/step\n",
      "\u001b[1m1/1\u001b[0m \u001b[32m━━━━━━━━━━━━━━━━━━━━\u001b[0m\u001b[37m\u001b[0m \u001b[1m0s\u001b[0m 60ms/step\n",
      "\u001b[1m1/1\u001b[0m \u001b[32m━━━━━━━━━━━━━━━━━━━━\u001b[0m\u001b[37m\u001b[0m \u001b[1m0s\u001b[0m 44ms/step\n",
      "\u001b[1m1/1\u001b[0m \u001b[32m━━━━━━━━━━━━━━━━━━━━\u001b[0m\u001b[37m\u001b[0m \u001b[1m0s\u001b[0m 32ms/step\n",
      "\u001b[1m1/1\u001b[0m \u001b[32m━━━━━━━━━━━━━━━━━━━━\u001b[0m\u001b[37m\u001b[0m \u001b[1m0s\u001b[0m 32ms/step\n",
      "Time: 21:00\n",
      "Number of sellers: 0\n",
      "Number of buyers: 5\n",
      "\u001b[1m1/1\u001b[0m \u001b[32m━━━━━━━━━━━━━━━━━━━━\u001b[0m\u001b[37m\u001b[0m \u001b[1m0s\u001b[0m 48ms/step\n",
      "\u001b[1m1/1\u001b[0m \u001b[32m━━━━━━━━━━━━━━━━━━━━\u001b[0m\u001b[37m\u001b[0m \u001b[1m0s\u001b[0m 39ms/step\n",
      "\u001b[1m1/1\u001b[0m \u001b[32m━━━━━━━━━━━━━━━━━━━━\u001b[0m\u001b[37m\u001b[0m \u001b[1m0s\u001b[0m 35ms/step\n",
      "\u001b[1m1/1\u001b[0m \u001b[32m━━━━━━━━━━━━━━━━━━━━\u001b[0m\u001b[37m\u001b[0m \u001b[1m0s\u001b[0m 41ms/step\n",
      "\u001b[1m1/1\u001b[0m \u001b[32m━━━━━━━━━━━━━━━━━━━━\u001b[0m\u001b[37m\u001b[0m \u001b[1m0s\u001b[0m 35ms/step\n",
      "Time: 21:00\n",
      "Number of sellers: 0\n",
      "Number of buyers: 5\n",
      "\u001b[1m1/1\u001b[0m \u001b[32m━━━━━━━━━━━━━━━━━━━━\u001b[0m\u001b[37m\u001b[0m \u001b[1m0s\u001b[0m 32ms/step\n",
      "\u001b[1m1/1\u001b[0m \u001b[32m━━━━━━━━━━━━━━━━━━━━\u001b[0m\u001b[37m\u001b[0m \u001b[1m0s\u001b[0m 55ms/step\n",
      "\u001b[1m1/1\u001b[0m \u001b[32m━━━━━━━━━━━━━━━━━━━━\u001b[0m\u001b[37m\u001b[0m \u001b[1m0s\u001b[0m 41ms/step\n",
      "\u001b[1m1/1\u001b[0m \u001b[32m━━━━━━━━━━━━━━━━━━━━\u001b[0m\u001b[37m\u001b[0m \u001b[1m0s\u001b[0m 23ms/step\n",
      "\u001b[1m1/1\u001b[0m \u001b[32m━━━━━━━━━━━━━━━━━━━━\u001b[0m\u001b[37m\u001b[0m \u001b[1m0s\u001b[0m 79ms/step\n",
      "Time: 21:00\n",
      "Number of sellers: 0\n",
      "Number of buyers: 5\n",
      "\u001b[1m1/1\u001b[0m \u001b[32m━━━━━━━━━━━━━━━━━━━━\u001b[0m\u001b[37m\u001b[0m \u001b[1m0s\u001b[0m 73ms/step\n",
      "\u001b[1m1/1\u001b[0m \u001b[32m━━━━━━━━━━━━━━━━━━━━\u001b[0m\u001b[37m\u001b[0m \u001b[1m0s\u001b[0m 42ms/step\n",
      "\u001b[1m1/1\u001b[0m \u001b[32m━━━━━━━━━━━━━━━━━━━━\u001b[0m\u001b[37m\u001b[0m \u001b[1m0s\u001b[0m 62ms/step\n",
      "\u001b[1m1/1\u001b[0m \u001b[32m━━━━━━━━━━━━━━━━━━━━\u001b[0m\u001b[37m\u001b[0m \u001b[1m0s\u001b[0m 47ms/step\n",
      "\u001b[1m1/1\u001b[0m \u001b[32m━━━━━━━━━━━━━━━━━━━━\u001b[0m\u001b[37m\u001b[0m \u001b[1m0s\u001b[0m 61ms/step\n",
      "Time: 21:00\n",
      "Number of sellers: 0\n",
      "Number of buyers: 5\n",
      "\u001b[1m1/1\u001b[0m \u001b[32m━━━━━━━━━━━━━━━━━━━━\u001b[0m\u001b[37m\u001b[0m \u001b[1m0s\u001b[0m 63ms/step\n",
      "\u001b[1m1/1\u001b[0m \u001b[32m━━━━━━━━━━━━━━━━━━━━\u001b[0m\u001b[37m\u001b[0m \u001b[1m0s\u001b[0m 38ms/step\n",
      "\u001b[1m1/1\u001b[0m \u001b[32m━━━━━━━━━━━━━━━━━━━━\u001b[0m\u001b[37m\u001b[0m \u001b[1m0s\u001b[0m 50ms/step\n",
      "\u001b[1m1/1\u001b[0m \u001b[32m━━━━━━━━━━━━━━━━━━━━\u001b[0m\u001b[37m\u001b[0m \u001b[1m0s\u001b[0m 68ms/step\n",
      "\u001b[1m1/1\u001b[0m \u001b[32m━━━━━━━━━━━━━━━━━━━━\u001b[0m\u001b[37m\u001b[0m \u001b[1m0s\u001b[0m 59ms/step\n",
      "Time: 21:00\n",
      "Number of sellers: 0\n",
      "Number of buyers: 5\n"
     ]
    },
    {
     "data": {
      "application/vnd.plotly.v1+json": {
       "config": {
        "plotlyServerURL": "https://plot.ly"
       },
       "data": [
        {
         "mode": "lines",
         "name": "21:00",
         "type": "scatter",
         "x": [
          "2023-03-12T00:00:00",
          "2023-03-19T00:00:00",
          "2023-03-26T00:00:00",
          "2023-04-02T00:00:00",
          "2023-04-09T00:00:00",
          "2023-04-16T00:00:00",
          "2023-04-23T00:00:00",
          "2023-04-30T00:00:00",
          "2023-05-07T00:00:00",
          "2023-05-14T00:00:00",
          "2023-05-21T00:00:00",
          "2023-05-28T00:00:00",
          "2023-06-04T00:00:00",
          "2023-06-11T00:00:00",
          "2023-06-18T00:00:00",
          "2023-06-25T00:00:00",
          "2023-07-02T00:00:00",
          "2023-07-09T00:00:00",
          "2023-07-16T00:00:00",
          "2023-07-23T00:00:00",
          "2023-07-30T00:00:00",
          "2023-08-06T00:00:00",
          "2023-08-13T00:00:00",
          "2023-08-20T00:00:00",
          "2023-08-27T00:00:00",
          "2023-09-03T00:00:00",
          "2023-09-10T00:00:00",
          "2023-09-17T00:00:00",
          "2023-09-24T00:00:00",
          "2023-10-01T00:00:00",
          "2023-10-08T00:00:00",
          "2023-10-15T00:00:00",
          "2023-10-22T00:00:00",
          "2023-10-29T00:00:00",
          "2023-11-05T00:00:00",
          "2024-03-03T00:00:00",
          "2024-03-10T00:00:00",
          "2024-03-24T00:00:00",
          "2024-03-31T00:00:00",
          "2024-04-07T00:00:00",
          "2024-04-14T00:00:00",
          "2024-04-21T00:00:00",
          "2024-04-28T00:00:00",
          "2024-05-05T00:00:00",
          "2024-05-12T00:00:00",
          "2024-05-19T00:00:00",
          "2024-05-26T00:00:00",
          "2024-06-02T00:00:00",
          "2024-06-09T00:00:00",
          "2024-06-16T00:00:00",
          "2024-06-23T00:00:00",
          "2024-06-30T00:00:00",
          "2024-07-07T00:00:00",
          "2024-07-14T00:00:00",
          "2024-07-21T00:00:00",
          "2024-07-28T00:00:00",
          "2024-08-04T00:00:00",
          "2024-08-11T00:00:00",
          "2024-08-18T00:00:00",
          "2024-08-25T00:00:00",
          "2024-09-01T00:00:00",
          "2024-09-08T00:00:00",
          "2024-09-15T00:00:00",
          "2024-09-29T00:00:00",
          "2024-10-06T00:00:00",
          "2024-11-03T00:00:00",
          "2024-11-10T00:00:00",
          "2024-11-17T00:00:00"
         ],
         "y": [
          51.13500000000056,
          214.235,
          1104.7349999999997,
          424.12500000000034,
          727.4250000000001,
          994.6200000000006,
          966.7425000000005,
          1037.6449999999995,
          964.7900000000001,
          881.6350000000003,
          631.6799999999994,
          835.5825,
          950.7674999999996,
          348.9900000000001,
          824.0200000000003,
          669.5799999999997,
          262.43499999999995,
          650.2800000000002,
          763.5575000000005,
          816.2125000000001,
          727.2425000000002,
          851.5399999999997,
          684.6975000000001,
          696.1574999999999,
          632.6175000000002,
          862.9424999999998,
          1168.8224999999998,
          615.3825000000002,
          130.97000000000025,
          90.28000000000065,
          425.9499999999998,
          221.70499999999947,
          128.60500000000013,
          293.2500000000001,
          85.84749999999997,
          85.90499999999997,
          457.8349999999999,
          1167.4224999999997,
          1069.9025,
          1260.3475,
          1285.8825000000002,
          1160.0125000000005,
          1076.1325000000002,
          1073.4274999999996,
          875.4325,
          934.3975000000002,
          817.3525,
          1162.8000000000002,
          1189.775,
          978.4649999999999,
          901.7249999999999,
          758.8424999999997,
          668.4849999999999,
          571.3274999999999,
          376.26250000000005,
          498.96000000000026,
          527.9075000000001,
          706.6474999999999,
          815.4475000000002,
          697.7674999999998,
          955.0225,
          1109.865,
          651.6599999999997,
          317.2574999999998,
          22.08750000000032,
          84.51000000000022,
          201.5224999999997,
          79.50749999999914
         ]
        }
       ],
       "layout": {
        "template": {
         "data": {
          "bar": [
           {
            "error_x": {
             "color": "#2a3f5f"
            },
            "error_y": {
             "color": "#2a3f5f"
            },
            "marker": {
             "line": {
              "color": "#E5ECF6",
              "width": 0.5
             },
             "pattern": {
              "fillmode": "overlay",
              "size": 10,
              "solidity": 0.2
             }
            },
            "type": "bar"
           }
          ],
          "barpolar": [
           {
            "marker": {
             "line": {
              "color": "#E5ECF6",
              "width": 0.5
             },
             "pattern": {
              "fillmode": "overlay",
              "size": 10,
              "solidity": 0.2
             }
            },
            "type": "barpolar"
           }
          ],
          "carpet": [
           {
            "aaxis": {
             "endlinecolor": "#2a3f5f",
             "gridcolor": "white",
             "linecolor": "white",
             "minorgridcolor": "white",
             "startlinecolor": "#2a3f5f"
            },
            "baxis": {
             "endlinecolor": "#2a3f5f",
             "gridcolor": "white",
             "linecolor": "white",
             "minorgridcolor": "white",
             "startlinecolor": "#2a3f5f"
            },
            "type": "carpet"
           }
          ],
          "choropleth": [
           {
            "colorbar": {
             "outlinewidth": 0,
             "ticks": ""
            },
            "type": "choropleth"
           }
          ],
          "contour": [
           {
            "colorbar": {
             "outlinewidth": 0,
             "ticks": ""
            },
            "colorscale": [
             [
              0,
              "#0d0887"
             ],
             [
              0.1111111111111111,
              "#46039f"
             ],
             [
              0.2222222222222222,
              "#7201a8"
             ],
             [
              0.3333333333333333,
              "#9c179e"
             ],
             [
              0.4444444444444444,
              "#bd3786"
             ],
             [
              0.5555555555555556,
              "#d8576b"
             ],
             [
              0.6666666666666666,
              "#ed7953"
             ],
             [
              0.7777777777777778,
              "#fb9f3a"
             ],
             [
              0.8888888888888888,
              "#fdca26"
             ],
             [
              1,
              "#f0f921"
             ]
            ],
            "type": "contour"
           }
          ],
          "contourcarpet": [
           {
            "colorbar": {
             "outlinewidth": 0,
             "ticks": ""
            },
            "type": "contourcarpet"
           }
          ],
          "heatmap": [
           {
            "colorbar": {
             "outlinewidth": 0,
             "ticks": ""
            },
            "colorscale": [
             [
              0,
              "#0d0887"
             ],
             [
              0.1111111111111111,
              "#46039f"
             ],
             [
              0.2222222222222222,
              "#7201a8"
             ],
             [
              0.3333333333333333,
              "#9c179e"
             ],
             [
              0.4444444444444444,
              "#bd3786"
             ],
             [
              0.5555555555555556,
              "#d8576b"
             ],
             [
              0.6666666666666666,
              "#ed7953"
             ],
             [
              0.7777777777777778,
              "#fb9f3a"
             ],
             [
              0.8888888888888888,
              "#fdca26"
             ],
             [
              1,
              "#f0f921"
             ]
            ],
            "type": "heatmap"
           }
          ],
          "heatmapgl": [
           {
            "colorbar": {
             "outlinewidth": 0,
             "ticks": ""
            },
            "colorscale": [
             [
              0,
              "#0d0887"
             ],
             [
              0.1111111111111111,
              "#46039f"
             ],
             [
              0.2222222222222222,
              "#7201a8"
             ],
             [
              0.3333333333333333,
              "#9c179e"
             ],
             [
              0.4444444444444444,
              "#bd3786"
             ],
             [
              0.5555555555555556,
              "#d8576b"
             ],
             [
              0.6666666666666666,
              "#ed7953"
             ],
             [
              0.7777777777777778,
              "#fb9f3a"
             ],
             [
              0.8888888888888888,
              "#fdca26"
             ],
             [
              1,
              "#f0f921"
             ]
            ],
            "type": "heatmapgl"
           }
          ],
          "histogram": [
           {
            "marker": {
             "pattern": {
              "fillmode": "overlay",
              "size": 10,
              "solidity": 0.2
             }
            },
            "type": "histogram"
           }
          ],
          "histogram2d": [
           {
            "colorbar": {
             "outlinewidth": 0,
             "ticks": ""
            },
            "colorscale": [
             [
              0,
              "#0d0887"
             ],
             [
              0.1111111111111111,
              "#46039f"
             ],
             [
              0.2222222222222222,
              "#7201a8"
             ],
             [
              0.3333333333333333,
              "#9c179e"
             ],
             [
              0.4444444444444444,
              "#bd3786"
             ],
             [
              0.5555555555555556,
              "#d8576b"
             ],
             [
              0.6666666666666666,
              "#ed7953"
             ],
             [
              0.7777777777777778,
              "#fb9f3a"
             ],
             [
              0.8888888888888888,
              "#fdca26"
             ],
             [
              1,
              "#f0f921"
             ]
            ],
            "type": "histogram2d"
           }
          ],
          "histogram2dcontour": [
           {
            "colorbar": {
             "outlinewidth": 0,
             "ticks": ""
            },
            "colorscale": [
             [
              0,
              "#0d0887"
             ],
             [
              0.1111111111111111,
              "#46039f"
             ],
             [
              0.2222222222222222,
              "#7201a8"
             ],
             [
              0.3333333333333333,
              "#9c179e"
             ],
             [
              0.4444444444444444,
              "#bd3786"
             ],
             [
              0.5555555555555556,
              "#d8576b"
             ],
             [
              0.6666666666666666,
              "#ed7953"
             ],
             [
              0.7777777777777778,
              "#fb9f3a"
             ],
             [
              0.8888888888888888,
              "#fdca26"
             ],
             [
              1,
              "#f0f921"
             ]
            ],
            "type": "histogram2dcontour"
           }
          ],
          "mesh3d": [
           {
            "colorbar": {
             "outlinewidth": 0,
             "ticks": ""
            },
            "type": "mesh3d"
           }
          ],
          "parcoords": [
           {
            "line": {
             "colorbar": {
              "outlinewidth": 0,
              "ticks": ""
             }
            },
            "type": "parcoords"
           }
          ],
          "pie": [
           {
            "automargin": true,
            "type": "pie"
           }
          ],
          "scatter": [
           {
            "fillpattern": {
             "fillmode": "overlay",
             "size": 10,
             "solidity": 0.2
            },
            "type": "scatter"
           }
          ],
          "scatter3d": [
           {
            "line": {
             "colorbar": {
              "outlinewidth": 0,
              "ticks": ""
             }
            },
            "marker": {
             "colorbar": {
              "outlinewidth": 0,
              "ticks": ""
             }
            },
            "type": "scatter3d"
           }
          ],
          "scattercarpet": [
           {
            "marker": {
             "colorbar": {
              "outlinewidth": 0,
              "ticks": ""
             }
            },
            "type": "scattercarpet"
           }
          ],
          "scattergeo": [
           {
            "marker": {
             "colorbar": {
              "outlinewidth": 0,
              "ticks": ""
             }
            },
            "type": "scattergeo"
           }
          ],
          "scattergl": [
           {
            "marker": {
             "colorbar": {
              "outlinewidth": 0,
              "ticks": ""
             }
            },
            "type": "scattergl"
           }
          ],
          "scattermapbox": [
           {
            "marker": {
             "colorbar": {
              "outlinewidth": 0,
              "ticks": ""
             }
            },
            "type": "scattermapbox"
           }
          ],
          "scatterpolar": [
           {
            "marker": {
             "colorbar": {
              "outlinewidth": 0,
              "ticks": ""
             }
            },
            "type": "scatterpolar"
           }
          ],
          "scatterpolargl": [
           {
            "marker": {
             "colorbar": {
              "outlinewidth": 0,
              "ticks": ""
             }
            },
            "type": "scatterpolargl"
           }
          ],
          "scatterternary": [
           {
            "marker": {
             "colorbar": {
              "outlinewidth": 0,
              "ticks": ""
             }
            },
            "type": "scatterternary"
           }
          ],
          "surface": [
           {
            "colorbar": {
             "outlinewidth": 0,
             "ticks": ""
            },
            "colorscale": [
             [
              0,
              "#0d0887"
             ],
             [
              0.1111111111111111,
              "#46039f"
             ],
             [
              0.2222222222222222,
              "#7201a8"
             ],
             [
              0.3333333333333333,
              "#9c179e"
             ],
             [
              0.4444444444444444,
              "#bd3786"
             ],
             [
              0.5555555555555556,
              "#d8576b"
             ],
             [
              0.6666666666666666,
              "#ed7953"
             ],
             [
              0.7777777777777778,
              "#fb9f3a"
             ],
             [
              0.8888888888888888,
              "#fdca26"
             ],
             [
              1,
              "#f0f921"
             ]
            ],
            "type": "surface"
           }
          ],
          "table": [
           {
            "cells": {
             "fill": {
              "color": "#EBF0F8"
             },
             "line": {
              "color": "white"
             }
            },
            "header": {
             "fill": {
              "color": "#C8D4E3"
             },
             "line": {
              "color": "white"
             }
            },
            "type": "table"
           }
          ]
         },
         "layout": {
          "annotationdefaults": {
           "arrowcolor": "#2a3f5f",
           "arrowhead": 0,
           "arrowwidth": 1
          },
          "autotypenumbers": "strict",
          "coloraxis": {
           "colorbar": {
            "outlinewidth": 0,
            "ticks": ""
           }
          },
          "colorscale": {
           "diverging": [
            [
             0,
             "#8e0152"
            ],
            [
             0.1,
             "#c51b7d"
            ],
            [
             0.2,
             "#de77ae"
            ],
            [
             0.3,
             "#f1b6da"
            ],
            [
             0.4,
             "#fde0ef"
            ],
            [
             0.5,
             "#f7f7f7"
            ],
            [
             0.6,
             "#e6f5d0"
            ],
            [
             0.7,
             "#b8e186"
            ],
            [
             0.8,
             "#7fbc41"
            ],
            [
             0.9,
             "#4d9221"
            ],
            [
             1,
             "#276419"
            ]
           ],
           "sequential": [
            [
             0,
             "#0d0887"
            ],
            [
             0.1111111111111111,
             "#46039f"
            ],
            [
             0.2222222222222222,
             "#7201a8"
            ],
            [
             0.3333333333333333,
             "#9c179e"
            ],
            [
             0.4444444444444444,
             "#bd3786"
            ],
            [
             0.5555555555555556,
             "#d8576b"
            ],
            [
             0.6666666666666666,
             "#ed7953"
            ],
            [
             0.7777777777777778,
             "#fb9f3a"
            ],
            [
             0.8888888888888888,
             "#fdca26"
            ],
            [
             1,
             "#f0f921"
            ]
           ],
           "sequentialminus": [
            [
             0,
             "#0d0887"
            ],
            [
             0.1111111111111111,
             "#46039f"
            ],
            [
             0.2222222222222222,
             "#7201a8"
            ],
            [
             0.3333333333333333,
             "#9c179e"
            ],
            [
             0.4444444444444444,
             "#bd3786"
            ],
            [
             0.5555555555555556,
             "#d8576b"
            ],
            [
             0.6666666666666666,
             "#ed7953"
            ],
            [
             0.7777777777777778,
             "#fb9f3a"
            ],
            [
             0.8888888888888888,
             "#fdca26"
            ],
            [
             1,
             "#f0f921"
            ]
           ]
          },
          "colorway": [
           "#636efa",
           "#EF553B",
           "#00cc96",
           "#ab63fa",
           "#FFA15A",
           "#19d3f3",
           "#FF6692",
           "#B6E880",
           "#FF97FF",
           "#FECB52"
          ],
          "font": {
           "color": "#2a3f5f"
          },
          "geo": {
           "bgcolor": "white",
           "lakecolor": "white",
           "landcolor": "#E5ECF6",
           "showlakes": true,
           "showland": true,
           "subunitcolor": "white"
          },
          "hoverlabel": {
           "align": "left"
          },
          "hovermode": "closest",
          "mapbox": {
           "style": "light"
          },
          "paper_bgcolor": "white",
          "plot_bgcolor": "#E5ECF6",
          "polar": {
           "angularaxis": {
            "gridcolor": "white",
            "linecolor": "white",
            "ticks": ""
           },
           "bgcolor": "#E5ECF6",
           "radialaxis": {
            "gridcolor": "white",
            "linecolor": "white",
            "ticks": ""
           }
          },
          "scene": {
           "xaxis": {
            "backgroundcolor": "#E5ECF6",
            "gridcolor": "white",
            "gridwidth": 2,
            "linecolor": "white",
            "showbackground": true,
            "ticks": "",
            "zerolinecolor": "white"
           },
           "yaxis": {
            "backgroundcolor": "#E5ECF6",
            "gridcolor": "white",
            "gridwidth": 2,
            "linecolor": "white",
            "showbackground": true,
            "ticks": "",
            "zerolinecolor": "white"
           },
           "zaxis": {
            "backgroundcolor": "#E5ECF6",
            "gridcolor": "white",
            "gridwidth": 2,
            "linecolor": "white",
            "showbackground": true,
            "ticks": "",
            "zerolinecolor": "white"
           }
          },
          "shapedefaults": {
           "line": {
            "color": "#2a3f5f"
           }
          },
          "ternary": {
           "aaxis": {
            "gridcolor": "white",
            "linecolor": "white",
            "ticks": ""
           },
           "baxis": {
            "gridcolor": "white",
            "linecolor": "white",
            "ticks": ""
           },
           "bgcolor": "#E5ECF6",
           "caxis": {
            "gridcolor": "white",
            "linecolor": "white",
            "ticks": ""
           }
          },
          "title": {
           "x": 0.05
          },
          "xaxis": {
           "automargin": true,
           "gridcolor": "white",
           "linecolor": "white",
           "ticks": "",
           "title": {
            "standoff": 15
           },
           "zerolinecolor": "white",
           "zerolinewidth": 2
          },
          "yaxis": {
           "automargin": true,
           "gridcolor": "white",
           "linecolor": "white",
           "ticks": "",
           "title": {
            "standoff": 15
           },
           "zerolinecolor": "white",
           "zerolinewidth": 2
          }
         }
        },
        "title": {
         "text": "Trading Volume by Time of Day"
        },
        "xaxis": {
         "title": {
          "text": "Date"
         }
        },
        "yaxis": {
         "title": {
          "text": "Energy Traded (kWh)"
         }
        }
       }
      }
     },
     "metadata": {},
     "output_type": "display_data"
    },
    {
     "data": {
      "application/vnd.plotly.v1+json": {
       "config": {
        "plotlyServerURL": "https://plot.ly"
       },
       "data": [
        {
         "mode": "lines",
         "name": "21:00",
         "type": "scatter",
         "x": [
          "2023-03-12T00:00:00",
          "2023-03-19T00:00:00",
          "2023-03-26T00:00:00",
          "2023-04-02T00:00:00",
          "2023-04-09T00:00:00",
          "2023-04-16T00:00:00",
          "2023-04-23T00:00:00",
          "2023-04-30T00:00:00",
          "2023-05-07T00:00:00",
          "2023-05-14T00:00:00",
          "2023-05-21T00:00:00",
          "2023-05-28T00:00:00",
          "2023-06-04T00:00:00",
          "2023-06-11T00:00:00",
          "2023-06-18T00:00:00",
          "2023-06-25T00:00:00",
          "2023-07-02T00:00:00",
          "2023-07-09T00:00:00",
          "2023-07-16T00:00:00",
          "2023-07-23T00:00:00",
          "2023-07-30T00:00:00",
          "2023-08-06T00:00:00",
          "2023-08-13T00:00:00",
          "2023-08-20T00:00:00",
          "2023-08-27T00:00:00",
          "2023-09-03T00:00:00",
          "2023-09-10T00:00:00",
          "2023-09-17T00:00:00",
          "2023-09-24T00:00:00",
          "2023-10-01T00:00:00",
          "2023-10-08T00:00:00",
          "2023-10-15T00:00:00",
          "2023-10-22T00:00:00",
          "2023-10-29T00:00:00",
          "2023-11-05T00:00:00",
          "2024-03-03T00:00:00",
          "2024-03-10T00:00:00",
          "2024-03-24T00:00:00",
          "2024-03-31T00:00:00",
          "2024-04-07T00:00:00",
          "2024-04-14T00:00:00",
          "2024-04-21T00:00:00",
          "2024-04-28T00:00:00",
          "2024-05-05T00:00:00",
          "2024-05-12T00:00:00",
          "2024-05-19T00:00:00",
          "2024-05-26T00:00:00",
          "2024-06-02T00:00:00",
          "2024-06-09T00:00:00",
          "2024-06-16T00:00:00",
          "2024-06-23T00:00:00",
          "2024-06-30T00:00:00",
          "2024-07-07T00:00:00",
          "2024-07-14T00:00:00",
          "2024-07-21T00:00:00",
          "2024-07-28T00:00:00",
          "2024-08-04T00:00:00",
          "2024-08-11T00:00:00",
          "2024-08-18T00:00:00",
          "2024-08-25T00:00:00",
          "2024-09-01T00:00:00",
          "2024-09-08T00:00:00",
          "2024-09-15T00:00:00",
          "2024-09-29T00:00:00",
          "2024-10-06T00:00:00",
          "2024-11-03T00:00:00",
          "2024-11-10T00:00:00",
          "2024-11-17T00:00:00"
         ],
         "y": [
          0.32998333333333335,
          0.30916666666666665,
          0.31616666666666665,
          0.3078,
          0.31338333333333335,
          0.32056666666666667,
          0.3239666666666667,
          0.31406666666666666,
          0.3073333333333333,
          0.3136833333333333,
          0.31120000000000003,
          0.31288333333333335,
          0.6115,
          0.5467,
          0.3473333333333333,
          0.27673333333333333,
          0.2526,
          0.26935,
          0.298075,
          0.292975,
          0.2854666666666667,
          0.2923,
          0.2678333333333333,
          0.27646666666666664,
          0.26016666666666666,
          0.21706666666666666,
          0.28275,
          0.30021666666666663,
          0.284225,
          0.28395000000000004,
          0.28805000000000003,
          0.28845,
          0.271325,
          0.285925,
          0.299825,
          0.3056,
          0.33465,
          0.3213,
          0.30391666666666667,
          0.3014,
          0.31985,
          0.31693333333333334,
          0.30995,
          0.32205,
          0.3242,
          0.31695,
          0.30075,
          0.6313500000000001,
          0.63988,
          0.45613333333333334,
          0.3145,
          0.2537333333333333,
          0.2729333333333333,
          0.26903333333333335,
          0.2641,
          0.28386666666666666,
          0.26696666666666663,
          0.2768333333333333,
          0.27953333333333336,
          0.27826666666666666,
          0.2683666666666667,
          0.27330000000000004,
          0.2745166666666667,
          0.2713333333333333,
          0.29845,
          0.264575,
          0.2706,
          0.2838
         ]
        }
       ],
       "layout": {
        "template": {
         "data": {
          "bar": [
           {
            "error_x": {
             "color": "#2a3f5f"
            },
            "error_y": {
             "color": "#2a3f5f"
            },
            "marker": {
             "line": {
              "color": "#E5ECF6",
              "width": 0.5
             },
             "pattern": {
              "fillmode": "overlay",
              "size": 10,
              "solidity": 0.2
             }
            },
            "type": "bar"
           }
          ],
          "barpolar": [
           {
            "marker": {
             "line": {
              "color": "#E5ECF6",
              "width": 0.5
             },
             "pattern": {
              "fillmode": "overlay",
              "size": 10,
              "solidity": 0.2
             }
            },
            "type": "barpolar"
           }
          ],
          "carpet": [
           {
            "aaxis": {
             "endlinecolor": "#2a3f5f",
             "gridcolor": "white",
             "linecolor": "white",
             "minorgridcolor": "white",
             "startlinecolor": "#2a3f5f"
            },
            "baxis": {
             "endlinecolor": "#2a3f5f",
             "gridcolor": "white",
             "linecolor": "white",
             "minorgridcolor": "white",
             "startlinecolor": "#2a3f5f"
            },
            "type": "carpet"
           }
          ],
          "choropleth": [
           {
            "colorbar": {
             "outlinewidth": 0,
             "ticks": ""
            },
            "type": "choropleth"
           }
          ],
          "contour": [
           {
            "colorbar": {
             "outlinewidth": 0,
             "ticks": ""
            },
            "colorscale": [
             [
              0,
              "#0d0887"
             ],
             [
              0.1111111111111111,
              "#46039f"
             ],
             [
              0.2222222222222222,
              "#7201a8"
             ],
             [
              0.3333333333333333,
              "#9c179e"
             ],
             [
              0.4444444444444444,
              "#bd3786"
             ],
             [
              0.5555555555555556,
              "#d8576b"
             ],
             [
              0.6666666666666666,
              "#ed7953"
             ],
             [
              0.7777777777777778,
              "#fb9f3a"
             ],
             [
              0.8888888888888888,
              "#fdca26"
             ],
             [
              1,
              "#f0f921"
             ]
            ],
            "type": "contour"
           }
          ],
          "contourcarpet": [
           {
            "colorbar": {
             "outlinewidth": 0,
             "ticks": ""
            },
            "type": "contourcarpet"
           }
          ],
          "heatmap": [
           {
            "colorbar": {
             "outlinewidth": 0,
             "ticks": ""
            },
            "colorscale": [
             [
              0,
              "#0d0887"
             ],
             [
              0.1111111111111111,
              "#46039f"
             ],
             [
              0.2222222222222222,
              "#7201a8"
             ],
             [
              0.3333333333333333,
              "#9c179e"
             ],
             [
              0.4444444444444444,
              "#bd3786"
             ],
             [
              0.5555555555555556,
              "#d8576b"
             ],
             [
              0.6666666666666666,
              "#ed7953"
             ],
             [
              0.7777777777777778,
              "#fb9f3a"
             ],
             [
              0.8888888888888888,
              "#fdca26"
             ],
             [
              1,
              "#f0f921"
             ]
            ],
            "type": "heatmap"
           }
          ],
          "heatmapgl": [
           {
            "colorbar": {
             "outlinewidth": 0,
             "ticks": ""
            },
            "colorscale": [
             [
              0,
              "#0d0887"
             ],
             [
              0.1111111111111111,
              "#46039f"
             ],
             [
              0.2222222222222222,
              "#7201a8"
             ],
             [
              0.3333333333333333,
              "#9c179e"
             ],
             [
              0.4444444444444444,
              "#bd3786"
             ],
             [
              0.5555555555555556,
              "#d8576b"
             ],
             [
              0.6666666666666666,
              "#ed7953"
             ],
             [
              0.7777777777777778,
              "#fb9f3a"
             ],
             [
              0.8888888888888888,
              "#fdca26"
             ],
             [
              1,
              "#f0f921"
             ]
            ],
            "type": "heatmapgl"
           }
          ],
          "histogram": [
           {
            "marker": {
             "pattern": {
              "fillmode": "overlay",
              "size": 10,
              "solidity": 0.2
             }
            },
            "type": "histogram"
           }
          ],
          "histogram2d": [
           {
            "colorbar": {
             "outlinewidth": 0,
             "ticks": ""
            },
            "colorscale": [
             [
              0,
              "#0d0887"
             ],
             [
              0.1111111111111111,
              "#46039f"
             ],
             [
              0.2222222222222222,
              "#7201a8"
             ],
             [
              0.3333333333333333,
              "#9c179e"
             ],
             [
              0.4444444444444444,
              "#bd3786"
             ],
             [
              0.5555555555555556,
              "#d8576b"
             ],
             [
              0.6666666666666666,
              "#ed7953"
             ],
             [
              0.7777777777777778,
              "#fb9f3a"
             ],
             [
              0.8888888888888888,
              "#fdca26"
             ],
             [
              1,
              "#f0f921"
             ]
            ],
            "type": "histogram2d"
           }
          ],
          "histogram2dcontour": [
           {
            "colorbar": {
             "outlinewidth": 0,
             "ticks": ""
            },
            "colorscale": [
             [
              0,
              "#0d0887"
             ],
             [
              0.1111111111111111,
              "#46039f"
             ],
             [
              0.2222222222222222,
              "#7201a8"
             ],
             [
              0.3333333333333333,
              "#9c179e"
             ],
             [
              0.4444444444444444,
              "#bd3786"
             ],
             [
              0.5555555555555556,
              "#d8576b"
             ],
             [
              0.6666666666666666,
              "#ed7953"
             ],
             [
              0.7777777777777778,
              "#fb9f3a"
             ],
             [
              0.8888888888888888,
              "#fdca26"
             ],
             [
              1,
              "#f0f921"
             ]
            ],
            "type": "histogram2dcontour"
           }
          ],
          "mesh3d": [
           {
            "colorbar": {
             "outlinewidth": 0,
             "ticks": ""
            },
            "type": "mesh3d"
           }
          ],
          "parcoords": [
           {
            "line": {
             "colorbar": {
              "outlinewidth": 0,
              "ticks": ""
             }
            },
            "type": "parcoords"
           }
          ],
          "pie": [
           {
            "automargin": true,
            "type": "pie"
           }
          ],
          "scatter": [
           {
            "fillpattern": {
             "fillmode": "overlay",
             "size": 10,
             "solidity": 0.2
            },
            "type": "scatter"
           }
          ],
          "scatter3d": [
           {
            "line": {
             "colorbar": {
              "outlinewidth": 0,
              "ticks": ""
             }
            },
            "marker": {
             "colorbar": {
              "outlinewidth": 0,
              "ticks": ""
             }
            },
            "type": "scatter3d"
           }
          ],
          "scattercarpet": [
           {
            "marker": {
             "colorbar": {
              "outlinewidth": 0,
              "ticks": ""
             }
            },
            "type": "scattercarpet"
           }
          ],
          "scattergeo": [
           {
            "marker": {
             "colorbar": {
              "outlinewidth": 0,
              "ticks": ""
             }
            },
            "type": "scattergeo"
           }
          ],
          "scattergl": [
           {
            "marker": {
             "colorbar": {
              "outlinewidth": 0,
              "ticks": ""
             }
            },
            "type": "scattergl"
           }
          ],
          "scattermapbox": [
           {
            "marker": {
             "colorbar": {
              "outlinewidth": 0,
              "ticks": ""
             }
            },
            "type": "scattermapbox"
           }
          ],
          "scatterpolar": [
           {
            "marker": {
             "colorbar": {
              "outlinewidth": 0,
              "ticks": ""
             }
            },
            "type": "scatterpolar"
           }
          ],
          "scatterpolargl": [
           {
            "marker": {
             "colorbar": {
              "outlinewidth": 0,
              "ticks": ""
             }
            },
            "type": "scatterpolargl"
           }
          ],
          "scatterternary": [
           {
            "marker": {
             "colorbar": {
              "outlinewidth": 0,
              "ticks": ""
             }
            },
            "type": "scatterternary"
           }
          ],
          "surface": [
           {
            "colorbar": {
             "outlinewidth": 0,
             "ticks": ""
            },
            "colorscale": [
             [
              0,
              "#0d0887"
             ],
             [
              0.1111111111111111,
              "#46039f"
             ],
             [
              0.2222222222222222,
              "#7201a8"
             ],
             [
              0.3333333333333333,
              "#9c179e"
             ],
             [
              0.4444444444444444,
              "#bd3786"
             ],
             [
              0.5555555555555556,
              "#d8576b"
             ],
             [
              0.6666666666666666,
              "#ed7953"
             ],
             [
              0.7777777777777778,
              "#fb9f3a"
             ],
             [
              0.8888888888888888,
              "#fdca26"
             ],
             [
              1,
              "#f0f921"
             ]
            ],
            "type": "surface"
           }
          ],
          "table": [
           {
            "cells": {
             "fill": {
              "color": "#EBF0F8"
             },
             "line": {
              "color": "white"
             }
            },
            "header": {
             "fill": {
              "color": "#C8D4E3"
             },
             "line": {
              "color": "white"
             }
            },
            "type": "table"
           }
          ]
         },
         "layout": {
          "annotationdefaults": {
           "arrowcolor": "#2a3f5f",
           "arrowhead": 0,
           "arrowwidth": 1
          },
          "autotypenumbers": "strict",
          "coloraxis": {
           "colorbar": {
            "outlinewidth": 0,
            "ticks": ""
           }
          },
          "colorscale": {
           "diverging": [
            [
             0,
             "#8e0152"
            ],
            [
             0.1,
             "#c51b7d"
            ],
            [
             0.2,
             "#de77ae"
            ],
            [
             0.3,
             "#f1b6da"
            ],
            [
             0.4,
             "#fde0ef"
            ],
            [
             0.5,
             "#f7f7f7"
            ],
            [
             0.6,
             "#e6f5d0"
            ],
            [
             0.7,
             "#b8e186"
            ],
            [
             0.8,
             "#7fbc41"
            ],
            [
             0.9,
             "#4d9221"
            ],
            [
             1,
             "#276419"
            ]
           ],
           "sequential": [
            [
             0,
             "#0d0887"
            ],
            [
             0.1111111111111111,
             "#46039f"
            ],
            [
             0.2222222222222222,
             "#7201a8"
            ],
            [
             0.3333333333333333,
             "#9c179e"
            ],
            [
             0.4444444444444444,
             "#bd3786"
            ],
            [
             0.5555555555555556,
             "#d8576b"
            ],
            [
             0.6666666666666666,
             "#ed7953"
            ],
            [
             0.7777777777777778,
             "#fb9f3a"
            ],
            [
             0.8888888888888888,
             "#fdca26"
            ],
            [
             1,
             "#f0f921"
            ]
           ],
           "sequentialminus": [
            [
             0,
             "#0d0887"
            ],
            [
             0.1111111111111111,
             "#46039f"
            ],
            [
             0.2222222222222222,
             "#7201a8"
            ],
            [
             0.3333333333333333,
             "#9c179e"
            ],
            [
             0.4444444444444444,
             "#bd3786"
            ],
            [
             0.5555555555555556,
             "#d8576b"
            ],
            [
             0.6666666666666666,
             "#ed7953"
            ],
            [
             0.7777777777777778,
             "#fb9f3a"
            ],
            [
             0.8888888888888888,
             "#fdca26"
            ],
            [
             1,
             "#f0f921"
            ]
           ]
          },
          "colorway": [
           "#636efa",
           "#EF553B",
           "#00cc96",
           "#ab63fa",
           "#FFA15A",
           "#19d3f3",
           "#FF6692",
           "#B6E880",
           "#FF97FF",
           "#FECB52"
          ],
          "font": {
           "color": "#2a3f5f"
          },
          "geo": {
           "bgcolor": "white",
           "lakecolor": "white",
           "landcolor": "#E5ECF6",
           "showlakes": true,
           "showland": true,
           "subunitcolor": "white"
          },
          "hoverlabel": {
           "align": "left"
          },
          "hovermode": "closest",
          "mapbox": {
           "style": "light"
          },
          "paper_bgcolor": "white",
          "plot_bgcolor": "#E5ECF6",
          "polar": {
           "angularaxis": {
            "gridcolor": "white",
            "linecolor": "white",
            "ticks": ""
           },
           "bgcolor": "#E5ECF6",
           "radialaxis": {
            "gridcolor": "white",
            "linecolor": "white",
            "ticks": ""
           }
          },
          "scene": {
           "xaxis": {
            "backgroundcolor": "#E5ECF6",
            "gridcolor": "white",
            "gridwidth": 2,
            "linecolor": "white",
            "showbackground": true,
            "ticks": "",
            "zerolinecolor": "white"
           },
           "yaxis": {
            "backgroundcolor": "#E5ECF6",
            "gridcolor": "white",
            "gridwidth": 2,
            "linecolor": "white",
            "showbackground": true,
            "ticks": "",
            "zerolinecolor": "white"
           },
           "zaxis": {
            "backgroundcolor": "#E5ECF6",
            "gridcolor": "white",
            "gridwidth": 2,
            "linecolor": "white",
            "showbackground": true,
            "ticks": "",
            "zerolinecolor": "white"
           }
          },
          "shapedefaults": {
           "line": {
            "color": "#2a3f5f"
           }
          },
          "ternary": {
           "aaxis": {
            "gridcolor": "white",
            "linecolor": "white",
            "ticks": ""
           },
           "baxis": {
            "gridcolor": "white",
            "linecolor": "white",
            "ticks": ""
           },
           "bgcolor": "#E5ECF6",
           "caxis": {
            "gridcolor": "white",
            "linecolor": "white",
            "ticks": ""
           }
          },
          "title": {
           "x": 0.05
          },
          "xaxis": {
           "automargin": true,
           "gridcolor": "white",
           "linecolor": "white",
           "ticks": "",
           "title": {
            "standoff": 15
           },
           "zerolinecolor": "white",
           "zerolinewidth": 2
          },
          "yaxis": {
           "automargin": true,
           "gridcolor": "white",
           "linecolor": "white",
           "ticks": "",
           "title": {
            "standoff": 15
           },
           "zerolinecolor": "white",
           "zerolinewidth": 2
          }
         }
        },
        "title": {
         "text": "Average Trading Price by Time of Day"
        },
        "xaxis": {
         "title": {
          "text": "Date"
         }
        },
        "yaxis": {
         "title": {
          "text": "Price ($/kWh)"
         }
        }
       }
      }
     },
     "metadata": {},
     "output_type": "display_data"
    },
    {
     "name": "stdout",
     "output_type": "stream",
     "text": [
      "\n",
      "Seasonal Trading Statistics:\n",
      "          amount  price_per_unit  total_cost\n",
      "Season                                      \n",
      "fall     7445.19            0.28     2027.46\n",
      "spring  20098.40            0.32     6320.55\n",
      "summer  18732.51            0.35     6691.01\n",
      "\n",
      "Household Trading Summary:\n",
      "    Total_Sales  Total_Purchases  Volume_Sold  Volume_Bought\n",
      "H1        30.86          3652.57       101.33       11213.83\n",
      "H2         0.00          6037.45         0.00       18662.80\n",
      "H3     10445.48             6.62     32764.73          23.82\n",
      "H4         0.00          5244.30         0.00       16053.58\n",
      "H5      4562.68            98.08     13410.04         322.05\n"
     ]
    },
    {
     "data": {
      "application/vnd.plotly.v1+json": {
       "config": {
        "plotlyServerURL": "https://plot.ly"
       },
       "data": [
        {
         "hoverinfo": "text",
         "mode": "lines+markers",
         "name": "$5.92",
         "text": [
          "Seller: H3<br>Price: $0.256/kWh",
          "Buyer: H1<br>Amount: 23.12749999999994 kWh"
         ],
         "type": "scatter",
         "x": [
          "H3",
          "H1"
         ],
         "y": [
          23.12749999999994,
          23.12749999999994
         ]
        },
        {
         "hoverinfo": "text",
         "mode": "lines+markers",
         "name": "$1.02",
         "text": [
          "Seller: H5<br>Price: $0.301/kWh",
          "Buyer: H1<br>Amount: 3.3749999999997726 kWh"
         ],
         "type": "scatter",
         "x": [
          "H5",
          "H1"
         ],
         "y": [
          3.3749999999997726,
          3.3749999999997726
         ]
        },
        {
         "hoverinfo": "text",
         "mode": "lines+markers",
         "name": "$6.54",
         "text": [
          "Seller: H3<br>Price: $0.283/kWh",
          "Buyer: H2<br>Amount: 23.12749999999994 kWh"
         ],
         "type": "scatter",
         "x": [
          "H3",
          "H2"
         ],
         "y": [
          23.12749999999994,
          23.12749999999994
         ]
        },
        {
         "hoverinfo": "text",
         "mode": "lines+markers",
         "name": "$0.99",
         "text": [
          "Seller: H5<br>Price: $0.293/kWh",
          "Buyer: H2<br>Amount: 3.3749999999997726 kWh"
         ],
         "type": "scatter",
         "x": [
          "H5",
          "H2"
         ],
         "y": [
          3.3749999999997726,
          3.3749999999997726
         ]
        },
        {
         "hoverinfo": "text",
         "mode": "lines+markers",
         "name": "$6.04",
         "text": [
          "Seller: H3<br>Price: $0.261/kWh",
          "Buyer: H4<br>Amount: 23.12749999999994 kWh"
         ],
         "type": "scatter",
         "x": [
          "H3",
          "H4"
         ],
         "y": [
          23.12749999999994,
          23.12749999999994
         ]
        },
        {
         "hoverinfo": "text",
         "mode": "lines+markers",
         "name": "$1.04",
         "text": [
          "Seller: H5<br>Price: $0.308/kWh",
          "Buyer: H4<br>Amount: 3.3749999999997726 kWh"
         ],
         "type": "scatter",
         "x": [
          "H5",
          "H4"
         ],
         "y": [
          3.3749999999997726,
          3.3749999999997726
         ]
        }
       ],
       "layout": {
        "showlegend": false,
        "template": {
         "data": {
          "bar": [
           {
            "error_x": {
             "color": "#2a3f5f"
            },
            "error_y": {
             "color": "#2a3f5f"
            },
            "marker": {
             "line": {
              "color": "#E5ECF6",
              "width": 0.5
             },
             "pattern": {
              "fillmode": "overlay",
              "size": 10,
              "solidity": 0.2
             }
            },
            "type": "bar"
           }
          ],
          "barpolar": [
           {
            "marker": {
             "line": {
              "color": "#E5ECF6",
              "width": 0.5
             },
             "pattern": {
              "fillmode": "overlay",
              "size": 10,
              "solidity": 0.2
             }
            },
            "type": "barpolar"
           }
          ],
          "carpet": [
           {
            "aaxis": {
             "endlinecolor": "#2a3f5f",
             "gridcolor": "white",
             "linecolor": "white",
             "minorgridcolor": "white",
             "startlinecolor": "#2a3f5f"
            },
            "baxis": {
             "endlinecolor": "#2a3f5f",
             "gridcolor": "white",
             "linecolor": "white",
             "minorgridcolor": "white",
             "startlinecolor": "#2a3f5f"
            },
            "type": "carpet"
           }
          ],
          "choropleth": [
           {
            "colorbar": {
             "outlinewidth": 0,
             "ticks": ""
            },
            "type": "choropleth"
           }
          ],
          "contour": [
           {
            "colorbar": {
             "outlinewidth": 0,
             "ticks": ""
            },
            "colorscale": [
             [
              0,
              "#0d0887"
             ],
             [
              0.1111111111111111,
              "#46039f"
             ],
             [
              0.2222222222222222,
              "#7201a8"
             ],
             [
              0.3333333333333333,
              "#9c179e"
             ],
             [
              0.4444444444444444,
              "#bd3786"
             ],
             [
              0.5555555555555556,
              "#d8576b"
             ],
             [
              0.6666666666666666,
              "#ed7953"
             ],
             [
              0.7777777777777778,
              "#fb9f3a"
             ],
             [
              0.8888888888888888,
              "#fdca26"
             ],
             [
              1,
              "#f0f921"
             ]
            ],
            "type": "contour"
           }
          ],
          "contourcarpet": [
           {
            "colorbar": {
             "outlinewidth": 0,
             "ticks": ""
            },
            "type": "contourcarpet"
           }
          ],
          "heatmap": [
           {
            "colorbar": {
             "outlinewidth": 0,
             "ticks": ""
            },
            "colorscale": [
             [
              0,
              "#0d0887"
             ],
             [
              0.1111111111111111,
              "#46039f"
             ],
             [
              0.2222222222222222,
              "#7201a8"
             ],
             [
              0.3333333333333333,
              "#9c179e"
             ],
             [
              0.4444444444444444,
              "#bd3786"
             ],
             [
              0.5555555555555556,
              "#d8576b"
             ],
             [
              0.6666666666666666,
              "#ed7953"
             ],
             [
              0.7777777777777778,
              "#fb9f3a"
             ],
             [
              0.8888888888888888,
              "#fdca26"
             ],
             [
              1,
              "#f0f921"
             ]
            ],
            "type": "heatmap"
           }
          ],
          "heatmapgl": [
           {
            "colorbar": {
             "outlinewidth": 0,
             "ticks": ""
            },
            "colorscale": [
             [
              0,
              "#0d0887"
             ],
             [
              0.1111111111111111,
              "#46039f"
             ],
             [
              0.2222222222222222,
              "#7201a8"
             ],
             [
              0.3333333333333333,
              "#9c179e"
             ],
             [
              0.4444444444444444,
              "#bd3786"
             ],
             [
              0.5555555555555556,
              "#d8576b"
             ],
             [
              0.6666666666666666,
              "#ed7953"
             ],
             [
              0.7777777777777778,
              "#fb9f3a"
             ],
             [
              0.8888888888888888,
              "#fdca26"
             ],
             [
              1,
              "#f0f921"
             ]
            ],
            "type": "heatmapgl"
           }
          ],
          "histogram": [
           {
            "marker": {
             "pattern": {
              "fillmode": "overlay",
              "size": 10,
              "solidity": 0.2
             }
            },
            "type": "histogram"
           }
          ],
          "histogram2d": [
           {
            "colorbar": {
             "outlinewidth": 0,
             "ticks": ""
            },
            "colorscale": [
             [
              0,
              "#0d0887"
             ],
             [
              0.1111111111111111,
              "#46039f"
             ],
             [
              0.2222222222222222,
              "#7201a8"
             ],
             [
              0.3333333333333333,
              "#9c179e"
             ],
             [
              0.4444444444444444,
              "#bd3786"
             ],
             [
              0.5555555555555556,
              "#d8576b"
             ],
             [
              0.6666666666666666,
              "#ed7953"
             ],
             [
              0.7777777777777778,
              "#fb9f3a"
             ],
             [
              0.8888888888888888,
              "#fdca26"
             ],
             [
              1,
              "#f0f921"
             ]
            ],
            "type": "histogram2d"
           }
          ],
          "histogram2dcontour": [
           {
            "colorbar": {
             "outlinewidth": 0,
             "ticks": ""
            },
            "colorscale": [
             [
              0,
              "#0d0887"
             ],
             [
              0.1111111111111111,
              "#46039f"
             ],
             [
              0.2222222222222222,
              "#7201a8"
             ],
             [
              0.3333333333333333,
              "#9c179e"
             ],
             [
              0.4444444444444444,
              "#bd3786"
             ],
             [
              0.5555555555555556,
              "#d8576b"
             ],
             [
              0.6666666666666666,
              "#ed7953"
             ],
             [
              0.7777777777777778,
              "#fb9f3a"
             ],
             [
              0.8888888888888888,
              "#fdca26"
             ],
             [
              1,
              "#f0f921"
             ]
            ],
            "type": "histogram2dcontour"
           }
          ],
          "mesh3d": [
           {
            "colorbar": {
             "outlinewidth": 0,
             "ticks": ""
            },
            "type": "mesh3d"
           }
          ],
          "parcoords": [
           {
            "line": {
             "colorbar": {
              "outlinewidth": 0,
              "ticks": ""
             }
            },
            "type": "parcoords"
           }
          ],
          "pie": [
           {
            "automargin": true,
            "type": "pie"
           }
          ],
          "scatter": [
           {
            "fillpattern": {
             "fillmode": "overlay",
             "size": 10,
             "solidity": 0.2
            },
            "type": "scatter"
           }
          ],
          "scatter3d": [
           {
            "line": {
             "colorbar": {
              "outlinewidth": 0,
              "ticks": ""
             }
            },
            "marker": {
             "colorbar": {
              "outlinewidth": 0,
              "ticks": ""
             }
            },
            "type": "scatter3d"
           }
          ],
          "scattercarpet": [
           {
            "marker": {
             "colorbar": {
              "outlinewidth": 0,
              "ticks": ""
             }
            },
            "type": "scattercarpet"
           }
          ],
          "scattergeo": [
           {
            "marker": {
             "colorbar": {
              "outlinewidth": 0,
              "ticks": ""
             }
            },
            "type": "scattergeo"
           }
          ],
          "scattergl": [
           {
            "marker": {
             "colorbar": {
              "outlinewidth": 0,
              "ticks": ""
             }
            },
            "type": "scattergl"
           }
          ],
          "scattermapbox": [
           {
            "marker": {
             "colorbar": {
              "outlinewidth": 0,
              "ticks": ""
             }
            },
            "type": "scattermapbox"
           }
          ],
          "scatterpolar": [
           {
            "marker": {
             "colorbar": {
              "outlinewidth": 0,
              "ticks": ""
             }
            },
            "type": "scatterpolar"
           }
          ],
          "scatterpolargl": [
           {
            "marker": {
             "colorbar": {
              "outlinewidth": 0,
              "ticks": ""
             }
            },
            "type": "scatterpolargl"
           }
          ],
          "scatterternary": [
           {
            "marker": {
             "colorbar": {
              "outlinewidth": 0,
              "ticks": ""
             }
            },
            "type": "scatterternary"
           }
          ],
          "surface": [
           {
            "colorbar": {
             "outlinewidth": 0,
             "ticks": ""
            },
            "colorscale": [
             [
              0,
              "#0d0887"
             ],
             [
              0.1111111111111111,
              "#46039f"
             ],
             [
              0.2222222222222222,
              "#7201a8"
             ],
             [
              0.3333333333333333,
              "#9c179e"
             ],
             [
              0.4444444444444444,
              "#bd3786"
             ],
             [
              0.5555555555555556,
              "#d8576b"
             ],
             [
              0.6666666666666666,
              "#ed7953"
             ],
             [
              0.7777777777777778,
              "#fb9f3a"
             ],
             [
              0.8888888888888888,
              "#fdca26"
             ],
             [
              1,
              "#f0f921"
             ]
            ],
            "type": "surface"
           }
          ],
          "table": [
           {
            "cells": {
             "fill": {
              "color": "#EBF0F8"
             },
             "line": {
              "color": "white"
             }
            },
            "header": {
             "fill": {
              "color": "#C8D4E3"
             },
             "line": {
              "color": "white"
             }
            },
            "type": "table"
           }
          ]
         },
         "layout": {
          "annotationdefaults": {
           "arrowcolor": "#2a3f5f",
           "arrowhead": 0,
           "arrowwidth": 1
          },
          "autotypenumbers": "strict",
          "coloraxis": {
           "colorbar": {
            "outlinewidth": 0,
            "ticks": ""
           }
          },
          "colorscale": {
           "diverging": [
            [
             0,
             "#8e0152"
            ],
            [
             0.1,
             "#c51b7d"
            ],
            [
             0.2,
             "#de77ae"
            ],
            [
             0.3,
             "#f1b6da"
            ],
            [
             0.4,
             "#fde0ef"
            ],
            [
             0.5,
             "#f7f7f7"
            ],
            [
             0.6,
             "#e6f5d0"
            ],
            [
             0.7,
             "#b8e186"
            ],
            [
             0.8,
             "#7fbc41"
            ],
            [
             0.9,
             "#4d9221"
            ],
            [
             1,
             "#276419"
            ]
           ],
           "sequential": [
            [
             0,
             "#0d0887"
            ],
            [
             0.1111111111111111,
             "#46039f"
            ],
            [
             0.2222222222222222,
             "#7201a8"
            ],
            [
             0.3333333333333333,
             "#9c179e"
            ],
            [
             0.4444444444444444,
             "#bd3786"
            ],
            [
             0.5555555555555556,
             "#d8576b"
            ],
            [
             0.6666666666666666,
             "#ed7953"
            ],
            [
             0.7777777777777778,
             "#fb9f3a"
            ],
            [
             0.8888888888888888,
             "#fdca26"
            ],
            [
             1,
             "#f0f921"
            ]
           ],
           "sequentialminus": [
            [
             0,
             "#0d0887"
            ],
            [
             0.1111111111111111,
             "#46039f"
            ],
            [
             0.2222222222222222,
             "#7201a8"
            ],
            [
             0.3333333333333333,
             "#9c179e"
            ],
            [
             0.4444444444444444,
             "#bd3786"
            ],
            [
             0.5555555555555556,
             "#d8576b"
            ],
            [
             0.6666666666666666,
             "#ed7953"
            ],
            [
             0.7777777777777778,
             "#fb9f3a"
            ],
            [
             0.8888888888888888,
             "#fdca26"
            ],
            [
             1,
             "#f0f921"
            ]
           ]
          },
          "colorway": [
           "#636efa",
           "#EF553B",
           "#00cc96",
           "#ab63fa",
           "#FFA15A",
           "#19d3f3",
           "#FF6692",
           "#B6E880",
           "#FF97FF",
           "#FECB52"
          ],
          "font": {
           "color": "#2a3f5f"
          },
          "geo": {
           "bgcolor": "white",
           "lakecolor": "white",
           "landcolor": "#E5ECF6",
           "showlakes": true,
           "showland": true,
           "subunitcolor": "white"
          },
          "hoverlabel": {
           "align": "left"
          },
          "hovermode": "closest",
          "mapbox": {
           "style": "light"
          },
          "paper_bgcolor": "white",
          "plot_bgcolor": "#E5ECF6",
          "polar": {
           "angularaxis": {
            "gridcolor": "white",
            "linecolor": "white",
            "ticks": ""
           },
           "bgcolor": "#E5ECF6",
           "radialaxis": {
            "gridcolor": "white",
            "linecolor": "white",
            "ticks": ""
           }
          },
          "scene": {
           "xaxis": {
            "backgroundcolor": "#E5ECF6",
            "gridcolor": "white",
            "gridwidth": 2,
            "linecolor": "white",
            "showbackground": true,
            "ticks": "",
            "zerolinecolor": "white"
           },
           "yaxis": {
            "backgroundcolor": "#E5ECF6",
            "gridcolor": "white",
            "gridwidth": 2,
            "linecolor": "white",
            "showbackground": true,
            "ticks": "",
            "zerolinecolor": "white"
           },
           "zaxis": {
            "backgroundcolor": "#E5ECF6",
            "gridcolor": "white",
            "gridwidth": 2,
            "linecolor": "white",
            "showbackground": true,
            "ticks": "",
            "zerolinecolor": "white"
           }
          },
          "shapedefaults": {
           "line": {
            "color": "#2a3f5f"
           }
          },
          "ternary": {
           "aaxis": {
            "gridcolor": "white",
            "linecolor": "white",
            "ticks": ""
           },
           "baxis": {
            "gridcolor": "white",
            "linecolor": "white",
            "ticks": ""
           },
           "bgcolor": "#E5ECF6",
           "caxis": {
            "gridcolor": "white",
            "linecolor": "white",
            "ticks": ""
           }
          },
          "title": {
           "x": 0.05
          },
          "xaxis": {
           "automargin": true,
           "gridcolor": "white",
           "linecolor": "white",
           "ticks": "",
           "title": {
            "standoff": 15
           },
           "zerolinecolor": "white",
           "zerolinewidth": 2
          },
          "yaxis": {
           "automargin": true,
           "gridcolor": "white",
           "linecolor": "white",
           "ticks": "",
           "title": {
            "standoff": 15
           },
           "zerolinecolor": "white",
           "zerolinewidth": 2
          }
         }
        },
        "title": {
         "text": "Energy Trading Network (Time: 21:00)"
        }
       }
      }
     },
     "metadata": {},
     "output_type": "display_data"
    }
   ],
   "source": [
    "import sys\n",
    "import os\n",
    "from pathlib import Path\n",
    "\n",
    "# Add parent directory to Python path\n",
    "notebook_dir = Path(os.getcwd())\n",
    "project_dir = notebook_dir.parent\n",
    "sys.path.append(str(project_dir))\n",
    "\n",
    "\n",
    "\n",
    "# notebooks/03_trading_simulation.ipynb\n",
    "\n",
    "import pandas as pd\n",
    "import numpy as np\n",
    "import plotly.graph_objects as go\n",
    "from datetime import datetime\n",
    "from src.models.trading_engine import DynamicTradingEngine\n",
    "from src.data_processor import DataProcessor\n",
    "from src.models.expenditure_predictor import ExpenditurePredictor\n",
    "import tensorflow as tf\n",
    "from tensorflow.keras.models import Sequential\n",
    "\n",
    "\n",
    "\n",
    "# Load data\n",
    "processor = DataProcessor()\n",
    "df = processor.load_household_data('../data/sample_household_data.csv')\n",
    "\n",
    "\n",
    "# First, load and train models for each household\n",
    "\n",
    "# Train prediction models\n",
    "# household_predictors = {}\n",
    "# for household in df['HouseholdID'].unique():\n",
    "#     household_df = df[df['HouseholdID'] == household].copy()\n",
    "#     X, y = processor.prepare_training_data(household_df)\n",
    "    \n",
    "#     # Split data\n",
    "#     train_size = int(len(X) * 0.8)\n",
    "#     X_train = X[:train_size]\n",
    "#     y_train = y[:train_size]\n",
    "    \n",
    "#     # Train model\n",
    "#     predictor = ExpenditurePredictor()\n",
    "#     predictor.train(X_train, y_train)\n",
    "#     household_predictors[household] = predictor\n",
    "household_models = {}\n",
    "for household in df['HouseholdID'].unique():\n",
    "    model_path = f'../src/models/saved/model_{household}.keras'\n",
    "    household_models[household] = tf.keras.models.load_model(model_path)\n",
    "\n",
    "def simulate_future_trading(current_date, trained_models):\n",
    "    \"\"\"Simulate trading based on predicted values using pre-trained models\"\"\"\n",
    "    future_trades = []\n",
    "    \n",
    "    for household in df['HouseholdID'].unique():\n",
    "        # Get recent data for prediction\n",
    "        recent_data = df[\n",
    "            (df['HouseholdID'] == household) & \n",
    "            (df['Date'] <= current_date)\n",
    "        ].tail(4)  # Last 4 weeks for prediction\n",
    "        \n",
    "        # Prepare input for prediction using the modified prepare_prediction_data method\n",
    "        X_pred = processor.prepare_prediction_data(recent_data)\n",
    "        \n",
    "        # Use the pre-trained model for this household\n",
    "        predictor = trained_models[household]\n",
    "        predicted_expenditure = predictor.predict(X_pred)\n",
    "        \n",
    "        # Use last known values for usage and generation\n",
    "        predicted_usage = recent_data['EnergyUsed'].mean()\n",
    "        predicted_generation = recent_data['EnergyGeneratedFromRenewableSources'].mean()\n",
    "        \n",
    "        future_trades.append({\n",
    "            'HouseholdID': household,\n",
    "            'PredictedUsage': predicted_usage,\n",
    "            'PredictedGeneration': predicted_generation,\n",
    "            'PredictedExpenditure': predicted_expenditure[0]\n",
    "        })\n",
    "    \n",
    "    return pd.DataFrame(future_trades)\n",
    "\n",
    "\n",
    "\n",
    "\n",
    "# Initialize trading engine\n",
    "engine = DynamicTradingEngine()\n",
    "\n",
    "def get_season(date):\n",
    "    month = pd.to_datetime(date).month\n",
    "    if month in [12, 1, 2]:\n",
    "        return 'winter'\n",
    "    elif month in [3, 4, 5]:\n",
    "        return 'spring'\n",
    "    elif month in [6, 7, 8]:\n",
    "        return 'summer'\n",
    "    else:\n",
    "        return 'fall'\n",
    "\n",
    "def simulate_weekly_trading(week_data, time_of_day=14, trained_models=household_models):\n",
    "    # Use predicted values instead of historical data\n",
    "    current_date = week_data['Date'].iloc[0]\n",
    "    future_data = simulate_future_trading(current_date, trained_models)\n",
    "    \n",
    "    # Calculate predicted surplus/deficit\n",
    "    future_data['Delta'] = future_data['PredictedGeneration'] - future_data['PredictedUsage']\n",
    "    \n",
    "    # Rest of the function remains similar but uses predicted values\n",
    "    sellers = future_data[future_data['Delta'] > 0].copy()\n",
    "    buyers = future_data[future_data['Delta'] < 0].copy()\n",
    "    \n",
    "    print(f\"Time: {time_of_day}:00\")\n",
    "    print(f\"Number of sellers: {len(sellers)}\")\n",
    "    print(f\"Number of buyers: {len(buyers)}\")\n",
    "    \n",
    "    if len(sellers) == 0 or len(buyers) == 0:\n",
    "        return pd.DataFrame()\n",
    "    \n",
    "    # Get season for the trading day\n",
    "    season = get_season(week_data['Date'].iloc[0])\n",
    "    \n",
    "    # Calculate dynamic price based on current market conditions\n",
    "    current_market_price = engine.calculate_dynamic_price(\n",
    "        sellers['Delta'].sum(),\n",
    "        -buyers['Delta'].sum(),\n",
    "        time_of_day,\n",
    "        season\n",
    "    )\n",
    "    \n",
    "    print(f\"Current market price: ${current_market_price:.4f}/kWh\")\n",
    "    \n",
    "    # Prepare sellers dataframe with more competitive rates\n",
    "    sellers_df = pd.DataFrame({\n",
    "        'householdID': sellers['HouseholdID'],\n",
    "        'unitsToBeSold': sellers['Delta'],\n",
    "        'sellingRate': current_market_price * 0.9  # More competitive selling rate\n",
    "    })\n",
    "    \n",
    "    # Prepare buyers dataframe with higher buying rates\n",
    "    buyers_df = pd.DataFrame({\n",
    "        'householdID': buyers['HouseholdID'],\n",
    "        'demand': -buyers['Delta'],\n",
    "        'buyingRate': current_market_price * 1.1  # Higher buying rate to ensure trades\n",
    "    })\n",
    "    \n",
    "    return engine.match_orders(sellers_df, buyers_df, time_of_day, season)\n",
    "\n",
    "# Simulate trading for each week at different times\n",
    "trading_times = [21]  # 9 AM, 2 PM, 7 PM\n",
    "weekly_trades = []\n",
    "\n",
    "for date in df['Date'].unique():\n",
    "    week_data = df[df['Date'] == date]\n",
    "    for time in trading_times:\n",
    "        trades = simulate_weekly_trading(week_data, time)\n",
    "        if not trades.empty:\n",
    "            trades['Date'] = date\n",
    "            trades['TimeOfDay'] = time\n",
    "            weekly_trades.append(trades)\n",
    "if not weekly_trades:\n",
    "    print(\"No trades were generated during the simulation\")\n",
    "    trading_history = pd.DataFrame(columns=['buyer_id', 'seller_id', 'amount',\n",
    "                                          'price_per_unit', 'total_cost',\n",
    "                                          'timestamp', 'Date', 'TimeOfDay'])\n",
    "else:\n",
    "    trading_history = pd.concat(weekly_trades, ignore_index=True)\n",
    "\n",
    "# Visualizations\n",
    "# 1. Trading Volume Over Time with Time-of-Day Breakdown\n",
    "fig1 = go.Figure()\n",
    "for time in trading_times:\n",
    "    time_data = trading_history[trading_history['TimeOfDay'] == time]\n",
    "    daily_volume = time_data.groupby('Date')['amount'].sum()\n",
    "    fig1.add_trace(go.Scatter(\n",
    "        x=daily_volume.index,\n",
    "        y=daily_volume.values,\n",
    "        name=f'{time}:00',\n",
    "        mode='lines'\n",
    "    ))\n",
    "fig1.update_layout(\n",
    "    title='Trading Volume by Time of Day',\n",
    "    xaxis_title='Date',\n",
    "    yaxis_title='Energy Traded (kWh)'\n",
    ")\n",
    "fig1.show()\n",
    "\n",
    "# 2. Price Trends by Time of Day\n",
    "fig2 = go.Figure()\n",
    "for time in trading_times:\n",
    "    time_data = trading_history[trading_history['TimeOfDay'] == time]\n",
    "    daily_price = time_data.groupby('Date')['price_per_unit'].mean()\n",
    "    fig2.add_trace(go.Scatter(\n",
    "        x=daily_price.index,\n",
    "        y=daily_price.values,\n",
    "        name=f'{time}:00',\n",
    "        mode='lines'\n",
    "    ))\n",
    "fig2.update_layout(\n",
    "    title='Average Trading Price by Time of Day',\n",
    "    xaxis_title='Date',\n",
    "    yaxis_title='Price ($/kWh)'\n",
    ")\n",
    "fig2.show()\n",
    "\n",
    "# 3. Seasonal Trading Analysis\n",
    "trading_history['Season'] = trading_history['Date'].apply(get_season)\n",
    "seasonal_stats = trading_history.groupby('Season').agg({\n",
    "    'amount': 'sum',\n",
    "    'price_per_unit': 'mean',\n",
    "    'total_cost': 'sum'\n",
    "}).round(2)\n",
    "\n",
    "print(\"\\nSeasonal Trading Statistics:\")\n",
    "print(seasonal_stats)\n",
    "\n",
    "# 4. Household Trading Summary\n",
    "household_summary = pd.DataFrame({\n",
    "    'Total_Sales': trading_history.groupby('seller_id')['total_cost'].sum(),\n",
    "    'Total_Purchases': trading_history.groupby('buyer_id')['total_cost'].sum(),\n",
    "    'Volume_Sold': trading_history.groupby('seller_id')['amount'].sum(),\n",
    "    'Volume_Bought': trading_history.groupby('buyer_id')['amount'].sum()\n",
    "}).fillna(0).round(2)\n",
    "\n",
    "print(\"\\nHousehold Trading Summary:\")\n",
    "print(household_summary)\n",
    "\n",
    "# 5. Trading Network Visualization (Last Day)\n",
    "def plot_trading_network(trades_sample):\n",
    "    network_fig = go.Figure()\n",
    "    \n",
    "    for _, trade in trades_sample.iterrows():\n",
    "        network_fig.add_trace(go.Scatter(\n",
    "            x=[trade['seller_id'], trade['buyer_id']],\n",
    "            y=[trade['amount'], trade['amount']],\n",
    "            mode='lines+markers',\n",
    "            name=f\"${trade['total_cost']:.2f}\",\n",
    "            text=[f\"Seller: {trade['seller_id']}<br>Price: ${trade['price_per_unit']:.3f}/kWh\", \n",
    "                  f\"Buyer: {trade['buyer_id']}<br>Amount: {trade['amount']} kWh\"],\n",
    "            hoverinfo='text'\n",
    "        ))\n",
    "    \n",
    "    network_fig.update_layout(\n",
    "        title=f'Energy Trading Network (Time: {trades_sample[\"TimeOfDay\"].iloc[0]}:00)',\n",
    "        showlegend=False\n",
    "    )\n",
    "    return network_fig\n",
    "\n",
    "last_date = trading_history['Date'].max()\n",
    "for time in trading_times:\n",
    "    last_trades = trading_history[\n",
    "        (trading_history['Date'] == last_date) & \n",
    "        (trading_history['TimeOfDay'] == time)\n",
    "    ]\n",
    "    if not last_trades.empty:\n",
    "        network_fig = plot_trading_network(last_trades)\n",
    "        network_fig.show()\n"
   ]
  },
  {
   "cell_type": "code",
   "execution_count": 10,
   "metadata": {},
   "outputs": [
    {
     "name": "stdout",
     "output_type": "stream",
     "text": [
      "\n",
      "Trading Forecast for Next 10 Weeks:\n",
      "         Date HouseholdID  PredictedUsage  PredictedGeneration  \\\n",
      "0  2025-02-09          H1          945.15               342.88   \n",
      "1  2025-02-16          H1          945.15               342.88   \n",
      "2  2025-02-23          H1          945.15               342.88   \n",
      "3  2025-03-02          H1          945.15               571.46   \n",
      "4  2025-03-09          H1          945.15               571.46   \n",
      "5  2025-03-16          H1          945.15               571.46   \n",
      "6  2025-03-23          H1          945.15               571.46   \n",
      "7  2025-03-30          H1          945.15               571.46   \n",
      "8  2025-04-06          H1          945.15               571.46   \n",
      "9  2025-04-13          H1          945.15               571.46   \n",
      "10 2025-02-09          H2         1435.22               452.93   \n",
      "11 2025-02-16          H2         1435.22               452.93   \n",
      "12 2025-02-23          H2         1435.22               452.93   \n",
      "13 2025-03-02          H2         1435.22               754.89   \n",
      "14 2025-03-09          H2         1435.22               754.89   \n",
      "15 2025-03-16          H2         1435.22               754.89   \n",
      "16 2025-03-23          H2         1435.22               754.89   \n",
      "17 2025-03-30          H2         1435.22               754.89   \n",
      "18 2025-04-06          H2         1435.22               754.89   \n",
      "19 2025-04-13          H2         1435.22               754.89   \n",
      "20 2025-02-09          H3          716.46               506.45   \n",
      "21 2025-02-16          H3          716.46               506.45   \n",
      "22 2025-02-23          H3          716.46               506.45   \n",
      "23 2025-03-02          H3          716.46               844.09   \n",
      "24 2025-03-09          H3          716.46               844.09   \n",
      "25 2025-03-16          H3          716.46               844.09   \n",
      "26 2025-03-23          H3          716.46               844.09   \n",
      "27 2025-03-30          H3          716.46               844.09   \n",
      "28 2025-04-06          H3          716.46               844.09   \n",
      "29 2025-04-13          H3          716.46               844.09   \n",
      "30 2025-02-09          H4         1206.54               391.90   \n",
      "31 2025-02-16          H4         1206.54               391.90   \n",
      "32 2025-02-23          H4         1206.54               391.90   \n",
      "33 2025-03-02          H4         1206.54               653.16   \n",
      "34 2025-03-09          H4         1206.54               653.16   \n",
      "35 2025-03-16          H4         1206.54               653.16   \n",
      "36 2025-03-23          H4         1206.54               653.16   \n",
      "37 2025-03-30          H4         1206.54               653.16   \n",
      "38 2025-04-06          H4         1206.54               653.16   \n",
      "39 2025-04-13          H4         1206.54               653.16   \n",
      "40 2025-02-09          H5          840.77               562.23   \n",
      "41 2025-02-16          H5          840.77               562.23   \n",
      "42 2025-02-23          H5          840.77               562.23   \n",
      "43 2025-03-02          H5          840.77               937.06   \n",
      "44 2025-03-09          H5          840.77               937.06   \n",
      "45 2025-03-16          H5          840.77               937.06   \n",
      "46 2025-03-23          H5          840.77               937.06   \n",
      "47 2025-03-30          H5          840.77               937.06   \n",
      "48 2025-04-06          H5          840.77               937.06   \n",
      "49 2025-04-13          H5          840.77               937.06   \n",
      "\n",
      "   TradingPosition  DynamicPrice  \n",
      "0            Buyer        0.4517  \n",
      "1            Buyer        0.5441  \n",
      "2            Buyer        0.4759  \n",
      "3            Buyer        0.3020  \n",
      "4            Buyer        0.2781  \n",
      "5            Buyer        0.2603  \n",
      "6            Buyer        0.2858  \n",
      "7            Buyer        0.2701  \n",
      "8            Buyer        0.3008  \n",
      "9            Buyer        0.2692  \n",
      "10           Buyer        0.4774  \n",
      "11           Buyer        0.5491  \n",
      "12           Buyer        0.4713  \n",
      "13           Buyer        0.2924  \n",
      "14           Buyer        0.2774  \n",
      "15           Buyer        0.2669  \n",
      "16           Buyer        0.3078  \n",
      "17           Buyer        0.2998  \n",
      "18           Buyer        0.2560  \n",
      "19           Buyer        0.2933  \n",
      "20           Buyer        0.4441  \n",
      "21           Buyer        0.4289  \n",
      "22           Buyer        0.4496  \n",
      "23          Seller        0.1718  \n",
      "24          Seller        0.1493  \n",
      "25          Seller        0.1530  \n",
      "26          Seller        0.1606  \n",
      "27          Seller        0.1762  \n",
      "28          Seller        0.1600  \n",
      "29          Seller        0.1819  \n",
      "30           Buyer        0.4758  \n",
      "31           Buyer        0.5295  \n",
      "32           Buyer        0.5134  \n",
      "33           Buyer        0.2899  \n",
      "34           Buyer        0.3073  \n",
      "35           Buyer        0.2726  \n",
      "36           Buyer        0.2633  \n",
      "37           Buyer        0.2681  \n",
      "38           Buyer        0.3047  \n",
      "39           Buyer        0.2859  \n",
      "40           Buyer        0.5200  \n",
      "41           Buyer        0.4992  \n",
      "42           Buyer        0.4818  \n",
      "43          Seller        0.1691  \n",
      "44          Seller        0.1891  \n",
      "45          Seller        0.1760  \n",
      "46          Seller        0.1825  \n",
      "47          Seller        0.1846  \n",
      "48          Seller        0.1945  \n",
      "49          Seller        0.1917  \n"
     ]
    }
   ],
   "source": [
    "import sys\n",
    "import os\n",
    "from pathlib import Path\n",
    "import tensorflow as tf\n",
    "\n",
    "# Add parent directory to Python path\n",
    "notebook_dir = Path(os.getcwd())\n",
    "project_dir = notebook_dir.parent\n",
    "sys.path.append(str(project_dir))\n",
    "import pandas as pd\n",
    "\n",
    "from src.data_processor import DataProcessor\n",
    "\n",
    "# Load data\n",
    "processor = DataProcessor()\n",
    "df = processor.load_household_data('../data/sample_household_data.csv')\n",
    "\n",
    "household_models = {}\n",
    "for household in df['HouseholdID'].unique():\n",
    "    model_path = f'../src/models/saved/model_{household}.keras'\n",
    "    household_models[household] = tf.keras.models.load_model(model_path)\n",
    "\n",
    "def predict_future_weeks(df, household_models, num_weeks=10):\n",
    "    \"\"\"Predict energy patterns and trading positions for next n weeks\"\"\"\n",
    "    last_date = pd.to_datetime(df['Date'].max())\n",
    "    future_dates = [last_date + pd.Timedelta(weeks=i+1) for i in range(num_weeks)]\n",
    "    \n",
    "    future_predictions = []\n",
    "    \n",
    "    for household in df['HouseholdID'].unique():\n",
    "        # Get last 4 weeks of data for prediction\n",
    "        recent_data = df[df['HouseholdID'] == household]\n",
    "        X_pred = processor.prepare_prediction_data(recent_data)\n",
    "        \n",
    "        # Get predictions for this household\n",
    "        predictor = household_models[household]\n",
    "        \n",
    "        # Use recent averages for baseline predictions\n",
    "        base_usage = recent_data['EnergyUsed'].mean()\n",
    "        base_generation = recent_data['EnergyGeneratedFromRenewableSources'].mean()\n",
    "        \n",
    "        for future_date in future_dates:\n",
    "            # Adjust predictions based on season\n",
    "            season = get_season(future_date)\n",
    "            season_mult = {\n",
    "                'summer': 1.4,\n",
    "                'winter': 0.6,\n",
    "                'spring': 1.0,\n",
    "                'fall': 0.8\n",
    "            }[season]\n",
    "            \n",
    "            predicted_generation = base_generation * season_mult\n",
    "            predicted_usage = base_usage\n",
    "            \n",
    "            # Calculate if household will be buyer or seller\n",
    "            delta = predicted_generation - predicted_usage\n",
    "            trading_position = 'Seller' if delta > 0 else 'Buyer'\n",
    "            \n",
    "            # Calculate dynamic price based on time of day (using peak hour 14:00)\n",
    "            market_price = engine.calculate_dynamic_price(\n",
    "                total_supply=predicted_generation,\n",
    "                total_demand=predicted_usage,\n",
    "                time_of_day=14,\n",
    "                season=season\n",
    "            )\n",
    "            \n",
    "            future_predictions.append({\n",
    "                'Date': future_date,\n",
    "                'HouseholdID': household,\n",
    "                'PredictedUsage': round(predicted_usage, 2),\n",
    "                'PredictedGeneration': round(predicted_generation, 2),\n",
    "                'TradingPosition': trading_position,\n",
    "                'DynamicPrice': round(market_price, 4)\n",
    "            })\n",
    "    \n",
    "    return pd.DataFrame(future_predictions)\n",
    "\n",
    "# Generate predictions for next 10 weeks\n",
    "future_df = predict_future_weeks(df, household_models)\n",
    "\n",
    "# Display predictions grouped by date\n",
    "print(\"\\nTrading Forecast for Next 10 Weeks:\")\n",
    "# print(future_df['TradingPosition'].value_counts())\n",
    "print(future_df)\n"
   ]
  },
  {
   "cell_type": "code",
   "execution_count": 11,
   "metadata": {},
   "outputs": [
    {
     "data": {
      "text/html": [
       "<div>\n",
       "<style scoped>\n",
       "    .dataframe tbody tr th:only-of-type {\n",
       "        vertical-align: middle;\n",
       "    }\n",
       "\n",
       "    .dataframe tbody tr th {\n",
       "        vertical-align: top;\n",
       "    }\n",
       "\n",
       "    .dataframe thead th {\n",
       "        text-align: right;\n",
       "    }\n",
       "</style>\n",
       "<table border=\"1\" class=\"dataframe\">\n",
       "  <thead>\n",
       "    <tr style=\"text-align: right;\">\n",
       "      <th></th>\n",
       "      <th>Date</th>\n",
       "      <th>HouseholdID</th>\n",
       "      <th>PredictedUsage</th>\n",
       "      <th>PredictedGeneration</th>\n",
       "      <th>TradingPosition</th>\n",
       "      <th>DynamicPrice</th>\n",
       "    </tr>\n",
       "  </thead>\n",
       "  <tbody>\n",
       "    <tr>\n",
       "      <th>0</th>\n",
       "      <td>2025-02-09</td>\n",
       "      <td>H1</td>\n",
       "      <td>945.15</td>\n",
       "      <td>342.88</td>\n",
       "      <td>Buyer</td>\n",
       "      <td>0.4517</td>\n",
       "    </tr>\n",
       "    <tr>\n",
       "      <th>1</th>\n",
       "      <td>2025-02-16</td>\n",
       "      <td>H1</td>\n",
       "      <td>945.15</td>\n",
       "      <td>342.88</td>\n",
       "      <td>Buyer</td>\n",
       "      <td>0.5441</td>\n",
       "    </tr>\n",
       "    <tr>\n",
       "      <th>2</th>\n",
       "      <td>2025-02-23</td>\n",
       "      <td>H1</td>\n",
       "      <td>945.15</td>\n",
       "      <td>342.88</td>\n",
       "      <td>Buyer</td>\n",
       "      <td>0.4759</td>\n",
       "    </tr>\n",
       "    <tr>\n",
       "      <th>3</th>\n",
       "      <td>2025-03-02</td>\n",
       "      <td>H1</td>\n",
       "      <td>945.15</td>\n",
       "      <td>571.46</td>\n",
       "      <td>Buyer</td>\n",
       "      <td>0.3020</td>\n",
       "    </tr>\n",
       "    <tr>\n",
       "      <th>4</th>\n",
       "      <td>2025-03-09</td>\n",
       "      <td>H1</td>\n",
       "      <td>945.15</td>\n",
       "      <td>571.46</td>\n",
       "      <td>Buyer</td>\n",
       "      <td>0.2781</td>\n",
       "    </tr>\n",
       "    <tr>\n",
       "      <th>5</th>\n",
       "      <td>2025-03-16</td>\n",
       "      <td>H1</td>\n",
       "      <td>945.15</td>\n",
       "      <td>571.46</td>\n",
       "      <td>Buyer</td>\n",
       "      <td>0.2603</td>\n",
       "    </tr>\n",
       "    <tr>\n",
       "      <th>6</th>\n",
       "      <td>2025-03-23</td>\n",
       "      <td>H1</td>\n",
       "      <td>945.15</td>\n",
       "      <td>571.46</td>\n",
       "      <td>Buyer</td>\n",
       "      <td>0.2858</td>\n",
       "    </tr>\n",
       "    <tr>\n",
       "      <th>7</th>\n",
       "      <td>2025-03-30</td>\n",
       "      <td>H1</td>\n",
       "      <td>945.15</td>\n",
       "      <td>571.46</td>\n",
       "      <td>Buyer</td>\n",
       "      <td>0.2701</td>\n",
       "    </tr>\n",
       "    <tr>\n",
       "      <th>8</th>\n",
       "      <td>2025-04-06</td>\n",
       "      <td>H1</td>\n",
       "      <td>945.15</td>\n",
       "      <td>571.46</td>\n",
       "      <td>Buyer</td>\n",
       "      <td>0.3008</td>\n",
       "    </tr>\n",
       "    <tr>\n",
       "      <th>9</th>\n",
       "      <td>2025-04-13</td>\n",
       "      <td>H1</td>\n",
       "      <td>945.15</td>\n",
       "      <td>571.46</td>\n",
       "      <td>Buyer</td>\n",
       "      <td>0.2692</td>\n",
       "    </tr>\n",
       "    <tr>\n",
       "      <th>10</th>\n",
       "      <td>2025-02-09</td>\n",
       "      <td>H2</td>\n",
       "      <td>1435.22</td>\n",
       "      <td>452.93</td>\n",
       "      <td>Buyer</td>\n",
       "      <td>0.4774</td>\n",
       "    </tr>\n",
       "    <tr>\n",
       "      <th>11</th>\n",
       "      <td>2025-02-16</td>\n",
       "      <td>H2</td>\n",
       "      <td>1435.22</td>\n",
       "      <td>452.93</td>\n",
       "      <td>Buyer</td>\n",
       "      <td>0.5491</td>\n",
       "    </tr>\n",
       "    <tr>\n",
       "      <th>12</th>\n",
       "      <td>2025-02-23</td>\n",
       "      <td>H2</td>\n",
       "      <td>1435.22</td>\n",
       "      <td>452.93</td>\n",
       "      <td>Buyer</td>\n",
       "      <td>0.4713</td>\n",
       "    </tr>\n",
       "    <tr>\n",
       "      <th>13</th>\n",
       "      <td>2025-03-02</td>\n",
       "      <td>H2</td>\n",
       "      <td>1435.22</td>\n",
       "      <td>754.89</td>\n",
       "      <td>Buyer</td>\n",
       "      <td>0.2924</td>\n",
       "    </tr>\n",
       "    <tr>\n",
       "      <th>14</th>\n",
       "      <td>2025-03-09</td>\n",
       "      <td>H2</td>\n",
       "      <td>1435.22</td>\n",
       "      <td>754.89</td>\n",
       "      <td>Buyer</td>\n",
       "      <td>0.2774</td>\n",
       "    </tr>\n",
       "    <tr>\n",
       "      <th>15</th>\n",
       "      <td>2025-03-16</td>\n",
       "      <td>H2</td>\n",
       "      <td>1435.22</td>\n",
       "      <td>754.89</td>\n",
       "      <td>Buyer</td>\n",
       "      <td>0.2669</td>\n",
       "    </tr>\n",
       "    <tr>\n",
       "      <th>16</th>\n",
       "      <td>2025-03-23</td>\n",
       "      <td>H2</td>\n",
       "      <td>1435.22</td>\n",
       "      <td>754.89</td>\n",
       "      <td>Buyer</td>\n",
       "      <td>0.3078</td>\n",
       "    </tr>\n",
       "    <tr>\n",
       "      <th>17</th>\n",
       "      <td>2025-03-30</td>\n",
       "      <td>H2</td>\n",
       "      <td>1435.22</td>\n",
       "      <td>754.89</td>\n",
       "      <td>Buyer</td>\n",
       "      <td>0.2998</td>\n",
       "    </tr>\n",
       "    <tr>\n",
       "      <th>18</th>\n",
       "      <td>2025-04-06</td>\n",
       "      <td>H2</td>\n",
       "      <td>1435.22</td>\n",
       "      <td>754.89</td>\n",
       "      <td>Buyer</td>\n",
       "      <td>0.2560</td>\n",
       "    </tr>\n",
       "    <tr>\n",
       "      <th>19</th>\n",
       "      <td>2025-04-13</td>\n",
       "      <td>H2</td>\n",
       "      <td>1435.22</td>\n",
       "      <td>754.89</td>\n",
       "      <td>Buyer</td>\n",
       "      <td>0.2933</td>\n",
       "    </tr>\n",
       "    <tr>\n",
       "      <th>20</th>\n",
       "      <td>2025-02-09</td>\n",
       "      <td>H3</td>\n",
       "      <td>716.46</td>\n",
       "      <td>506.45</td>\n",
       "      <td>Buyer</td>\n",
       "      <td>0.4441</td>\n",
       "    </tr>\n",
       "    <tr>\n",
       "      <th>21</th>\n",
       "      <td>2025-02-16</td>\n",
       "      <td>H3</td>\n",
       "      <td>716.46</td>\n",
       "      <td>506.45</td>\n",
       "      <td>Buyer</td>\n",
       "      <td>0.4289</td>\n",
       "    </tr>\n",
       "    <tr>\n",
       "      <th>22</th>\n",
       "      <td>2025-02-23</td>\n",
       "      <td>H3</td>\n",
       "      <td>716.46</td>\n",
       "      <td>506.45</td>\n",
       "      <td>Buyer</td>\n",
       "      <td>0.4496</td>\n",
       "    </tr>\n",
       "    <tr>\n",
       "      <th>23</th>\n",
       "      <td>2025-03-02</td>\n",
       "      <td>H3</td>\n",
       "      <td>716.46</td>\n",
       "      <td>844.09</td>\n",
       "      <td>Seller</td>\n",
       "      <td>0.1718</td>\n",
       "    </tr>\n",
       "    <tr>\n",
       "      <th>24</th>\n",
       "      <td>2025-03-09</td>\n",
       "      <td>H3</td>\n",
       "      <td>716.46</td>\n",
       "      <td>844.09</td>\n",
       "      <td>Seller</td>\n",
       "      <td>0.1493</td>\n",
       "    </tr>\n",
       "    <tr>\n",
       "      <th>25</th>\n",
       "      <td>2025-03-16</td>\n",
       "      <td>H3</td>\n",
       "      <td>716.46</td>\n",
       "      <td>844.09</td>\n",
       "      <td>Seller</td>\n",
       "      <td>0.1530</td>\n",
       "    </tr>\n",
       "    <tr>\n",
       "      <th>26</th>\n",
       "      <td>2025-03-23</td>\n",
       "      <td>H3</td>\n",
       "      <td>716.46</td>\n",
       "      <td>844.09</td>\n",
       "      <td>Seller</td>\n",
       "      <td>0.1606</td>\n",
       "    </tr>\n",
       "    <tr>\n",
       "      <th>27</th>\n",
       "      <td>2025-03-30</td>\n",
       "      <td>H3</td>\n",
       "      <td>716.46</td>\n",
       "      <td>844.09</td>\n",
       "      <td>Seller</td>\n",
       "      <td>0.1762</td>\n",
       "    </tr>\n",
       "    <tr>\n",
       "      <th>28</th>\n",
       "      <td>2025-04-06</td>\n",
       "      <td>H3</td>\n",
       "      <td>716.46</td>\n",
       "      <td>844.09</td>\n",
       "      <td>Seller</td>\n",
       "      <td>0.1600</td>\n",
       "    </tr>\n",
       "    <tr>\n",
       "      <th>29</th>\n",
       "      <td>2025-04-13</td>\n",
       "      <td>H3</td>\n",
       "      <td>716.46</td>\n",
       "      <td>844.09</td>\n",
       "      <td>Seller</td>\n",
       "      <td>0.1819</td>\n",
       "    </tr>\n",
       "    <tr>\n",
       "      <th>30</th>\n",
       "      <td>2025-02-09</td>\n",
       "      <td>H4</td>\n",
       "      <td>1206.54</td>\n",
       "      <td>391.90</td>\n",
       "      <td>Buyer</td>\n",
       "      <td>0.4758</td>\n",
       "    </tr>\n",
       "    <tr>\n",
       "      <th>31</th>\n",
       "      <td>2025-02-16</td>\n",
       "      <td>H4</td>\n",
       "      <td>1206.54</td>\n",
       "      <td>391.90</td>\n",
       "      <td>Buyer</td>\n",
       "      <td>0.5295</td>\n",
       "    </tr>\n",
       "    <tr>\n",
       "      <th>32</th>\n",
       "      <td>2025-02-23</td>\n",
       "      <td>H4</td>\n",
       "      <td>1206.54</td>\n",
       "      <td>391.90</td>\n",
       "      <td>Buyer</td>\n",
       "      <td>0.5134</td>\n",
       "    </tr>\n",
       "    <tr>\n",
       "      <th>33</th>\n",
       "      <td>2025-03-02</td>\n",
       "      <td>H4</td>\n",
       "      <td>1206.54</td>\n",
       "      <td>653.16</td>\n",
       "      <td>Buyer</td>\n",
       "      <td>0.2899</td>\n",
       "    </tr>\n",
       "    <tr>\n",
       "      <th>34</th>\n",
       "      <td>2025-03-09</td>\n",
       "      <td>H4</td>\n",
       "      <td>1206.54</td>\n",
       "      <td>653.16</td>\n",
       "      <td>Buyer</td>\n",
       "      <td>0.3073</td>\n",
       "    </tr>\n",
       "    <tr>\n",
       "      <th>35</th>\n",
       "      <td>2025-03-16</td>\n",
       "      <td>H4</td>\n",
       "      <td>1206.54</td>\n",
       "      <td>653.16</td>\n",
       "      <td>Buyer</td>\n",
       "      <td>0.2726</td>\n",
       "    </tr>\n",
       "    <tr>\n",
       "      <th>36</th>\n",
       "      <td>2025-03-23</td>\n",
       "      <td>H4</td>\n",
       "      <td>1206.54</td>\n",
       "      <td>653.16</td>\n",
       "      <td>Buyer</td>\n",
       "      <td>0.2633</td>\n",
       "    </tr>\n",
       "    <tr>\n",
       "      <th>37</th>\n",
       "      <td>2025-03-30</td>\n",
       "      <td>H4</td>\n",
       "      <td>1206.54</td>\n",
       "      <td>653.16</td>\n",
       "      <td>Buyer</td>\n",
       "      <td>0.2681</td>\n",
       "    </tr>\n",
       "    <tr>\n",
       "      <th>38</th>\n",
       "      <td>2025-04-06</td>\n",
       "      <td>H4</td>\n",
       "      <td>1206.54</td>\n",
       "      <td>653.16</td>\n",
       "      <td>Buyer</td>\n",
       "      <td>0.3047</td>\n",
       "    </tr>\n",
       "    <tr>\n",
       "      <th>39</th>\n",
       "      <td>2025-04-13</td>\n",
       "      <td>H4</td>\n",
       "      <td>1206.54</td>\n",
       "      <td>653.16</td>\n",
       "      <td>Buyer</td>\n",
       "      <td>0.2859</td>\n",
       "    </tr>\n",
       "    <tr>\n",
       "      <th>40</th>\n",
       "      <td>2025-02-09</td>\n",
       "      <td>H5</td>\n",
       "      <td>840.77</td>\n",
       "      <td>562.23</td>\n",
       "      <td>Buyer</td>\n",
       "      <td>0.5200</td>\n",
       "    </tr>\n",
       "    <tr>\n",
       "      <th>41</th>\n",
       "      <td>2025-02-16</td>\n",
       "      <td>H5</td>\n",
       "      <td>840.77</td>\n",
       "      <td>562.23</td>\n",
       "      <td>Buyer</td>\n",
       "      <td>0.4992</td>\n",
       "    </tr>\n",
       "    <tr>\n",
       "      <th>42</th>\n",
       "      <td>2025-02-23</td>\n",
       "      <td>H5</td>\n",
       "      <td>840.77</td>\n",
       "      <td>562.23</td>\n",
       "      <td>Buyer</td>\n",
       "      <td>0.4818</td>\n",
       "    </tr>\n",
       "    <tr>\n",
       "      <th>43</th>\n",
       "      <td>2025-03-02</td>\n",
       "      <td>H5</td>\n",
       "      <td>840.77</td>\n",
       "      <td>937.06</td>\n",
       "      <td>Seller</td>\n",
       "      <td>0.1691</td>\n",
       "    </tr>\n",
       "    <tr>\n",
       "      <th>44</th>\n",
       "      <td>2025-03-09</td>\n",
       "      <td>H5</td>\n",
       "      <td>840.77</td>\n",
       "      <td>937.06</td>\n",
       "      <td>Seller</td>\n",
       "      <td>0.1891</td>\n",
       "    </tr>\n",
       "    <tr>\n",
       "      <th>45</th>\n",
       "      <td>2025-03-16</td>\n",
       "      <td>H5</td>\n",
       "      <td>840.77</td>\n",
       "      <td>937.06</td>\n",
       "      <td>Seller</td>\n",
       "      <td>0.1760</td>\n",
       "    </tr>\n",
       "    <tr>\n",
       "      <th>46</th>\n",
       "      <td>2025-03-23</td>\n",
       "      <td>H5</td>\n",
       "      <td>840.77</td>\n",
       "      <td>937.06</td>\n",
       "      <td>Seller</td>\n",
       "      <td>0.1825</td>\n",
       "    </tr>\n",
       "    <tr>\n",
       "      <th>47</th>\n",
       "      <td>2025-03-30</td>\n",
       "      <td>H5</td>\n",
       "      <td>840.77</td>\n",
       "      <td>937.06</td>\n",
       "      <td>Seller</td>\n",
       "      <td>0.1846</td>\n",
       "    </tr>\n",
       "    <tr>\n",
       "      <th>48</th>\n",
       "      <td>2025-04-06</td>\n",
       "      <td>H5</td>\n",
       "      <td>840.77</td>\n",
       "      <td>937.06</td>\n",
       "      <td>Seller</td>\n",
       "      <td>0.1945</td>\n",
       "    </tr>\n",
       "    <tr>\n",
       "      <th>49</th>\n",
       "      <td>2025-04-13</td>\n",
       "      <td>H5</td>\n",
       "      <td>840.77</td>\n",
       "      <td>937.06</td>\n",
       "      <td>Seller</td>\n",
       "      <td>0.1917</td>\n",
       "    </tr>\n",
       "  </tbody>\n",
       "</table>\n",
       "</div>"
      ],
      "text/plain": [
       "         Date HouseholdID  PredictedUsage  PredictedGeneration  \\\n",
       "0  2025-02-09          H1          945.15               342.88   \n",
       "1  2025-02-16          H1          945.15               342.88   \n",
       "2  2025-02-23          H1          945.15               342.88   \n",
       "3  2025-03-02          H1          945.15               571.46   \n",
       "4  2025-03-09          H1          945.15               571.46   \n",
       "5  2025-03-16          H1          945.15               571.46   \n",
       "6  2025-03-23          H1          945.15               571.46   \n",
       "7  2025-03-30          H1          945.15               571.46   \n",
       "8  2025-04-06          H1          945.15               571.46   \n",
       "9  2025-04-13          H1          945.15               571.46   \n",
       "10 2025-02-09          H2         1435.22               452.93   \n",
       "11 2025-02-16          H2         1435.22               452.93   \n",
       "12 2025-02-23          H2         1435.22               452.93   \n",
       "13 2025-03-02          H2         1435.22               754.89   \n",
       "14 2025-03-09          H2         1435.22               754.89   \n",
       "15 2025-03-16          H2         1435.22               754.89   \n",
       "16 2025-03-23          H2         1435.22               754.89   \n",
       "17 2025-03-30          H2         1435.22               754.89   \n",
       "18 2025-04-06          H2         1435.22               754.89   \n",
       "19 2025-04-13          H2         1435.22               754.89   \n",
       "20 2025-02-09          H3          716.46               506.45   \n",
       "21 2025-02-16          H3          716.46               506.45   \n",
       "22 2025-02-23          H3          716.46               506.45   \n",
       "23 2025-03-02          H3          716.46               844.09   \n",
       "24 2025-03-09          H3          716.46               844.09   \n",
       "25 2025-03-16          H3          716.46               844.09   \n",
       "26 2025-03-23          H3          716.46               844.09   \n",
       "27 2025-03-30          H3          716.46               844.09   \n",
       "28 2025-04-06          H3          716.46               844.09   \n",
       "29 2025-04-13          H3          716.46               844.09   \n",
       "30 2025-02-09          H4         1206.54               391.90   \n",
       "31 2025-02-16          H4         1206.54               391.90   \n",
       "32 2025-02-23          H4         1206.54               391.90   \n",
       "33 2025-03-02          H4         1206.54               653.16   \n",
       "34 2025-03-09          H4         1206.54               653.16   \n",
       "35 2025-03-16          H4         1206.54               653.16   \n",
       "36 2025-03-23          H4         1206.54               653.16   \n",
       "37 2025-03-30          H4         1206.54               653.16   \n",
       "38 2025-04-06          H4         1206.54               653.16   \n",
       "39 2025-04-13          H4         1206.54               653.16   \n",
       "40 2025-02-09          H5          840.77               562.23   \n",
       "41 2025-02-16          H5          840.77               562.23   \n",
       "42 2025-02-23          H5          840.77               562.23   \n",
       "43 2025-03-02          H5          840.77               937.06   \n",
       "44 2025-03-09          H5          840.77               937.06   \n",
       "45 2025-03-16          H5          840.77               937.06   \n",
       "46 2025-03-23          H5          840.77               937.06   \n",
       "47 2025-03-30          H5          840.77               937.06   \n",
       "48 2025-04-06          H5          840.77               937.06   \n",
       "49 2025-04-13          H5          840.77               937.06   \n",
       "\n",
       "   TradingPosition  DynamicPrice  \n",
       "0            Buyer        0.4517  \n",
       "1            Buyer        0.5441  \n",
       "2            Buyer        0.4759  \n",
       "3            Buyer        0.3020  \n",
       "4            Buyer        0.2781  \n",
       "5            Buyer        0.2603  \n",
       "6            Buyer        0.2858  \n",
       "7            Buyer        0.2701  \n",
       "8            Buyer        0.3008  \n",
       "9            Buyer        0.2692  \n",
       "10           Buyer        0.4774  \n",
       "11           Buyer        0.5491  \n",
       "12           Buyer        0.4713  \n",
       "13           Buyer        0.2924  \n",
       "14           Buyer        0.2774  \n",
       "15           Buyer        0.2669  \n",
       "16           Buyer        0.3078  \n",
       "17           Buyer        0.2998  \n",
       "18           Buyer        0.2560  \n",
       "19           Buyer        0.2933  \n",
       "20           Buyer        0.4441  \n",
       "21           Buyer        0.4289  \n",
       "22           Buyer        0.4496  \n",
       "23          Seller        0.1718  \n",
       "24          Seller        0.1493  \n",
       "25          Seller        0.1530  \n",
       "26          Seller        0.1606  \n",
       "27          Seller        0.1762  \n",
       "28          Seller        0.1600  \n",
       "29          Seller        0.1819  \n",
       "30           Buyer        0.4758  \n",
       "31           Buyer        0.5295  \n",
       "32           Buyer        0.5134  \n",
       "33           Buyer        0.2899  \n",
       "34           Buyer        0.3073  \n",
       "35           Buyer        0.2726  \n",
       "36           Buyer        0.2633  \n",
       "37           Buyer        0.2681  \n",
       "38           Buyer        0.3047  \n",
       "39           Buyer        0.2859  \n",
       "40           Buyer        0.5200  \n",
       "41           Buyer        0.4992  \n",
       "42           Buyer        0.4818  \n",
       "43          Seller        0.1691  \n",
       "44          Seller        0.1891  \n",
       "45          Seller        0.1760  \n",
       "46          Seller        0.1825  \n",
       "47          Seller        0.1846  \n",
       "48          Seller        0.1945  \n",
       "49          Seller        0.1917  "
      ]
     },
     "execution_count": 11,
     "metadata": {},
     "output_type": "execute_result"
    }
   ],
   "source": [
    "future_df"
   ]
  },
  {
   "cell_type": "code",
   "execution_count": 12,
   "metadata": {},
   "outputs": [
    {
     "name": "stdout",
     "output_type": "stream",
     "text": [
      "\n",
      "Trading Forecast for Next 10 Weeks:\n",
      "TradingPosition\n",
      "Buyer     36\n",
      "Seller    14\n",
      "Name: count, dtype: int64\n"
     ]
    }
   ],
   "source": [
    "def predict_future_weeks(df, household_models, num_weeks=10):\n",
    "    \"\"\"Predict energy patterns and trading positions for next n weeks\"\"\"\n",
    "    last_date = pd.to_datetime(df['Date'].max())\n",
    "    future_dates = [last_date + pd.Timedelta(weeks=i+1) for i in range(num_weeks)]\n",
    "    \n",
    "    # First, calculate weekly market prices\n",
    "    weekly_prices = {}\n",
    "    for future_date in future_dates:\n",
    "        season = get_season(future_date)\n",
    "        \n",
    "        # Calculate total supply and demand for the week\n",
    "        total_supply = df.groupby('Date')['EnergyGeneratedFromRenewableSources'].mean().mean()\n",
    "        total_demand = df.groupby('Date')['EnergyUsed'].mean().mean()\n",
    "        \n",
    "        # Apply seasonal adjustments\n",
    "        season_mult = {\n",
    "            'summer': 1.4,\n",
    "            'winter': 0.6,\n",
    "            'spring': 1.0,\n",
    "            'fall': 0.8\n",
    "        }[season]\n",
    "        \n",
    "        # Calculate centralized market price for the week\n",
    "        market_price = engine.calculate_dynamic_price(\n",
    "            total_supply=total_supply * season_mult,\n",
    "            total_demand=total_demand,\n",
    "            time_of_day=14,  # Using peak hour for base price\n",
    "            season=season\n",
    "        )\n",
    "        weekly_prices[future_date] = market_price\n",
    "    \n",
    "    future_predictions = []\n",
    "    for household in df['HouseholdID'].unique():\n",
    "        # Get last 4 weeks of data for prediction\n",
    "        recent_data = df[df['HouseholdID'] == household]\n",
    "        \n",
    "        # Use recent averages for baseline predictions\n",
    "        base_usage = recent_data['EnergyUsed'].mean()\n",
    "        base_generation = recent_data['EnergyGeneratedFromRenewableSources'].mean()\n",
    "        \n",
    "        for future_date in future_dates:\n",
    "            season = get_season(future_date)\n",
    "            season_mult = {\n",
    "                'summer': 1.4,\n",
    "                'winter': 0.6,\n",
    "                'spring': 1.0,\n",
    "                'fall': 0.8\n",
    "            }[season]\n",
    "            \n",
    "            predicted_generation = base_generation * season_mult\n",
    "            predicted_usage = base_usage\n",
    "            \n",
    "            # Calculate if household will be buyer or seller\n",
    "            delta = predicted_generation - predicted_usage\n",
    "            trading_position = 'Seller' if delta > 0 else 'Buyer'\n",
    "            \n",
    "            future_predictions.append({\n",
    "                'Date': future_date,\n",
    "                'HouseholdID': household,\n",
    "                'PredictedUsage': round(predicted_usage, 2),\n",
    "                'PredictedGeneration': round(predicted_generation, 2),\n",
    "                'TradingPosition': trading_position,\n",
    "                'DynamicPrice': round(weekly_prices[future_date], 4)\n",
    "            })\n",
    "    \n",
    "    return pd.DataFrame(future_predictions)\n",
    "# Generate predictions for next 10 weeks\n",
    "future_df = predict_future_weeks(df, household_models)\n",
    "\n",
    "# Display predictions grouped by date\n",
    "print(\"\\nTrading Forecast for Next 10 Weeks:\")\n",
    "print(future_df['TradingPosition'].value_counts())\n"
   ]
  },
  {
   "cell_type": "code",
   "execution_count": 27,
   "metadata": {},
   "outputs": [
    {
     "name": "stdout",
     "output_type": "stream",
     "text": [
      "Requirement already satisfied: ace_tools in c:\\users\\utkar\\anaconda3\\lib\\site-packages (0.0)\n"
     ]
    }
   ],
   "source": [
    "!pip install ace_tools"
   ]
  },
  {
   "cell_type": "code",
   "execution_count": 24,
   "metadata": {},
   "outputs": [
    {
     "data": {
      "text/html": [
       "<div>\n",
       "<style scoped>\n",
       "    .dataframe tbody tr th:only-of-type {\n",
       "        vertical-align: middle;\n",
       "    }\n",
       "\n",
       "    .dataframe tbody tr th {\n",
       "        vertical-align: top;\n",
       "    }\n",
       "\n",
       "    .dataframe thead th {\n",
       "        text-align: right;\n",
       "    }\n",
       "</style>\n",
       "<table border=\"1\" class=\"dataframe\">\n",
       "  <thead>\n",
       "    <tr style=\"text-align: right;\">\n",
       "      <th></th>\n",
       "      <th>Date</th>\n",
       "      <th>HouseholdID</th>\n",
       "      <th>PredictedUsage</th>\n",
       "      <th>PredictedGeneration</th>\n",
       "      <th>TradingPosition</th>\n",
       "      <th>DynamicPrice</th>\n",
       "    </tr>\n",
       "  </thead>\n",
       "  <tbody>\n",
       "    <tr>\n",
       "      <th>7</th>\n",
       "      <td>2025-03-30</td>\n",
       "      <td>H1</td>\n",
       "      <td>945.15</td>\n",
       "      <td>571.46</td>\n",
       "      <td>Buyer</td>\n",
       "      <td>0.2601</td>\n",
       "    </tr>\n",
       "    <tr>\n",
       "      <th>17</th>\n",
       "      <td>2025-03-30</td>\n",
       "      <td>H2</td>\n",
       "      <td>1435.22</td>\n",
       "      <td>754.89</td>\n",
       "      <td>Buyer</td>\n",
       "      <td>0.2601</td>\n",
       "    </tr>\n",
       "    <tr>\n",
       "      <th>37</th>\n",
       "      <td>2025-03-30</td>\n",
       "      <td>H4</td>\n",
       "      <td>1206.54</td>\n",
       "      <td>653.16</td>\n",
       "      <td>Buyer</td>\n",
       "      <td>0.2601</td>\n",
       "    </tr>\n",
       "  </tbody>\n",
       "</table>\n",
       "</div>"
      ],
      "text/plain": [
       "         Date HouseholdID  PredictedUsage  PredictedGeneration  \\\n",
       "7  2025-03-30          H1          945.15               571.46   \n",
       "17 2025-03-30          H2         1435.22               754.89   \n",
       "37 2025-03-30          H4         1206.54               653.16   \n",
       "\n",
       "   TradingPosition  DynamicPrice  \n",
       "7            Buyer        0.2601  \n",
       "17           Buyer        0.2601  \n",
       "37           Buyer        0.2601  "
      ]
     },
     "execution_count": 24,
     "metadata": {},
     "output_type": "execute_result"
    }
   ],
   "source": [
    "buyer"
   ]
  },
  {
   "cell_type": "code",
   "execution_count": 71,
   "metadata": {},
   "outputs": [
    {
     "name": "stderr",
     "output_type": "stream",
     "text": [
      "C:\\Users\\utkar\\AppData\\Local\\Temp\\ipykernel_10780\\2949590779.py:3: SettingWithCopyWarning:\n",
      "\n",
      "\n",
      "A value is trying to be set on a copy of a slice from a DataFrame.\n",
      "Try using .loc[row_indexer,col_indexer] = value instead\n",
      "\n",
      "See the caveats in the documentation: https://pandas.pydata.org/pandas-docs/stable/user_guide/indexing.html#returning-a-view-versus-a-copy\n",
      "\n",
      "C:\\Users\\utkar\\AppData\\Local\\Temp\\ipykernel_10780\\2949590779.py:4: SettingWithCopyWarning:\n",
      "\n",
      "\n",
      "A value is trying to be set on a copy of a slice from a DataFrame.\n",
      "Try using .loc[row_indexer,col_indexer] = value instead\n",
      "\n",
      "See the caveats in the documentation: https://pandas.pydata.org/pandas-docs/stable/user_guide/indexing.html#returning-a-view-versus-a-copy\n",
      "\n",
      "C:\\Users\\utkar\\AppData\\Local\\Temp\\ipykernel_10780\\2949590779.py:7: SettingWithCopyWarning:\n",
      "\n",
      "\n",
      "A value is trying to be set on a copy of a slice from a DataFrame.\n",
      "Try using .loc[row_indexer,col_indexer] = value instead\n",
      "\n",
      "See the caveats in the documentation: https://pandas.pydata.org/pandas-docs/stable/user_guide/indexing.html#returning-a-view-versus-a-copy\n",
      "\n",
      "C:\\Users\\utkar\\AppData\\Local\\Temp\\ipykernel_10780\\2949590779.py:8: SettingWithCopyWarning:\n",
      "\n",
      "\n",
      "A value is trying to be set on a copy of a slice from a DataFrame.\n",
      "Try using .loc[row_indexer,col_indexer] = value instead\n",
      "\n",
      "See the caveats in the documentation: https://pandas.pydata.org/pandas-docs/stable/user_guide/indexing.html#returning-a-view-versus-a-copy\n",
      "\n",
      "C:\\Users\\utkar\\AppData\\Local\\Temp\\ipykernel_10780\\2949590779.py:9: SettingWithCopyWarning:\n",
      "\n",
      "\n",
      "A value is trying to be set on a copy of a slice from a DataFrame\n",
      "\n",
      "See the caveats in the documentation: https://pandas.pydata.org/pandas-docs/stable/user_guide/indexing.html#returning-a-view-versus-a-copy\n",
      "\n",
      "C:\\Users\\utkar\\AppData\\Local\\Temp\\ipykernel_10780\\2949590779.py:10: SettingWithCopyWarning:\n",
      "\n",
      "\n",
      "A value is trying to be set on a copy of a slice from a DataFrame\n",
      "\n",
      "See the caveats in the documentation: https://pandas.pydata.org/pandas-docs/stable/user_guide/indexing.html#returning-a-view-versus-a-copy\n",
      "\n",
      "C:\\Users\\utkar\\AppData\\Local\\Temp\\ipykernel_10780\\2949590779.py:11: SettingWithCopyWarning:\n",
      "\n",
      "\n",
      "A value is trying to be set on a copy of a slice from a DataFrame.\n",
      "Try using .loc[row_indexer,col_indexer] = value instead\n",
      "\n",
      "See the caveats in the documentation: https://pandas.pydata.org/pandas-docs/stable/user_guide/indexing.html#returning-a-view-versus-a-copy\n",
      "\n"
     ]
    }
   ],
   "source": [
    "sampleDf = future_df['Date'].unique()\n",
    "sampleWeek = future_df[future_df['Date'] == sampleDf[7]]\n",
    "sampleWeek['SP'] = [0.20, 0.40, 0.10, 0.30, 0.05]\n",
    "sampleWeek['BP'] = [0.15, 0.30, 0.05, 0.25, 0.10]\n",
    "buyer = sampleWeek[sampleWeek['TradingPosition'] == 'Buyer']\n",
    "seller = sampleWeek[sampleWeek['TradingPosition'] == 'Seller']\n",
    "buyer['RemainingDemand'] = buyer['PredictedUsage']-buyer['PredictedGeneration']\n",
    "seller['RemainingSupply'] = seller['PredictedGeneration']-seller['PredictedUsage']\n",
    "buyer.drop(columns=['PredictedUsage', 'PredictedGeneration', 'TradingPosition'], inplace=True)\n",
    "seller.drop(columns=['PredictedUsage', 'PredictedGeneration', 'TradingPosition'], inplace=True)\n",
    "seller['RemainingSupply'] += 800"
   ]
  },
  {
   "cell_type": "code",
   "execution_count": 68,
   "metadata": {},
   "outputs": [
    {
     "data": {
      "text/html": [
       "<div>\n",
       "<style scoped>\n",
       "    .dataframe tbody tr th:only-of-type {\n",
       "        vertical-align: middle;\n",
       "    }\n",
       "\n",
       "    .dataframe tbody tr th {\n",
       "        vertical-align: top;\n",
       "    }\n",
       "\n",
       "    .dataframe thead th {\n",
       "        text-align: right;\n",
       "    }\n",
       "</style>\n",
       "<table border=\"1\" class=\"dataframe\">\n",
       "  <thead>\n",
       "    <tr style=\"text-align: right;\">\n",
       "      <th></th>\n",
       "      <th>Date</th>\n",
       "      <th>HouseholdID</th>\n",
       "      <th>DynamicPrice</th>\n",
       "      <th>SP</th>\n",
       "      <th>BP</th>\n",
       "      <th>RemainingDemand</th>\n",
       "    </tr>\n",
       "  </thead>\n",
       "  <tbody>\n",
       "    <tr>\n",
       "      <th>7</th>\n",
       "      <td>2025-03-30</td>\n",
       "      <td>H1</td>\n",
       "      <td>0.2601</td>\n",
       "      <td>0.2</td>\n",
       "      <td>0.15</td>\n",
       "      <td>373.69</td>\n",
       "    </tr>\n",
       "    <tr>\n",
       "      <th>17</th>\n",
       "      <td>2025-03-30</td>\n",
       "      <td>H2</td>\n",
       "      <td>0.2601</td>\n",
       "      <td>0.4</td>\n",
       "      <td>0.30</td>\n",
       "      <td>680.33</td>\n",
       "    </tr>\n",
       "    <tr>\n",
       "      <th>37</th>\n",
       "      <td>2025-03-30</td>\n",
       "      <td>H4</td>\n",
       "      <td>0.2601</td>\n",
       "      <td>0.3</td>\n",
       "      <td>0.25</td>\n",
       "      <td>553.38</td>\n",
       "    </tr>\n",
       "  </tbody>\n",
       "</table>\n",
       "</div>"
      ],
      "text/plain": [
       "         Date HouseholdID  DynamicPrice   SP    BP  RemainingDemand\n",
       "7  2025-03-30          H1        0.2601  0.2  0.15           373.69\n",
       "17 2025-03-30          H2        0.2601  0.4  0.30           680.33\n",
       "37 2025-03-30          H4        0.2601  0.3  0.25           553.38"
      ]
     },
     "execution_count": 68,
     "metadata": {},
     "output_type": "execute_result"
    }
   ],
   "source": [
    "buyer"
   ]
  },
  {
   "cell_type": "code",
   "execution_count": 72,
   "metadata": {},
   "outputs": [
    {
     "data": {
      "text/html": [
       "<div>\n",
       "<style scoped>\n",
       "    .dataframe tbody tr th:only-of-type {\n",
       "        vertical-align: middle;\n",
       "    }\n",
       "\n",
       "    .dataframe tbody tr th {\n",
       "        vertical-align: top;\n",
       "    }\n",
       "\n",
       "    .dataframe thead th {\n",
       "        text-align: right;\n",
       "    }\n",
       "</style>\n",
       "<table border=\"1\" class=\"dataframe\">\n",
       "  <thead>\n",
       "    <tr style=\"text-align: right;\">\n",
       "      <th></th>\n",
       "      <th>Date</th>\n",
       "      <th>HouseholdID</th>\n",
       "      <th>DynamicPrice</th>\n",
       "      <th>SP</th>\n",
       "      <th>BP</th>\n",
       "      <th>RemainingSupply</th>\n",
       "    </tr>\n",
       "  </thead>\n",
       "  <tbody>\n",
       "    <tr>\n",
       "      <th>27</th>\n",
       "      <td>2025-03-30</td>\n",
       "      <td>H3</td>\n",
       "      <td>0.2601</td>\n",
       "      <td>0.10</td>\n",
       "      <td>0.05</td>\n",
       "      <td>927.63</td>\n",
       "    </tr>\n",
       "    <tr>\n",
       "      <th>47</th>\n",
       "      <td>2025-03-30</td>\n",
       "      <td>H5</td>\n",
       "      <td>0.2601</td>\n",
       "      <td>0.05</td>\n",
       "      <td>0.10</td>\n",
       "      <td>896.29</td>\n",
       "    </tr>\n",
       "  </tbody>\n",
       "</table>\n",
       "</div>"
      ],
      "text/plain": [
       "         Date HouseholdID  DynamicPrice    SP    BP  RemainingSupply\n",
       "27 2025-03-30          H3        0.2601  0.10  0.05           927.63\n",
       "47 2025-03-30          H5        0.2601  0.05  0.10           896.29"
      ]
     },
     "execution_count": 72,
     "metadata": {},
     "output_type": "execute_result"
    }
   ],
   "source": [
    "seller"
   ]
  },
  {
   "cell_type": "code",
   "execution_count": 74,
   "metadata": {},
   "outputs": [
    {
     "name": "stdout",
     "output_type": "stream",
     "text": [
      "         Date HouseholdID  DynamicPrice   SP    BP  RemainingDemand\n",
      "7  2025-03-30          H1        0.2601  0.2  0.15              0.0\n",
      "17 2025-03-30          H2        0.2601  0.4  0.30              0.0\n",
      "37 2025-03-30          H4        0.2601  0.3  0.25              0.0\n",
      "         Date HouseholdID  DynamicPrice    SP    BP  RemainingSupply\n",
      "27 2025-03-30          H3        0.2601  0.10  0.05             0.00\n",
      "47 2025-03-30          H5        0.2601  0.05  0.10           216.52\n",
      "         Date HouseholdID  DynamicPrice   SP    BP  RemainingDemand\n",
      "7  2025-03-30          H1        0.2601  0.2  0.15             0.00\n",
      "17 2025-03-30          H2        0.2601  0.4  0.30             0.00\n",
      "37 2025-03-30          H4        0.2601  0.3  0.25           553.38\n",
      "         Date HouseholdID  DynamicPrice    SP    BP  RemainingSupply\n",
      "27 2025-03-30          H3        0.2601  0.10  0.05              0.0\n",
      "47 2025-03-30          H5        0.2601  0.05  0.10            769.9\n",
      "         Date HouseholdID  DynamicPrice   SP    BP  RemainingDemand\n",
      "7  2025-03-30          H1        0.2601  0.2  0.15              0.0\n",
      "17 2025-03-30          H2        0.2601  0.4  0.30              0.0\n",
      "37 2025-03-30          H4        0.2601  0.3  0.25              0.0\n",
      "         Date HouseholdID  DynamicPrice    SP    BP  RemainingSupply\n",
      "27 2025-03-30          H3        0.2601  0.10  0.05             0.00\n",
      "47 2025-03-30          H5        0.2601  0.05  0.10           216.52\n",
      "         Date HouseholdID  DynamicPrice   SP    BP  RemainingDemand\n",
      "7  2025-03-30          H1        0.2601  0.2  0.15             0.00\n",
      "17 2025-03-30          H2        0.2601  0.4  0.30           126.39\n",
      "37 2025-03-30          H4        0.2601  0.3  0.25             0.00\n",
      "         Date HouseholdID  DynamicPrice    SP    BP  RemainingSupply\n",
      "27 2025-03-30          H3        0.2601  0.10  0.05             0.00\n",
      "47 2025-03-30          H5        0.2601  0.05  0.10           342.91\n",
      "         Date HouseholdID  DynamicPrice   SP    BP  RemainingDemand\n",
      "7  2025-03-30          H1        0.2601  0.2  0.15             0.00\n",
      "17 2025-03-30          H2        0.2601  0.4  0.30           126.39\n",
      "37 2025-03-30          H4        0.2601  0.3  0.25           553.38\n",
      "         Date HouseholdID  DynamicPrice    SP    BP  RemainingSupply\n",
      "27 2025-03-30          H3        0.2601  0.10  0.05             0.00\n",
      "47 2025-03-30          H5        0.2601  0.05  0.10           896.29\n",
      "         Date HouseholdID  DynamicPrice   SP    BP  RemainingDemand\n",
      "7  2025-03-30          H1        0.2601  0.2  0.15              0.0\n",
      "17 2025-03-30          H2        0.2601  0.4  0.30              0.0\n",
      "37 2025-03-30          H4        0.2601  0.3  0.25              0.0\n",
      "         Date HouseholdID  DynamicPrice    SP    BP  RemainingSupply\n",
      "27 2025-03-30          H3        0.2601  0.10  0.05             0.56\n",
      "47 2025-03-30          H5        0.2601  0.05  0.10           215.96\n",
      "         Date HouseholdID  DynamicPrice   SP    BP  RemainingDemand\n",
      "7  2025-03-30          H1        0.2601  0.2  0.15              0.0\n",
      "17 2025-03-30          H2        0.2601  0.4  0.30              0.0\n",
      "37 2025-03-30          H4        0.2601  0.3  0.25              0.0\n",
      "         Date HouseholdID  DynamicPrice    SP    BP  RemainingSupply\n",
      "27 2025-03-30          H3        0.2601  0.10  0.05           216.52\n",
      "47 2025-03-30          H5        0.2601  0.05  0.10             0.00\n",
      "         Date HouseholdID  DynamicPrice   SP    BP  RemainingDemand\n",
      "7  2025-03-30          H1        0.2601  0.2  0.15             0.00\n",
      "17 2025-03-30          H2        0.2601  0.4  0.30             0.00\n",
      "37 2025-03-30          H4        0.2601  0.3  0.25           337.42\n",
      "         Date HouseholdID  DynamicPrice    SP    BP  RemainingSupply\n",
      "27 2025-03-30          H3        0.2601  0.10  0.05           553.94\n",
      "47 2025-03-30          H5        0.2601  0.05  0.10             0.00\n",
      "         Date HouseholdID  DynamicPrice   SP    BP  RemainingDemand\n",
      "7  2025-03-30          H1        0.2601  0.2  0.15             0.00\n",
      "17 2025-03-30          H2        0.2601  0.4  0.30             0.00\n",
      "37 2025-03-30          H4        0.2601  0.3  0.25           553.38\n",
      "         Date HouseholdID  DynamicPrice    SP    BP  RemainingSupply\n",
      "27 2025-03-30          H3        0.2601  0.10  0.05           553.94\n",
      "47 2025-03-30          H5        0.2601  0.05  0.10           215.96\n",
      "         Date HouseholdID  DynamicPrice   SP    BP  RemainingDemand\n",
      "7  2025-03-30          H1        0.2601  0.2  0.15              0.0\n",
      "17 2025-03-30          H2        0.2601  0.4  0.30              0.0\n",
      "37 2025-03-30          H4        0.2601  0.3  0.25              0.0\n",
      "         Date HouseholdID  DynamicPrice    SP    BP  RemainingSupply\n",
      "27 2025-03-30          H3        0.2601  0.10  0.05             0.00\n",
      "47 2025-03-30          H5        0.2601  0.05  0.10           216.52\n",
      "         Date HouseholdID  DynamicPrice   SP    BP  RemainingDemand\n",
      "7  2025-03-30          H1        0.2601  0.2  0.15             0.00\n",
      "17 2025-03-30          H2        0.2601  0.4  0.30           679.77\n",
      "37 2025-03-30          H4        0.2601  0.3  0.25             0.00\n",
      "         Date HouseholdID  DynamicPrice    SP    BP  RemainingSupply\n",
      "27 2025-03-30          H3        0.2601  0.10  0.05             0.00\n",
      "47 2025-03-30          H5        0.2601  0.05  0.10           896.29\n",
      "         Date HouseholdID  DynamicPrice   SP    BP  RemainingDemand\n",
      "7  2025-03-30          H1        0.2601  0.2  0.15              0.0\n",
      "17 2025-03-30          H2        0.2601  0.4  0.30              0.0\n",
      "37 2025-03-30          H4        0.2601  0.3  0.25              0.0\n",
      "         Date HouseholdID  DynamicPrice    SP    BP  RemainingSupply\n",
      "27 2025-03-30          H3        0.2601  0.10  0.05             0.56\n",
      "47 2025-03-30          H5        0.2601  0.05  0.10           215.96\n",
      "         Date HouseholdID  DynamicPrice   SP    BP  RemainingDemand\n",
      "7  2025-03-30          H1        0.2601  0.2  0.15             0.00\n",
      "17 2025-03-30          H2        0.2601  0.4  0.30           680.33\n",
      "37 2025-03-30          H4        0.2601  0.3  0.25             0.00\n",
      "         Date HouseholdID  DynamicPrice    SP    BP  RemainingSupply\n",
      "27 2025-03-30          H3        0.2601  0.10  0.05             0.56\n",
      "47 2025-03-30          H5        0.2601  0.05  0.10           896.29\n",
      "         Date HouseholdID  DynamicPrice   SP    BP  RemainingDemand\n",
      "7  2025-03-30          H1        0.2601  0.2  0.15              0.0\n",
      "17 2025-03-30          H2        0.2601  0.4  0.30              0.0\n",
      "37 2025-03-30          H4        0.2601  0.3  0.25              0.0\n",
      "         Date HouseholdID  DynamicPrice    SP    BP  RemainingSupply\n",
      "27 2025-03-30          H3        0.2601  0.10  0.05             0.00\n",
      "47 2025-03-30          H5        0.2601  0.05  0.10           216.52\n",
      "         Date HouseholdID  DynamicPrice   SP    BP  RemainingDemand\n",
      "7  2025-03-30          H1        0.2601  0.2  0.15             0.00\n",
      "17 2025-03-30          H2        0.2601  0.4  0.30           126.39\n",
      "37 2025-03-30          H4        0.2601  0.3  0.25             0.00\n",
      "         Date HouseholdID  DynamicPrice    SP    BP  RemainingSupply\n",
      "27 2025-03-30          H3        0.2601  0.10  0.05             0.00\n",
      "47 2025-03-30          H5        0.2601  0.05  0.10           342.91\n",
      "         Date HouseholdID  DynamicPrice   SP    BP  RemainingDemand\n",
      "7  2025-03-30          H1        0.2601  0.2  0.15              0.0\n",
      "17 2025-03-30          H2        0.2601  0.4  0.30              0.0\n",
      "37 2025-03-30          H4        0.2601  0.3  0.25              0.0\n",
      "         Date HouseholdID  DynamicPrice    SP    BP  RemainingSupply\n",
      "27 2025-03-30          H3        0.2601  0.10  0.05           216.52\n",
      "47 2025-03-30          H5        0.2601  0.05  0.10             0.00\n",
      "         Date HouseholdID  DynamicPrice   SP    BP  RemainingDemand\n",
      "7  2025-03-30          H1        0.2601  0.2  0.15             0.00\n",
      "17 2025-03-30          H2        0.2601  0.4  0.30           337.42\n",
      "37 2025-03-30          H4        0.2601  0.3  0.25             0.00\n",
      "         Date HouseholdID  DynamicPrice    SP    BP  RemainingSupply\n",
      "27 2025-03-30          H3        0.2601  0.10  0.05           553.94\n",
      "47 2025-03-30          H5        0.2601  0.05  0.10             0.00\n",
      "         Date HouseholdID  DynamicPrice   SP    BP  RemainingDemand\n",
      "7  2025-03-30          H1        0.2601  0.2  0.15             0.00\n",
      "17 2025-03-30          H2        0.2601  0.4  0.30           680.33\n",
      "37 2025-03-30          H4        0.2601  0.3  0.25             0.00\n",
      "         Date HouseholdID  DynamicPrice    SP    BP  RemainingSupply\n",
      "27 2025-03-30          H3        0.2601  0.10  0.05           553.94\n",
      "47 2025-03-30          H5        0.2601  0.05  0.10           342.91\n",
      "         Date HouseholdID  DynamicPrice   SP    BP  RemainingDemand\n",
      "7  2025-03-30          H1        0.2601  0.2  0.15             0.00\n",
      "17 2025-03-30          H2        0.2601  0.4  0.30           680.33\n",
      "37 2025-03-30          H4        0.2601  0.3  0.25           553.38\n",
      "         Date HouseholdID  DynamicPrice    SP    BP  RemainingSupply\n",
      "27 2025-03-30          H3        0.2601  0.10  0.05           553.94\n",
      "47 2025-03-30          H5        0.2601  0.05  0.10           896.29\n",
      "         Date HouseholdID  DynamicPrice   SP    BP  RemainingDemand\n",
      "7  2025-03-30          H1        0.2601  0.2  0.15              0.0\n",
      "17 2025-03-30          H2        0.2601  0.4  0.30              0.0\n",
      "37 2025-03-30          H4        0.2601  0.3  0.25              0.0\n",
      "         Date HouseholdID  DynamicPrice    SP    BP  RemainingSupply\n",
      "27 2025-03-30          H3        0.2601  0.10  0.05             0.00\n",
      "47 2025-03-30          H5        0.2601  0.05  0.10           216.52\n",
      "         Date HouseholdID  DynamicPrice   SP    BP  RemainingDemand\n",
      "7  2025-03-30          H1        0.2601  0.2  0.15             0.00\n",
      "17 2025-03-30          H2        0.2601  0.4  0.30             0.00\n",
      "37 2025-03-30          H4        0.2601  0.3  0.25           306.08\n",
      "         Date HouseholdID  DynamicPrice    SP    BP  RemainingSupply\n",
      "27 2025-03-30          H3        0.2601  0.10  0.05              0.0\n",
      "47 2025-03-30          H5        0.2601  0.05  0.10            522.6\n",
      "         Date HouseholdID  DynamicPrice   SP    BP  RemainingDemand\n",
      "7  2025-03-30          H1        0.2601  0.2  0.15              0.0\n",
      "17 2025-03-30          H2        0.2601  0.4  0.30              0.0\n",
      "37 2025-03-30          H4        0.2601  0.3  0.25              0.0\n",
      "         Date HouseholdID  DynamicPrice    SP    BP  RemainingSupply\n",
      "27 2025-03-30          H3        0.2601  0.10  0.05           216.52\n",
      "47 2025-03-30          H5        0.2601  0.05  0.10             0.00\n",
      "         Date HouseholdID  DynamicPrice   SP    BP  RemainingDemand\n",
      "7  2025-03-30          H1        0.2601  0.2  0.15             0.00\n",
      "17 2025-03-30          H2        0.2601  0.4  0.30             0.00\n",
      "37 2025-03-30          H4        0.2601  0.3  0.25            30.78\n",
      "         Date HouseholdID  DynamicPrice    SP    BP  RemainingSupply\n",
      "27 2025-03-30          H3        0.2601  0.10  0.05            247.3\n",
      "47 2025-03-30          H5        0.2601  0.05  0.10              0.0\n",
      "         Date HouseholdID  DynamicPrice   SP    BP  RemainingDemand\n",
      "7  2025-03-30          H1        0.2601  0.2  0.15             0.00\n",
      "17 2025-03-30          H2        0.2601  0.4  0.30             0.00\n",
      "37 2025-03-30          H4        0.2601  0.3  0.25           553.38\n",
      "         Date HouseholdID  DynamicPrice    SP    BP  RemainingSupply\n",
      "27 2025-03-30          H3        0.2601  0.10  0.05            247.3\n",
      "47 2025-03-30          H5        0.2601  0.05  0.10            522.6\n",
      "         Date HouseholdID  DynamicPrice   SP    BP  RemainingDemand\n",
      "7  2025-03-30          H1        0.2601  0.2  0.15              0.0\n",
      "17 2025-03-30          H2        0.2601  0.4  0.30              0.0\n",
      "37 2025-03-30          H4        0.2601  0.3  0.25              0.0\n",
      "         Date HouseholdID  DynamicPrice    SP    BP  RemainingSupply\n",
      "27 2025-03-30          H3        0.2601  0.10  0.05           216.52\n",
      "47 2025-03-30          H5        0.2601  0.05  0.10             0.00\n",
      "         Date HouseholdID  DynamicPrice   SP    BP  RemainingDemand\n",
      "7  2025-03-30          H1        0.2601  0.2  0.15             0.00\n",
      "17 2025-03-30          H2        0.2601  0.4  0.30             0.00\n",
      "37 2025-03-30          H4        0.2601  0.3  0.25           553.38\n",
      "         Date HouseholdID  DynamicPrice    SP    BP  RemainingSupply\n",
      "27 2025-03-30          H3        0.2601  0.10  0.05            769.9\n",
      "47 2025-03-30          H5        0.2601  0.05  0.10              0.0\n",
      "         Date HouseholdID  DynamicPrice   SP    BP  RemainingDemand\n",
      "7  2025-03-30          H1        0.2601  0.2  0.15              0.0\n",
      "17 2025-03-30          H2        0.2601  0.4  0.30              0.0\n",
      "37 2025-03-30          H4        0.2601  0.3  0.25              0.0\n",
      "         Date HouseholdID  DynamicPrice    SP    BP  RemainingSupply\n",
      "27 2025-03-30          H3        0.2601  0.10  0.05           216.52\n",
      "47 2025-03-30          H5        0.2601  0.05  0.10             0.00\n",
      "         Date HouseholdID  DynamicPrice   SP    BP  RemainingDemand\n",
      "7  2025-03-30          H1        0.2601  0.2  0.15             0.00\n",
      "17 2025-03-30          H2        0.2601  0.4  0.30           157.73\n",
      "37 2025-03-30          H4        0.2601  0.3  0.25             0.00\n",
      "         Date HouseholdID  DynamicPrice    SP    BP  RemainingSupply\n",
      "27 2025-03-30          H3        0.2601  0.10  0.05           374.25\n",
      "47 2025-03-30          H5        0.2601  0.05  0.10             0.00\n",
      "         Date HouseholdID  DynamicPrice   SP    BP  RemainingDemand\n",
      "7  2025-03-30          H1        0.2601  0.2  0.15             0.00\n",
      "17 2025-03-30          H2        0.2601  0.4  0.30           157.73\n",
      "37 2025-03-30          H4        0.2601  0.3  0.25           553.38\n",
      "         Date HouseholdID  DynamicPrice    SP    BP  RemainingSupply\n",
      "27 2025-03-30          H3        0.2601  0.10  0.05           927.63\n",
      "47 2025-03-30          H5        0.2601  0.05  0.10             0.00\n",
      "         Date HouseholdID  DynamicPrice   SP    BP  RemainingDemand\n",
      "7  2025-03-30          H1        0.2601  0.2  0.15              0.0\n",
      "17 2025-03-30          H2        0.2601  0.4  0.30              0.0\n",
      "37 2025-03-30          H4        0.2601  0.3  0.25              0.0\n",
      "         Date HouseholdID  DynamicPrice    SP    BP  RemainingSupply\n",
      "27 2025-03-30          H3        0.2601  0.10  0.05             0.00\n",
      "47 2025-03-30          H5        0.2601  0.05  0.10           216.52\n",
      "         Date HouseholdID  DynamicPrice   SP    BP  RemainingDemand\n",
      "7  2025-03-30          H1        0.2601  0.2  0.15             0.00\n",
      "17 2025-03-30          H2        0.2601  0.4  0.30           306.08\n",
      "37 2025-03-30          H4        0.2601  0.3  0.25             0.00\n",
      "         Date HouseholdID  DynamicPrice    SP    BP  RemainingSupply\n",
      "27 2025-03-30          H3        0.2601  0.10  0.05              0.0\n",
      "47 2025-03-30          H5        0.2601  0.05  0.10            522.6\n",
      "         Date HouseholdID  DynamicPrice   SP    BP  RemainingDemand\n",
      "7  2025-03-30          H1        0.2601  0.2  0.15              0.0\n",
      "17 2025-03-30          H2        0.2601  0.4  0.30              0.0\n",
      "37 2025-03-30          H4        0.2601  0.3  0.25              0.0\n",
      "         Date HouseholdID  DynamicPrice    SP    BP  RemainingSupply\n",
      "27 2025-03-30          H3        0.2601  0.10  0.05           216.52\n",
      "47 2025-03-30          H5        0.2601  0.05  0.10             0.00\n",
      "         Date HouseholdID  DynamicPrice   SP    BP  RemainingDemand\n",
      "7  2025-03-30          H1        0.2601  0.2  0.15             0.00\n",
      "17 2025-03-30          H2        0.2601  0.4  0.30           157.73\n",
      "37 2025-03-30          H4        0.2601  0.3  0.25             0.00\n",
      "         Date HouseholdID  DynamicPrice    SP    BP  RemainingSupply\n",
      "27 2025-03-30          H3        0.2601  0.10  0.05           374.25\n",
      "47 2025-03-30          H5        0.2601  0.05  0.10             0.00\n",
      "         Date HouseholdID  DynamicPrice   SP    BP  RemainingDemand\n",
      "7  2025-03-30          H1        0.2601  0.2  0.15             0.00\n",
      "17 2025-03-30          H2        0.2601  0.4  0.30           680.33\n",
      "37 2025-03-30          H4        0.2601  0.3  0.25             0.00\n",
      "         Date HouseholdID  DynamicPrice    SP    BP  RemainingSupply\n",
      "27 2025-03-30          H3        0.2601  0.10  0.05           374.25\n",
      "47 2025-03-30          H5        0.2601  0.05  0.10           522.60\n",
      "         Date HouseholdID  DynamicPrice   SP    BP  RemainingDemand\n",
      "7  2025-03-30          H1        0.2601  0.2  0.15              0.0\n",
      "17 2025-03-30          H2        0.2601  0.4  0.30              0.0\n",
      "37 2025-03-30          H4        0.2601  0.3  0.25              0.0\n",
      "         Date HouseholdID  DynamicPrice    SP    BP  RemainingSupply\n",
      "27 2025-03-30          H3        0.2601  0.10  0.05           216.52\n",
      "47 2025-03-30          H5        0.2601  0.05  0.10             0.00\n",
      "         Date HouseholdID  DynamicPrice   SP    BP  RemainingDemand\n",
      "7  2025-03-30          H1        0.2601  0.2  0.15             0.00\n",
      "17 2025-03-30          H2        0.2601  0.4  0.30             0.00\n",
      "37 2025-03-30          H4        0.2601  0.3  0.25            30.78\n",
      "         Date HouseholdID  DynamicPrice    SP    BP  RemainingSupply\n",
      "27 2025-03-30          H3        0.2601  0.10  0.05            247.3\n",
      "47 2025-03-30          H5        0.2601  0.05  0.10              0.0\n",
      "         Date HouseholdID  DynamicPrice   SP    BP  RemainingDemand\n",
      "7  2025-03-30          H1        0.2601  0.2  0.15              0.0\n",
      "17 2025-03-30          H2        0.2601  0.4  0.30              0.0\n",
      "37 2025-03-30          H4        0.2601  0.3  0.25              0.0\n",
      "         Date HouseholdID  DynamicPrice    SP    BP  RemainingSupply\n",
      "27 2025-03-30          H3        0.2601  0.10  0.05           216.52\n",
      "47 2025-03-30          H5        0.2601  0.05  0.10             0.00\n",
      "         Date HouseholdID  DynamicPrice   SP    BP  RemainingDemand\n",
      "7  2025-03-30          H1        0.2601  0.2  0.15             0.00\n",
      "17 2025-03-30          H2        0.2601  0.4  0.30           680.33\n",
      "37 2025-03-30          H4        0.2601  0.3  0.25             0.00\n",
      "         Date HouseholdID  DynamicPrice    SP    BP  RemainingSupply\n",
      "27 2025-03-30          H3        0.2601  0.10  0.05           896.85\n",
      "47 2025-03-30          H5        0.2601  0.05  0.10             0.00\n",
      "         Date HouseholdID  DynamicPrice   SP    BP  RemainingDemand\n",
      "7  2025-03-30          H1        0.2601  0.2  0.15             0.00\n",
      "17 2025-03-30          H2        0.2601  0.4  0.30           680.33\n",
      "37 2025-03-30          H4        0.2601  0.3  0.25            30.78\n",
      "         Date HouseholdID  DynamicPrice    SP    BP  RemainingSupply\n",
      "27 2025-03-30          H3        0.2601  0.10  0.05           927.63\n",
      "47 2025-03-30          H5        0.2601  0.05  0.10             0.00\n",
      "         Date HouseholdID  DynamicPrice   SP    BP  RemainingDemand\n",
      "7  2025-03-30          H1        0.2601  0.2  0.15             0.00\n",
      "17 2025-03-30          H2        0.2601  0.4  0.30           680.33\n",
      "37 2025-03-30          H4        0.2601  0.3  0.25           553.38\n",
      "         Date HouseholdID  DynamicPrice    SP    BP  RemainingSupply\n",
      "27 2025-03-30          H3        0.2601  0.10  0.05           927.63\n",
      "47 2025-03-30          H5        0.2601  0.05  0.10           522.60\n",
      "         Date HouseholdID  DynamicPrice   SP    BP  RemainingDemand\n",
      "7  2025-03-30          H1        0.2601  0.2  0.15              0.0\n",
      "17 2025-03-30          H2        0.2601  0.4  0.30              0.0\n",
      "37 2025-03-30          H4        0.2601  0.3  0.25              0.0\n",
      "         Date HouseholdID  DynamicPrice    SP    BP  RemainingSupply\n",
      "27 2025-03-30          H3        0.2601  0.10  0.05             0.00\n",
      "47 2025-03-30          H5        0.2601  0.05  0.10           216.52\n",
      "         Date HouseholdID  DynamicPrice   SP    BP  RemainingDemand\n",
      "7  2025-03-30          H1        0.2601  0.2  0.15             0.00\n",
      "17 2025-03-30          H2        0.2601  0.4  0.30             0.00\n",
      "37 2025-03-30          H4        0.2601  0.3  0.25           553.38\n",
      "         Date HouseholdID  DynamicPrice    SP    BP  RemainingSupply\n",
      "27 2025-03-30          H3        0.2601  0.10  0.05              0.0\n",
      "47 2025-03-30          H5        0.2601  0.05  0.10            769.9\n",
      "         Date HouseholdID  DynamicPrice   SP    BP  RemainingDemand\n",
      "7  2025-03-30          H1        0.2601  0.2  0.15              0.0\n",
      "17 2025-03-30          H2        0.2601  0.4  0.30              0.0\n",
      "37 2025-03-30          H4        0.2601  0.3  0.25              0.0\n",
      "         Date HouseholdID  DynamicPrice    SP    BP  RemainingSupply\n",
      "27 2025-03-30          H3        0.2601  0.10  0.05             0.00\n",
      "47 2025-03-30          H5        0.2601  0.05  0.10           216.52\n",
      "         Date HouseholdID  DynamicPrice   SP    BP  RemainingDemand\n",
      "7  2025-03-30          H1        0.2601  0.2  0.15           126.39\n",
      "17 2025-03-30          H2        0.2601  0.4  0.30             0.00\n",
      "37 2025-03-30          H4        0.2601  0.3  0.25             0.00\n",
      "         Date HouseholdID  DynamicPrice    SP    BP  RemainingSupply\n",
      "27 2025-03-30          H3        0.2601  0.10  0.05             0.00\n",
      "47 2025-03-30          H5        0.2601  0.05  0.10           342.91\n",
      "         Date HouseholdID  DynamicPrice   SP    BP  RemainingDemand\n",
      "7  2025-03-30          H1        0.2601  0.2  0.15           126.39\n",
      "17 2025-03-30          H2        0.2601  0.4  0.30             0.00\n",
      "37 2025-03-30          H4        0.2601  0.3  0.25           553.38\n",
      "         Date HouseholdID  DynamicPrice    SP    BP  RemainingSupply\n",
      "27 2025-03-30          H3        0.2601  0.10  0.05             0.00\n",
      "47 2025-03-30          H5        0.2601  0.05  0.10           896.29\n",
      "         Date HouseholdID  DynamicPrice   SP    BP  RemainingDemand\n",
      "7  2025-03-30          H1        0.2601  0.2  0.15              0.0\n",
      "17 2025-03-30          H2        0.2601  0.4  0.30              0.0\n",
      "37 2025-03-30          H4        0.2601  0.3  0.25              0.0\n",
      "         Date HouseholdID  DynamicPrice    SP    BP  RemainingSupply\n",
      "27 2025-03-30          H3        0.2601  0.10  0.05             0.00\n",
      "47 2025-03-30          H5        0.2601  0.05  0.10           216.52\n",
      "         Date HouseholdID  DynamicPrice   SP    BP  RemainingDemand\n",
      "7  2025-03-30          H1        0.2601  0.2  0.15             0.00\n",
      "17 2025-03-30          H2        0.2601  0.4  0.30             0.00\n",
      "37 2025-03-30          H4        0.2601  0.3  0.25           306.08\n",
      "         Date HouseholdID  DynamicPrice    SP    BP  RemainingSupply\n",
      "27 2025-03-30          H3        0.2601  0.10  0.05              0.0\n",
      "47 2025-03-30          H5        0.2601  0.05  0.10            522.6\n",
      "         Date HouseholdID  DynamicPrice   SP    BP  RemainingDemand\n",
      "7  2025-03-30          H1        0.2601  0.2  0.15              0.0\n",
      "17 2025-03-30          H2        0.2601  0.4  0.30              0.0\n",
      "37 2025-03-30          H4        0.2601  0.3  0.25              0.0\n",
      "         Date HouseholdID  DynamicPrice    SP    BP  RemainingSupply\n",
      "27 2025-03-30          H3        0.2601  0.10  0.05           216.52\n",
      "47 2025-03-30          H5        0.2601  0.05  0.10             0.00\n",
      "         Date HouseholdID  DynamicPrice   SP    BP  RemainingDemand\n",
      "7  2025-03-30          H1        0.2601  0.2  0.15             0.00\n",
      "17 2025-03-30          H2        0.2601  0.4  0.30             0.00\n",
      "37 2025-03-30          H4        0.2601  0.3  0.25            30.78\n",
      "         Date HouseholdID  DynamicPrice    SP    BP  RemainingSupply\n",
      "27 2025-03-30          H3        0.2601  0.10  0.05            247.3\n",
      "47 2025-03-30          H5        0.2601  0.05  0.10              0.0\n",
      "         Date HouseholdID  DynamicPrice   SP    BP  RemainingDemand\n",
      "7  2025-03-30          H1        0.2601  0.2  0.15             0.00\n",
      "17 2025-03-30          H2        0.2601  0.4  0.30             0.00\n",
      "37 2025-03-30          H4        0.2601  0.3  0.25           553.38\n",
      "         Date HouseholdID  DynamicPrice    SP    BP  RemainingSupply\n",
      "27 2025-03-30          H3        0.2601  0.10  0.05            247.3\n",
      "47 2025-03-30          H5        0.2601  0.05  0.10            522.6\n",
      "         Date HouseholdID  DynamicPrice   SP    BP  RemainingDemand\n",
      "7  2025-03-30          H1        0.2601  0.2  0.15              0.0\n",
      "17 2025-03-30          H2        0.2601  0.4  0.30              0.0\n",
      "37 2025-03-30          H4        0.2601  0.3  0.25              0.0\n",
      "         Date HouseholdID  DynamicPrice    SP    BP  RemainingSupply\n",
      "27 2025-03-30          H3        0.2601  0.10  0.05             0.00\n",
      "47 2025-03-30          H5        0.2601  0.05  0.10           216.52\n",
      "         Date HouseholdID  DynamicPrice   SP    BP  RemainingDemand\n",
      "7  2025-03-30          H1        0.2601  0.2  0.15             0.00\n",
      "17 2025-03-30          H2        0.2601  0.4  0.30             0.00\n",
      "37 2025-03-30          H4        0.2601  0.3  0.25           306.08\n",
      "         Date HouseholdID  DynamicPrice    SP    BP  RemainingSupply\n",
      "27 2025-03-30          H3        0.2601  0.10  0.05              0.0\n",
      "47 2025-03-30          H5        0.2601  0.05  0.10            522.6\n",
      "         Date HouseholdID  DynamicPrice   SP    BP  RemainingDemand\n",
      "7  2025-03-30          H1        0.2601  0.2  0.15              0.0\n",
      "17 2025-03-30          H2        0.2601  0.4  0.30              0.0\n",
      "37 2025-03-30          H4        0.2601  0.3  0.25              0.0\n",
      "         Date HouseholdID  DynamicPrice    SP    BP  RemainingSupply\n",
      "27 2025-03-30          H3        0.2601  0.10  0.05             0.00\n",
      "47 2025-03-30          H5        0.2601  0.05  0.10           216.52\n",
      "         Date HouseholdID  DynamicPrice   SP    BP  RemainingDemand\n",
      "7  2025-03-30          H1        0.2601  0.2  0.15           373.69\n",
      "17 2025-03-30          H2        0.2601  0.4  0.30             0.00\n",
      "37 2025-03-30          H4        0.2601  0.3  0.25             0.00\n",
      "         Date HouseholdID  DynamicPrice    SP    BP  RemainingSupply\n",
      "27 2025-03-30          H3        0.2601  0.10  0.05             0.00\n",
      "47 2025-03-30          H5        0.2601  0.05  0.10           590.21\n",
      "         Date HouseholdID  DynamicPrice   SP    BP  RemainingDemand\n",
      "7  2025-03-30          H1        0.2601  0.2  0.15           373.69\n",
      "17 2025-03-30          H2        0.2601  0.4  0.30             0.00\n",
      "37 2025-03-30          H4        0.2601  0.3  0.25           306.08\n",
      "         Date HouseholdID  DynamicPrice    SP    BP  RemainingSupply\n",
      "27 2025-03-30          H3        0.2601  0.10  0.05             0.00\n",
      "47 2025-03-30          H5        0.2601  0.05  0.10           896.29\n",
      "         Date HouseholdID  DynamicPrice   SP    BP  RemainingDemand\n",
      "7  2025-03-30          H1        0.2601  0.2  0.15              0.0\n",
      "17 2025-03-30          H2        0.2601  0.4  0.30              0.0\n",
      "37 2025-03-30          H4        0.2601  0.3  0.25              0.0\n",
      "         Date HouseholdID  DynamicPrice    SP    BP  RemainingSupply\n",
      "27 2025-03-30          H3        0.2601  0.10  0.05             0.00\n",
      "47 2025-03-30          H5        0.2601  0.05  0.10           216.52\n",
      "         Date HouseholdID  DynamicPrice   SP    BP  RemainingDemand\n",
      "7  2025-03-30          H1        0.2601  0.2  0.15           126.39\n",
      "17 2025-03-30          H2        0.2601  0.4  0.30             0.00\n",
      "37 2025-03-30          H4        0.2601  0.3  0.25             0.00\n",
      "         Date HouseholdID  DynamicPrice    SP    BP  RemainingSupply\n",
      "27 2025-03-30          H3        0.2601  0.10  0.05             0.00\n",
      "47 2025-03-30          H5        0.2601  0.05  0.10           342.91\n",
      "         Date HouseholdID  DynamicPrice   SP    BP  RemainingDemand\n",
      "7  2025-03-30          H1        0.2601  0.2  0.15              0.0\n",
      "17 2025-03-30          H2        0.2601  0.4  0.30              0.0\n",
      "37 2025-03-30          H4        0.2601  0.3  0.25              0.0\n",
      "         Date HouseholdID  DynamicPrice    SP    BP  RemainingSupply\n",
      "27 2025-03-30          H3        0.2601  0.10  0.05           216.52\n",
      "47 2025-03-30          H5        0.2601  0.05  0.10             0.00\n",
      "         Date HouseholdID  DynamicPrice   SP    BP  RemainingDemand\n",
      "7  2025-03-30          H1        0.2601  0.2  0.15            30.78\n",
      "17 2025-03-30          H2        0.2601  0.4  0.30             0.00\n",
      "37 2025-03-30          H4        0.2601  0.3  0.25             0.00\n",
      "         Date HouseholdID  DynamicPrice    SP    BP  RemainingSupply\n",
      "27 2025-03-30          H3        0.2601  0.10  0.05            247.3\n",
      "47 2025-03-30          H5        0.2601  0.05  0.10              0.0\n",
      "         Date HouseholdID  DynamicPrice   SP    BP  RemainingDemand\n",
      "7  2025-03-30          H1        0.2601  0.2  0.15           373.69\n",
      "17 2025-03-30          H2        0.2601  0.4  0.30             0.00\n",
      "37 2025-03-30          H4        0.2601  0.3  0.25             0.00\n",
      "         Date HouseholdID  DynamicPrice    SP    BP  RemainingSupply\n",
      "27 2025-03-30          H3        0.2601  0.10  0.05           247.30\n",
      "47 2025-03-30          H5        0.2601  0.05  0.10           342.91\n",
      "         Date HouseholdID  DynamicPrice   SP    BP  RemainingDemand\n",
      "7  2025-03-30          H1        0.2601  0.2  0.15           373.69\n",
      "17 2025-03-30          H2        0.2601  0.4  0.30             0.00\n",
      "37 2025-03-30          H4        0.2601  0.3  0.25           553.38\n",
      "         Date HouseholdID  DynamicPrice    SP    BP  RemainingSupply\n",
      "27 2025-03-30          H3        0.2601  0.10  0.05           247.30\n",
      "47 2025-03-30          H5        0.2601  0.05  0.10           896.29\n",
      "         Date HouseholdID  DynamicPrice   SP    BP  RemainingDemand\n",
      "7  2025-03-30          H1        0.2601  0.2  0.15              0.0\n",
      "17 2025-03-30          H2        0.2601  0.4  0.30              0.0\n",
      "37 2025-03-30          H4        0.2601  0.3  0.25              0.0\n",
      "         Date HouseholdID  DynamicPrice    SP    BP  RemainingSupply\n",
      "27 2025-03-30          H3        0.2601  0.10  0.05             0.56\n",
      "47 2025-03-30          H5        0.2601  0.05  0.10           215.96\n",
      "         Date HouseholdID  DynamicPrice   SP    BP  RemainingDemand\n",
      "7  2025-03-30          H1        0.2601  0.2  0.15              0.0\n",
      "17 2025-03-30          H2        0.2601  0.4  0.30              0.0\n",
      "37 2025-03-30          H4        0.2601  0.3  0.25              0.0\n",
      "         Date HouseholdID  DynamicPrice    SP    BP  RemainingSupply\n",
      "27 2025-03-30          H3        0.2601  0.10  0.05           216.52\n",
      "47 2025-03-30          H5        0.2601  0.05  0.10             0.00\n",
      "         Date HouseholdID  DynamicPrice   SP    BP  RemainingDemand\n",
      "7  2025-03-30          H1        0.2601  0.2  0.15             0.00\n",
      "17 2025-03-30          H2        0.2601  0.4  0.30             0.00\n",
      "37 2025-03-30          H4        0.2601  0.3  0.25           337.42\n",
      "         Date HouseholdID  DynamicPrice    SP    BP  RemainingSupply\n",
      "27 2025-03-30          H3        0.2601  0.10  0.05           553.94\n",
      "47 2025-03-30          H5        0.2601  0.05  0.10             0.00\n",
      "         Date HouseholdID  DynamicPrice   SP    BP  RemainingDemand\n",
      "7  2025-03-30          H1        0.2601  0.2  0.15             0.00\n",
      "17 2025-03-30          H2        0.2601  0.4  0.30             0.00\n",
      "37 2025-03-30          H4        0.2601  0.3  0.25           553.38\n",
      "         Date HouseholdID  DynamicPrice    SP    BP  RemainingSupply\n",
      "27 2025-03-30          H3        0.2601  0.10  0.05           553.94\n",
      "47 2025-03-30          H5        0.2601  0.05  0.10           215.96\n",
      "         Date HouseholdID  DynamicPrice   SP    BP  RemainingDemand\n",
      "7  2025-03-30          H1        0.2601  0.2  0.15              0.0\n",
      "17 2025-03-30          H2        0.2601  0.4  0.30              0.0\n",
      "37 2025-03-30          H4        0.2601  0.3  0.25              0.0\n",
      "         Date HouseholdID  DynamicPrice    SP    BP  RemainingSupply\n",
      "27 2025-03-30          H3        0.2601  0.10  0.05           216.52\n",
      "47 2025-03-30          H5        0.2601  0.05  0.10             0.00\n",
      "         Date HouseholdID  DynamicPrice   SP    BP  RemainingDemand\n",
      "7  2025-03-30          H1        0.2601  0.2  0.15             0.00\n",
      "17 2025-03-30          H2        0.2601  0.4  0.30             0.00\n",
      "37 2025-03-30          H4        0.2601  0.3  0.25           553.38\n",
      "         Date HouseholdID  DynamicPrice    SP    BP  RemainingSupply\n",
      "27 2025-03-30          H3        0.2601  0.10  0.05            769.9\n",
      "47 2025-03-30          H5        0.2601  0.05  0.10              0.0\n",
      "         Date HouseholdID  DynamicPrice   SP    BP  RemainingDemand\n",
      "7  2025-03-30          H1        0.2601  0.2  0.15              0.0\n",
      "17 2025-03-30          H2        0.2601  0.4  0.30              0.0\n",
      "37 2025-03-30          H4        0.2601  0.3  0.25              0.0\n",
      "         Date HouseholdID  DynamicPrice    SP    BP  RemainingSupply\n",
      "27 2025-03-30          H3        0.2601  0.10  0.05           216.52\n",
      "47 2025-03-30          H5        0.2601  0.05  0.10             0.00\n",
      "         Date HouseholdID  DynamicPrice   SP    BP  RemainingDemand\n",
      "7  2025-03-30          H1        0.2601  0.2  0.15           157.73\n",
      "17 2025-03-30          H2        0.2601  0.4  0.30             0.00\n",
      "37 2025-03-30          H4        0.2601  0.3  0.25             0.00\n",
      "         Date HouseholdID  DynamicPrice    SP    BP  RemainingSupply\n",
      "27 2025-03-30          H3        0.2601  0.10  0.05           374.25\n",
      "47 2025-03-30          H5        0.2601  0.05  0.10             0.00\n",
      "         Date HouseholdID  DynamicPrice   SP    BP  RemainingDemand\n",
      "7  2025-03-30          H1        0.2601  0.2  0.15           157.73\n",
      "17 2025-03-30          H2        0.2601  0.4  0.30             0.00\n",
      "37 2025-03-30          H4        0.2601  0.3  0.25           553.38\n",
      "         Date HouseholdID  DynamicPrice    SP    BP  RemainingSupply\n",
      "27 2025-03-30          H3        0.2601  0.10  0.05           927.63\n",
      "47 2025-03-30          H5        0.2601  0.05  0.10             0.00\n",
      "         Date HouseholdID  DynamicPrice   SP    BP  RemainingDemand\n",
      "7  2025-03-30          H1        0.2601  0.2  0.15              0.0\n",
      "17 2025-03-30          H2        0.2601  0.4  0.30              0.0\n",
      "37 2025-03-30          H4        0.2601  0.3  0.25              0.0\n",
      "         Date HouseholdID  DynamicPrice    SP    BP  RemainingSupply\n",
      "27 2025-03-30          H3        0.2601  0.10  0.05             0.56\n",
      "47 2025-03-30          H5        0.2601  0.05  0.10           215.96\n",
      "         Date HouseholdID  DynamicPrice   SP    BP  RemainingDemand\n",
      "7  2025-03-30          H1        0.2601  0.2  0.15              0.0\n",
      "17 2025-03-30          H2        0.2601  0.4  0.30              0.0\n",
      "37 2025-03-30          H4        0.2601  0.3  0.25              0.0\n",
      "         Date HouseholdID  DynamicPrice    SP    BP  RemainingSupply\n",
      "27 2025-03-30          H3        0.2601  0.10  0.05           216.52\n",
      "47 2025-03-30          H5        0.2601  0.05  0.10             0.00\n",
      "         Date HouseholdID  DynamicPrice   SP    BP  RemainingDemand\n",
      "7  2025-03-30          H1        0.2601  0.2  0.15           157.73\n",
      "17 2025-03-30          H2        0.2601  0.4  0.30             0.00\n",
      "37 2025-03-30          H4        0.2601  0.3  0.25             0.00\n",
      "         Date HouseholdID  DynamicPrice    SP    BP  RemainingSupply\n",
      "27 2025-03-30          H3        0.2601  0.10  0.05           374.25\n",
      "47 2025-03-30          H5        0.2601  0.05  0.10             0.00\n",
      "         Date HouseholdID  DynamicPrice   SP    BP  RemainingDemand\n",
      "7  2025-03-30          H1        0.2601  0.2  0.15           373.69\n",
      "17 2025-03-30          H2        0.2601  0.4  0.30             0.00\n",
      "37 2025-03-30          H4        0.2601  0.3  0.25             0.00\n",
      "         Date HouseholdID  DynamicPrice    SP    BP  RemainingSupply\n",
      "27 2025-03-30          H3        0.2601  0.10  0.05           374.25\n",
      "47 2025-03-30          H5        0.2601  0.05  0.10           215.96\n",
      "         Date HouseholdID  DynamicPrice   SP    BP  RemainingDemand\n",
      "7  2025-03-30          H1        0.2601  0.2  0.15              0.0\n",
      "17 2025-03-30          H2        0.2601  0.4  0.30              0.0\n",
      "37 2025-03-30          H4        0.2601  0.3  0.25              0.0\n",
      "         Date HouseholdID  DynamicPrice    SP    BP  RemainingSupply\n",
      "27 2025-03-30          H3        0.2601  0.10  0.05           216.52\n",
      "47 2025-03-30          H5        0.2601  0.05  0.10             0.00\n",
      "         Date HouseholdID  DynamicPrice   SP    BP  RemainingDemand\n",
      "7  2025-03-30          H1        0.2601  0.2  0.15             0.00\n",
      "17 2025-03-30          H2        0.2601  0.4  0.30             0.00\n",
      "37 2025-03-30          H4        0.2601  0.3  0.25           337.42\n",
      "         Date HouseholdID  DynamicPrice    SP    BP  RemainingSupply\n",
      "27 2025-03-30          H3        0.2601  0.10  0.05           553.94\n",
      "47 2025-03-30          H5        0.2601  0.05  0.10             0.00\n",
      "         Date HouseholdID  DynamicPrice   SP    BP  RemainingDemand\n",
      "7  2025-03-30          H1        0.2601  0.2  0.15              0.0\n",
      "17 2025-03-30          H2        0.2601  0.4  0.30              0.0\n",
      "37 2025-03-30          H4        0.2601  0.3  0.25              0.0\n",
      "         Date HouseholdID  DynamicPrice    SP    BP  RemainingSupply\n",
      "27 2025-03-30          H3        0.2601  0.10  0.05           216.52\n",
      "47 2025-03-30          H5        0.2601  0.05  0.10             0.00\n",
      "         Date HouseholdID  DynamicPrice   SP    BP  RemainingDemand\n",
      "7  2025-03-30          H1        0.2601  0.2  0.15           373.69\n",
      "17 2025-03-30          H2        0.2601  0.4  0.30             0.00\n",
      "37 2025-03-30          H4        0.2601  0.3  0.25             0.00\n",
      "         Date HouseholdID  DynamicPrice    SP    BP  RemainingSupply\n",
      "27 2025-03-30          H3        0.2601  0.10  0.05           590.21\n",
      "47 2025-03-30          H5        0.2601  0.05  0.10             0.00\n",
      "         Date HouseholdID  DynamicPrice   SP    BP  RemainingDemand\n",
      "7  2025-03-30          H1        0.2601  0.2  0.15           373.69\n",
      "17 2025-03-30          H2        0.2601  0.4  0.30             0.00\n",
      "37 2025-03-30          H4        0.2601  0.3  0.25           337.42\n",
      "         Date HouseholdID  DynamicPrice    SP    BP  RemainingSupply\n",
      "27 2025-03-30          H3        0.2601  0.10  0.05           927.63\n",
      "47 2025-03-30          H5        0.2601  0.05  0.10             0.00\n",
      "         Date HouseholdID  DynamicPrice   SP    BP  RemainingDemand\n",
      "7  2025-03-30          H1        0.2601  0.2  0.15           373.69\n",
      "17 2025-03-30          H2        0.2601  0.4  0.30             0.00\n",
      "37 2025-03-30          H4        0.2601  0.3  0.25           553.38\n",
      "         Date HouseholdID  DynamicPrice    SP    BP  RemainingSupply\n",
      "27 2025-03-30          H3        0.2601  0.10  0.05           927.63\n",
      "47 2025-03-30          H5        0.2601  0.05  0.10           215.96\n",
      "         Date HouseholdID  DynamicPrice   SP    BP  RemainingDemand\n",
      "7  2025-03-30          H1        0.2601  0.2  0.15              0.0\n",
      "17 2025-03-30          H2        0.2601  0.4  0.30              0.0\n",
      "37 2025-03-30          H4        0.2601  0.3  0.25              0.0\n",
      "         Date HouseholdID  DynamicPrice    SP    BP  RemainingSupply\n",
      "27 2025-03-30          H3        0.2601  0.10  0.05             0.00\n",
      "47 2025-03-30          H5        0.2601  0.05  0.10           216.52\n",
      "         Date HouseholdID  DynamicPrice   SP    BP  RemainingDemand\n",
      "7  2025-03-30          H1        0.2601  0.2  0.15             0.00\n",
      "17 2025-03-30          H2        0.2601  0.4  0.30           679.77\n",
      "37 2025-03-30          H4        0.2601  0.3  0.25             0.00\n",
      "         Date HouseholdID  DynamicPrice    SP    BP  RemainingSupply\n",
      "27 2025-03-30          H3        0.2601  0.10  0.05             0.00\n",
      "47 2025-03-30          H5        0.2601  0.05  0.10           896.29\n",
      "         Date HouseholdID  DynamicPrice   SP    BP  RemainingDemand\n",
      "7  2025-03-30          H1        0.2601  0.2  0.15              0.0\n",
      "17 2025-03-30          H2        0.2601  0.4  0.30              0.0\n",
      "37 2025-03-30          H4        0.2601  0.3  0.25              0.0\n",
      "         Date HouseholdID  DynamicPrice    SP    BP  RemainingSupply\n",
      "27 2025-03-30          H3        0.2601  0.10  0.05             0.56\n",
      "47 2025-03-30          H5        0.2601  0.05  0.10           215.96\n",
      "         Date HouseholdID  DynamicPrice   SP    BP  RemainingDemand\n",
      "7  2025-03-30          H1        0.2601  0.2  0.15             0.00\n",
      "17 2025-03-30          H2        0.2601  0.4  0.30           680.33\n",
      "37 2025-03-30          H4        0.2601  0.3  0.25             0.00\n",
      "         Date HouseholdID  DynamicPrice    SP    BP  RemainingSupply\n",
      "27 2025-03-30          H3        0.2601  0.10  0.05             0.56\n",
      "47 2025-03-30          H5        0.2601  0.05  0.10           896.29\n",
      "         Date HouseholdID  DynamicPrice   SP    BP  RemainingDemand\n",
      "7  2025-03-30          H1        0.2601  0.2  0.15              0.0\n",
      "17 2025-03-30          H2        0.2601  0.4  0.30              0.0\n",
      "37 2025-03-30          H4        0.2601  0.3  0.25              0.0\n",
      "         Date HouseholdID  DynamicPrice    SP    BP  RemainingSupply\n",
      "27 2025-03-30          H3        0.2601  0.10  0.05             0.00\n",
      "47 2025-03-30          H5        0.2601  0.05  0.10           216.52\n",
      "         Date HouseholdID  DynamicPrice   SP    BP  RemainingDemand\n",
      "7  2025-03-30          H1        0.2601  0.2  0.15             0.00\n",
      "17 2025-03-30          H2        0.2601  0.4  0.30           306.08\n",
      "37 2025-03-30          H4        0.2601  0.3  0.25             0.00\n",
      "         Date HouseholdID  DynamicPrice    SP    BP  RemainingSupply\n",
      "27 2025-03-30          H3        0.2601  0.10  0.05              0.0\n",
      "47 2025-03-30          H5        0.2601  0.05  0.10            522.6\n",
      "         Date HouseholdID  DynamicPrice   SP    BP  RemainingDemand\n",
      "7  2025-03-30          H1        0.2601  0.2  0.15              0.0\n",
      "17 2025-03-30          H2        0.2601  0.4  0.30              0.0\n",
      "37 2025-03-30          H4        0.2601  0.3  0.25              0.0\n",
      "         Date HouseholdID  DynamicPrice    SP    BP  RemainingSupply\n",
      "27 2025-03-30          H3        0.2601  0.10  0.05           216.52\n",
      "47 2025-03-30          H5        0.2601  0.05  0.10             0.00\n",
      "         Date HouseholdID  DynamicPrice   SP    BP  RemainingDemand\n",
      "7  2025-03-30          H1        0.2601  0.2  0.15             0.00\n",
      "17 2025-03-30          H2        0.2601  0.4  0.30           157.73\n",
      "37 2025-03-30          H4        0.2601  0.3  0.25             0.00\n",
      "         Date HouseholdID  DynamicPrice    SP    BP  RemainingSupply\n",
      "27 2025-03-30          H3        0.2601  0.10  0.05           374.25\n",
      "47 2025-03-30          H5        0.2601  0.05  0.10             0.00\n",
      "         Date HouseholdID  DynamicPrice   SP    BP  RemainingDemand\n",
      "7  2025-03-30          H1        0.2601  0.2  0.15             0.00\n",
      "17 2025-03-30          H2        0.2601  0.4  0.30           680.33\n",
      "37 2025-03-30          H4        0.2601  0.3  0.25             0.00\n",
      "         Date HouseholdID  DynamicPrice    SP    BP  RemainingSupply\n",
      "27 2025-03-30          H3        0.2601  0.10  0.05           374.25\n",
      "47 2025-03-30          H5        0.2601  0.05  0.10           522.60\n",
      "         Date HouseholdID  DynamicPrice   SP    BP  RemainingDemand\n",
      "7  2025-03-30          H1        0.2601  0.2  0.15              0.0\n",
      "17 2025-03-30          H2        0.2601  0.4  0.30              0.0\n",
      "37 2025-03-30          H4        0.2601  0.3  0.25              0.0\n",
      "         Date HouseholdID  DynamicPrice    SP    BP  RemainingSupply\n",
      "27 2025-03-30          H3        0.2601  0.10  0.05             0.00\n",
      "47 2025-03-30          H5        0.2601  0.05  0.10           216.52\n",
      "         Date HouseholdID  DynamicPrice   SP    BP  RemainingDemand\n",
      "7  2025-03-30          H1        0.2601  0.2  0.15             0.00\n",
      "17 2025-03-30          H2        0.2601  0.4  0.30           306.08\n",
      "37 2025-03-30          H4        0.2601  0.3  0.25             0.00\n",
      "         Date HouseholdID  DynamicPrice    SP    BP  RemainingSupply\n",
      "27 2025-03-30          H3        0.2601  0.10  0.05              0.0\n",
      "47 2025-03-30          H5        0.2601  0.05  0.10            522.6\n",
      "         Date HouseholdID  DynamicPrice   SP    BP  RemainingDemand\n",
      "7  2025-03-30          H1        0.2601  0.2  0.15              0.0\n",
      "17 2025-03-30          H2        0.2601  0.4  0.30              0.0\n",
      "37 2025-03-30          H4        0.2601  0.3  0.25              0.0\n",
      "         Date HouseholdID  DynamicPrice    SP    BP  RemainingSupply\n",
      "27 2025-03-30          H3        0.2601  0.10  0.05             0.00\n",
      "47 2025-03-30          H5        0.2601  0.05  0.10           216.52\n",
      "         Date HouseholdID  DynamicPrice   SP    BP  RemainingDemand\n",
      "7  2025-03-30          H1        0.2601  0.2  0.15           373.69\n",
      "17 2025-03-30          H2        0.2601  0.4  0.30             0.00\n",
      "37 2025-03-30          H4        0.2601  0.3  0.25             0.00\n",
      "         Date HouseholdID  DynamicPrice    SP    BP  RemainingSupply\n",
      "27 2025-03-30          H3        0.2601  0.10  0.05             0.00\n",
      "47 2025-03-30          H5        0.2601  0.05  0.10           590.21\n",
      "         Date HouseholdID  DynamicPrice   SP    BP  RemainingDemand\n",
      "7  2025-03-30          H1        0.2601  0.2  0.15           373.69\n",
      "17 2025-03-30          H2        0.2601  0.4  0.30           306.08\n",
      "37 2025-03-30          H4        0.2601  0.3  0.25             0.00\n",
      "         Date HouseholdID  DynamicPrice    SP    BP  RemainingSupply\n",
      "27 2025-03-30          H3        0.2601  0.10  0.05             0.00\n",
      "47 2025-03-30          H5        0.2601  0.05  0.10           896.29\n",
      "         Date HouseholdID  DynamicPrice   SP    BP  RemainingDemand\n",
      "7  2025-03-30          H1        0.2601  0.2  0.15              0.0\n",
      "17 2025-03-30          H2        0.2601  0.4  0.30              0.0\n",
      "37 2025-03-30          H4        0.2601  0.3  0.25              0.0\n",
      "         Date HouseholdID  DynamicPrice    SP    BP  RemainingSupply\n",
      "27 2025-03-30          H3        0.2601  0.10  0.05             0.56\n",
      "47 2025-03-30          H5        0.2601  0.05  0.10           215.96\n",
      "         Date HouseholdID  DynamicPrice   SP    BP  RemainingDemand\n",
      "7  2025-03-30          H1        0.2601  0.2  0.15              0.0\n",
      "17 2025-03-30          H2        0.2601  0.4  0.30              0.0\n",
      "37 2025-03-30          H4        0.2601  0.3  0.25              0.0\n",
      "         Date HouseholdID  DynamicPrice    SP    BP  RemainingSupply\n",
      "27 2025-03-30          H3        0.2601  0.10  0.05           216.52\n",
      "47 2025-03-30          H5        0.2601  0.05  0.10             0.00\n",
      "         Date HouseholdID  DynamicPrice   SP    BP  RemainingDemand\n",
      "7  2025-03-30          H1        0.2601  0.2  0.15           157.73\n",
      "17 2025-03-30          H2        0.2601  0.4  0.30             0.00\n",
      "37 2025-03-30          H4        0.2601  0.3  0.25             0.00\n",
      "         Date HouseholdID  DynamicPrice    SP    BP  RemainingSupply\n",
      "27 2025-03-30          H3        0.2601  0.10  0.05           374.25\n",
      "47 2025-03-30          H5        0.2601  0.05  0.10             0.00\n",
      "         Date HouseholdID  DynamicPrice   SP    BP  RemainingDemand\n",
      "7  2025-03-30          H1        0.2601  0.2  0.15           373.69\n",
      "17 2025-03-30          H2        0.2601  0.4  0.30             0.00\n",
      "37 2025-03-30          H4        0.2601  0.3  0.25             0.00\n",
      "         Date HouseholdID  DynamicPrice    SP    BP  RemainingSupply\n",
      "27 2025-03-30          H3        0.2601  0.10  0.05           374.25\n",
      "47 2025-03-30          H5        0.2601  0.05  0.10           215.96\n",
      "         Date HouseholdID  DynamicPrice   SP    BP  RemainingDemand\n",
      "7  2025-03-30          H1        0.2601  0.2  0.15           373.69\n",
      "17 2025-03-30          H2        0.2601  0.4  0.30           680.33\n",
      "37 2025-03-30          H4        0.2601  0.3  0.25             0.00\n",
      "         Date HouseholdID  DynamicPrice    SP    BP  RemainingSupply\n",
      "27 2025-03-30          H3        0.2601  0.10  0.05           374.25\n",
      "47 2025-03-30          H5        0.2601  0.05  0.10           896.29\n",
      "         Date HouseholdID  DynamicPrice   SP    BP  RemainingDemand\n",
      "7  2025-03-30          H1        0.2601  0.2  0.15              0.0\n",
      "17 2025-03-30          H2        0.2601  0.4  0.30              0.0\n",
      "37 2025-03-30          H4        0.2601  0.3  0.25              0.0\n",
      "         Date HouseholdID  DynamicPrice    SP    BP  RemainingSupply\n",
      "27 2025-03-30          H3        0.2601  0.10  0.05             0.00\n",
      "47 2025-03-30          H5        0.2601  0.05  0.10           216.52\n",
      "         Date HouseholdID  DynamicPrice   SP    BP  RemainingDemand\n",
      "7  2025-03-30          H1        0.2601  0.2  0.15             0.00\n",
      "17 2025-03-30          H2        0.2601  0.4  0.30           126.39\n",
      "37 2025-03-30          H4        0.2601  0.3  0.25             0.00\n",
      "         Date HouseholdID  DynamicPrice    SP    BP  RemainingSupply\n",
      "27 2025-03-30          H3        0.2601  0.10  0.05             0.00\n",
      "47 2025-03-30          H5        0.2601  0.05  0.10           342.91\n",
      "         Date HouseholdID  DynamicPrice   SP    BP  RemainingDemand\n",
      "7  2025-03-30          H1        0.2601  0.2  0.15              0.0\n",
      "17 2025-03-30          H2        0.2601  0.4  0.30              0.0\n",
      "37 2025-03-30          H4        0.2601  0.3  0.25              0.0\n",
      "         Date HouseholdID  DynamicPrice    SP    BP  RemainingSupply\n",
      "27 2025-03-30          H3        0.2601  0.10  0.05           216.52\n",
      "47 2025-03-30          H5        0.2601  0.05  0.10             0.00\n",
      "         Date HouseholdID  DynamicPrice   SP    BP  RemainingDemand\n",
      "7  2025-03-30          H1        0.2601  0.2  0.15             0.00\n",
      "17 2025-03-30          H2        0.2601  0.4  0.30           337.42\n",
      "37 2025-03-30          H4        0.2601  0.3  0.25             0.00\n",
      "         Date HouseholdID  DynamicPrice    SP    BP  RemainingSupply\n",
      "27 2025-03-30          H3        0.2601  0.10  0.05           553.94\n",
      "47 2025-03-30          H5        0.2601  0.05  0.10             0.00\n",
      "         Date HouseholdID  DynamicPrice   SP    BP  RemainingDemand\n",
      "7  2025-03-30          H1        0.2601  0.2  0.15             0.00\n",
      "17 2025-03-30          H2        0.2601  0.4  0.30           680.33\n",
      "37 2025-03-30          H4        0.2601  0.3  0.25             0.00\n",
      "         Date HouseholdID  DynamicPrice    SP    BP  RemainingSupply\n",
      "27 2025-03-30          H3        0.2601  0.10  0.05           553.94\n",
      "47 2025-03-30          H5        0.2601  0.05  0.10           342.91\n",
      "         Date HouseholdID  DynamicPrice   SP    BP  RemainingDemand\n",
      "7  2025-03-30          H1        0.2601  0.2  0.15              0.0\n",
      "17 2025-03-30          H2        0.2601  0.4  0.30              0.0\n",
      "37 2025-03-30          H4        0.2601  0.3  0.25              0.0\n",
      "         Date HouseholdID  DynamicPrice    SP    BP  RemainingSupply\n",
      "27 2025-03-30          H3        0.2601  0.10  0.05           216.52\n",
      "47 2025-03-30          H5        0.2601  0.05  0.10             0.00\n",
      "         Date HouseholdID  DynamicPrice   SP    BP  RemainingDemand\n",
      "7  2025-03-30          H1        0.2601  0.2  0.15             0.00\n",
      "17 2025-03-30          H2        0.2601  0.4  0.30           680.33\n",
      "37 2025-03-30          H4        0.2601  0.3  0.25             0.00\n",
      "         Date HouseholdID  DynamicPrice    SP    BP  RemainingSupply\n",
      "27 2025-03-30          H3        0.2601  0.10  0.05           896.85\n",
      "47 2025-03-30          H5        0.2601  0.05  0.10             0.00\n",
      "         Date HouseholdID  DynamicPrice   SP    BP  RemainingDemand\n",
      "7  2025-03-30          H1        0.2601  0.2  0.15              0.0\n",
      "17 2025-03-30          H2        0.2601  0.4  0.30              0.0\n",
      "37 2025-03-30          H4        0.2601  0.3  0.25              0.0\n",
      "         Date HouseholdID  DynamicPrice    SP    BP  RemainingSupply\n",
      "27 2025-03-30          H3        0.2601  0.10  0.05           216.52\n",
      "47 2025-03-30          H5        0.2601  0.05  0.10             0.00\n",
      "         Date HouseholdID  DynamicPrice   SP    BP  RemainingDemand\n",
      "7  2025-03-30          H1        0.2601  0.2  0.15            30.78\n",
      "17 2025-03-30          H2        0.2601  0.4  0.30             0.00\n",
      "37 2025-03-30          H4        0.2601  0.3  0.25             0.00\n",
      "         Date HouseholdID  DynamicPrice    SP    BP  RemainingSupply\n",
      "27 2025-03-30          H3        0.2601  0.10  0.05            247.3\n",
      "47 2025-03-30          H5        0.2601  0.05  0.10              0.0\n",
      "         Date HouseholdID  DynamicPrice   SP    BP  RemainingDemand\n",
      "7  2025-03-30          H1        0.2601  0.2  0.15            30.78\n",
      "17 2025-03-30          H2        0.2601  0.4  0.30           680.33\n",
      "37 2025-03-30          H4        0.2601  0.3  0.25             0.00\n",
      "         Date HouseholdID  DynamicPrice    SP    BP  RemainingSupply\n",
      "27 2025-03-30          H3        0.2601  0.10  0.05           927.63\n",
      "47 2025-03-30          H5        0.2601  0.05  0.10             0.00\n",
      "         Date HouseholdID  DynamicPrice   SP    BP  RemainingDemand\n",
      "7  2025-03-30          H1        0.2601  0.2  0.15              0.0\n",
      "17 2025-03-30          H2        0.2601  0.4  0.30              0.0\n",
      "37 2025-03-30          H4        0.2601  0.3  0.25              0.0\n",
      "         Date HouseholdID  DynamicPrice    SP    BP  RemainingSupply\n",
      "27 2025-03-30          H3        0.2601  0.10  0.05             0.00\n",
      "47 2025-03-30          H5        0.2601  0.05  0.10           216.52\n",
      "         Date HouseholdID  DynamicPrice   SP    BP  RemainingDemand\n",
      "7  2025-03-30          H1        0.2601  0.2  0.15           126.39\n",
      "17 2025-03-30          H2        0.2601  0.4  0.30             0.00\n",
      "37 2025-03-30          H4        0.2601  0.3  0.25             0.00\n",
      "         Date HouseholdID  DynamicPrice    SP    BP  RemainingSupply\n",
      "27 2025-03-30          H3        0.2601  0.10  0.05             0.00\n",
      "47 2025-03-30          H5        0.2601  0.05  0.10           342.91\n",
      "         Date HouseholdID  DynamicPrice   SP    BP  RemainingDemand\n",
      "7  2025-03-30          H1        0.2601  0.2  0.15              0.0\n",
      "17 2025-03-30          H2        0.2601  0.4  0.30              0.0\n",
      "37 2025-03-30          H4        0.2601  0.3  0.25              0.0\n",
      "         Date HouseholdID  DynamicPrice    SP    BP  RemainingSupply\n",
      "27 2025-03-30          H3        0.2601  0.10  0.05           216.52\n",
      "47 2025-03-30          H5        0.2601  0.05  0.10             0.00\n",
      "         Date HouseholdID  DynamicPrice   SP    BP  RemainingDemand\n",
      "7  2025-03-30          H1        0.2601  0.2  0.15            30.78\n",
      "17 2025-03-30          H2        0.2601  0.4  0.30             0.00\n",
      "37 2025-03-30          H4        0.2601  0.3  0.25             0.00\n",
      "         Date HouseholdID  DynamicPrice    SP    BP  RemainingSupply\n",
      "27 2025-03-30          H3        0.2601  0.10  0.05            247.3\n",
      "47 2025-03-30          H5        0.2601  0.05  0.10              0.0\n",
      "         Date HouseholdID  DynamicPrice   SP    BP  RemainingDemand\n",
      "7  2025-03-30          H1        0.2601  0.2  0.15           373.69\n",
      "17 2025-03-30          H2        0.2601  0.4  0.30             0.00\n",
      "37 2025-03-30          H4        0.2601  0.3  0.25             0.00\n",
      "         Date HouseholdID  DynamicPrice    SP    BP  RemainingSupply\n",
      "27 2025-03-30          H3        0.2601  0.10  0.05           247.30\n",
      "47 2025-03-30          H5        0.2601  0.05  0.10           342.91\n",
      "         Date HouseholdID  DynamicPrice   SP    BP  RemainingDemand\n",
      "7  2025-03-30          H1        0.2601  0.2  0.15              0.0\n",
      "17 2025-03-30          H2        0.2601  0.4  0.30              0.0\n",
      "37 2025-03-30          H4        0.2601  0.3  0.25              0.0\n",
      "         Date HouseholdID  DynamicPrice    SP    BP  RemainingSupply\n",
      "27 2025-03-30          H3        0.2601  0.10  0.05           216.52\n",
      "47 2025-03-30          H5        0.2601  0.05  0.10             0.00\n",
      "         Date HouseholdID  DynamicPrice   SP    BP  RemainingDemand\n",
      "7  2025-03-30          H1        0.2601  0.2  0.15             0.00\n",
      "17 2025-03-30          H2        0.2601  0.4  0.30           337.42\n",
      "37 2025-03-30          H4        0.2601  0.3  0.25             0.00\n",
      "         Date HouseholdID  DynamicPrice    SP    BP  RemainingSupply\n",
      "27 2025-03-30          H3        0.2601  0.10  0.05           553.94\n",
      "47 2025-03-30          H5        0.2601  0.05  0.10             0.00\n",
      "         Date HouseholdID  DynamicPrice   SP    BP  RemainingDemand\n",
      "7  2025-03-30          H1        0.2601  0.2  0.15              0.0\n",
      "17 2025-03-30          H2        0.2601  0.4  0.30              0.0\n",
      "37 2025-03-30          H4        0.2601  0.3  0.25              0.0\n",
      "         Date HouseholdID  DynamicPrice    SP    BP  RemainingSupply\n",
      "27 2025-03-30          H3        0.2601  0.10  0.05           216.52\n",
      "47 2025-03-30          H5        0.2601  0.05  0.10             0.00\n",
      "         Date HouseholdID  DynamicPrice   SP    BP  RemainingDemand\n",
      "7  2025-03-30          H1        0.2601  0.2  0.15           373.69\n",
      "17 2025-03-30          H2        0.2601  0.4  0.30             0.00\n",
      "37 2025-03-30          H4        0.2601  0.3  0.25             0.00\n",
      "         Date HouseholdID  DynamicPrice    SP    BP  RemainingSupply\n",
      "27 2025-03-30          H3        0.2601  0.10  0.05           590.21\n",
      "47 2025-03-30          H5        0.2601  0.05  0.10             0.00\n",
      "         Date HouseholdID  DynamicPrice   SP    BP  RemainingDemand\n",
      "7  2025-03-30          H1        0.2601  0.2  0.15           373.69\n",
      "17 2025-03-30          H2        0.2601  0.4  0.30           337.42\n",
      "37 2025-03-30          H4        0.2601  0.3  0.25             0.00\n",
      "         Date HouseholdID  DynamicPrice    SP    BP  RemainingSupply\n",
      "27 2025-03-30          H3        0.2601  0.10  0.05           927.63\n",
      "47 2025-03-30          H5        0.2601  0.05  0.10             0.00\n",
      "         Date HouseholdID  DynamicPrice   SP    BP  RemainingDemand\n",
      "7  2025-03-30          H1        0.2601  0.2  0.15           373.69\n",
      "17 2025-03-30          H2        0.2601  0.4  0.30           680.33\n",
      "37 2025-03-30          H4        0.2601  0.3  0.25             0.00\n",
      "         Date HouseholdID  DynamicPrice    SP    BP  RemainingSupply\n",
      "27 2025-03-30          H3        0.2601  0.10  0.05           927.63\n",
      "47 2025-03-30          H5        0.2601  0.05  0.10           342.91\n",
      "Optimal Trade Plan:\n",
      "  Buyer Seller  Volume (kWh)  Price ($/kWh)  Total Cost ($)\n",
      "0    H2     H5        680.33          0.175       119.05775\n",
      "1    H4     H5        215.96          0.150        32.39400\n",
      "2    H1     H3        373.69          0.125        46.71125\n",
      "3    H4     H3        337.42          0.175        59.04850\n",
      "\n",
      "Total Cost for Buyers:\n",
      "257.21149999999994\n"
     ]
    }
   ],
   "source": [
    "import pandas as pd\n",
    "\n",
    "def optimal_trade_plan(buyers, sellers, trade_plan=None):\n",
    "    if trade_plan is None:\n",
    "        trade_plan = []\n",
    "    \n",
    "    # If all buyers' demands are met or all sellers' supplies are exhausted, return the trade plan\n",
    "    if buyers['RemainingDemand'].sum() == 0 or sellers['RemainingSupply'].sum() == 0:\n",
    "        return trade_plan, sum(t['Total Cost ($)'] for t in trade_plan)\n",
    "\n",
    "    optimal_plan = None\n",
    "    optimal_cost = float('inf')\n",
    "\n",
    "    # Iterate over all possible buyer-seller pairs\n",
    "    for buyer_idx, buyer in buyers[buyers['RemainingDemand'] > 0].iterrows():\n",
    "        for seller_idx, seller in sellers[sellers['RemainingSupply'] > 0].iterrows():\n",
    "            if buyer['BP'] >= seller['SP']:  # Check if a deal is possible\n",
    "                trade_volume = min(buyer['RemainingDemand'], seller['RemainingSupply'])\n",
    "                trade_price = (buyer['BP'] + seller['SP']) / 2  # Midpoint price\n",
    "                \n",
    "                # Create a new trade plan by adding this transaction\n",
    "                new_trade = {\n",
    "                    'Buyer': buyer['HouseholdID'],\n",
    "                    'Seller': seller['HouseholdID'],\n",
    "                    'Volume (kWh)': trade_volume,\n",
    "                    'Price ($/kWh)': trade_price,\n",
    "                    'Total Cost ($)': trade_volume * trade_price\n",
    "                }\n",
    "                \n",
    "                # Update buyers and sellers\n",
    "                new_buyers = buyers.copy()\n",
    "                new_sellers = sellers.copy()\n",
    "                new_buyers.at[buyer_idx, 'RemainingDemand'] -= trade_volume\n",
    "                new_sellers.at[seller_idx, 'RemainingSupply'] -= trade_volume\n",
    "\n",
    "                # Recursively find the optimal plan for the remaining buyers and sellers\n",
    "                current_plan, current_cost = optimal_trade_plan(new_buyers, new_sellers, trade_plan + [new_trade])\n",
    "\n",
    "                # Update the optimal plan if the current plan is better\n",
    "                if current_cost < optimal_cost:\n",
    "                    optimal_plan = current_plan\n",
    "                    optimal_cost = current_cost\n",
    "                print(new_buyers)\n",
    "                print(new_sellers)\n",
    "                \n",
    "\n",
    "    return optimal_plan, optimal_cost\n",
    "\n",
    "# Prepare example weekly data with columns 'HouseholdID', 'BP', 'SP', 'RemainingDemand', 'RemainingSupply'\n",
    "# Buyers have 'RemainingDemand' > 0 and Sellers have 'RemainingSupply' > 0\n",
    "buyers = buyer\n",
    "sellers = seller\n",
    "\n",
    "# Call the function with initial buyers and sellers\n",
    "optimal_plan, total_cost = optimal_trade_plan(buyers, sellers)\n",
    "\n",
    "# Display the optimal trade plan and total cost\n",
    "optimal_plan_df = pd.DataFrame(optimal_plan)\n",
    "print(\"Optimal Trade Plan:\")\n",
    "print(optimal_plan_df)\n",
    "\n",
    "print(\"\\nTotal Cost for Buyers:\")\n",
    "print(total_cost)"
   ]
  },
  {
   "cell_type": "code",
   "execution_count": null,
   "metadata": {},
   "outputs": [],
   "source": []
  }
 ],
 "metadata": {
  "kernelspec": {
   "display_name": "base",
   "language": "python",
   "name": "python3"
  },
  "language_info": {
   "codemirror_mode": {
    "name": "ipython",
    "version": 3
   },
   "file_extension": ".py",
   "mimetype": "text/x-python",
   "name": "python",
   "nbconvert_exporter": "python",
   "pygments_lexer": "ipython3",
   "version": "3.11.7"
  }
 },
 "nbformat": 4,
 "nbformat_minor": 2
}
